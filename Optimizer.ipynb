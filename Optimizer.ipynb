{
  "nbformat": 4,
  "nbformat_minor": 0,
  "metadata": {
    "colab": {
      "provenance": [],
      "collapsed_sections": [],
      "authorship_tag": "ABX9TyNRlD8+stKeR+HedSkOBmDw",
      "include_colab_link": true
    },
    "kernelspec": {
      "name": "python3",
      "display_name": "Python 3"
    },
    "language_info": {
      "name": "python"
    }
  },
  "cells": [
    {
      "cell_type": "markdown",
      "metadata": {
        "id": "view-in-github",
        "colab_type": "text"
      },
      "source": [
        "<a href=\"https://colab.research.google.com/github/Akash743/Mathematical-Optimization/blob/main/Optimizer.ipynb\" target=\"_parent\"><img src=\"https://colab.research.google.com/assets/colab-badge.svg\" alt=\"Open In Colab\"/></a>"
      ]
    },
    {
      "cell_type": "code",
      "execution_count": 3,
      "metadata": {
        "colab": {
          "base_uri": "https://localhost:8080/"
        },
        "id": "FXNqwb5gq0cw",
        "outputId": "c98c83f3-913f-4889-e186-3ae932ed643f"
      },
      "outputs": [
        {
          "output_type": "stream",
          "name": "stdout",
          "text": [
            "Looking in indexes: https://pypi.org/simple, https://us-python.pkg.dev/colab-wheels/public/simple/\n",
            "Collecting pyomo\n",
            "  Downloading Pyomo-6.4.2-cp37-cp37m-manylinux_2_12_x86_64.manylinux2010_x86_64.whl (9.7 MB)\n",
            "\u001b[K     |████████████████████████████████| 9.7 MB 12.0 MB/s \n",
            "\u001b[?25hCollecting ply\n",
            "  Downloading ply-3.11-py2.py3-none-any.whl (49 kB)\n",
            "\u001b[K     |████████████████████████████████| 49 kB 6.8 MB/s \n",
            "\u001b[?25hInstalling collected packages: ply, pyomo\n",
            "Successfully installed ply-3.11 pyomo-6.4.2\n",
            "Selecting previously unselected package libsuitesparseconfig5:amd64.\n",
            "(Reading database ... 155685 files and directories currently installed.)\n",
            "Preparing to unpack .../libsuitesparseconfig5_1%3a5.1.2-2_amd64.deb ...\n",
            "Unpacking libsuitesparseconfig5:amd64 (1:5.1.2-2) ...\n",
            "Selecting previously unselected package libamd2:amd64.\n",
            "Preparing to unpack .../libamd2_1%3a5.1.2-2_amd64.deb ...\n",
            "Unpacking libamd2:amd64 (1:5.1.2-2) ...\n",
            "Selecting previously unselected package libcolamd2:amd64.\n",
            "Preparing to unpack .../libcolamd2_1%3a5.1.2-2_amd64.deb ...\n",
            "Unpacking libcolamd2:amd64 (1:5.1.2-2) ...\n",
            "Selecting previously unselected package libglpk40:amd64.\n",
            "Preparing to unpack .../libglpk40_4.65-1_amd64.deb ...\n",
            "Unpacking libglpk40:amd64 (4.65-1) ...\n",
            "Selecting previously unselected package glpk-utils.\n",
            "Preparing to unpack .../glpk-utils_4.65-1_amd64.deb ...\n",
            "Unpacking glpk-utils (4.65-1) ...\n",
            "Setting up libsuitesparseconfig5:amd64 (1:5.1.2-2) ...\n",
            "Setting up libcolamd2:amd64 (1:5.1.2-2) ...\n",
            "Setting up libamd2:amd64 (1:5.1.2-2) ...\n",
            "Setting up libglpk40:amd64 (4.65-1) ...\n",
            "Setting up glpk-utils (4.65-1) ...\n",
            "Processing triggers for libc-bin (2.27-3ubuntu1.5) ...\n",
            "Processing triggers for man-db (2.8.3-2ubuntu0.1) ...\n"
          ]
        }
      ],
      "source": [
        "!pip install pyomo\n",
        "!apt-get install -y -qq glpk-utils  #glpk is the solver\n",
        "!wget -N -q \"https://ampl.com/dl/open/couenne/couenne-linux64.zip\"\n",
        "!unzip -o -q couenne-linux64\n",
        "import pyomo.environ as pyo\n",
        "from pyomo.opt import SolverFactory"
      ]
    },
    {
      "cell_type": "code",
      "source": [
        "\n",
        "from pyomo.environ import *"
      ],
      "metadata": {
        "id": "GlgWD23HrGza"
      },
      "execution_count": 4,
      "outputs": []
    },
    {
      "cell_type": "markdown",
      "source": [
        "CPP = Spends/Raw Execution(RE)\n",
        "\n",
        "RE = Spends/CPP\n",
        "\n",
        "Adstocked execution = RE * Adstock factor(AF)\n",
        "= (Spends/CPP)*AF\n",
        "\n",
        "Avg adst execution = (Spends*AF/CPP)/Exec. periods\n",
        "\n",
        "Now apply transformation on Avg adst execution to get TCP\n",
        "\n",
        "Lift = TCP * Exec. periods * coeffcient\n",
        "\n",
        "Put lift in Optimization equation\n",
        "\n"
      ],
      "metadata": {
        "id": "vDl3_yv8MKPF"
      }
    },
    {
      "cell_type": "code",
      "source": [
        "## Defining the model\n",
        "import numpy as np\n",
        "#import math\n",
        "from pyomo.environ import *\n",
        "model = pyo.ConcreteModel()\n",
        "\n",
        "\n",
        "sp1 = 33150.8411764706\n",
        "sp2 = 233150.268146738\n",
        "\n",
        "\n",
        "## Decision Variables\n",
        "model.s1 = pyo.Var(within = pyo.NonNegativeReals,bounds=(.9*sp1,1.1*sp1)) \n",
        "s1 = model.s1\n",
        "model.s2 = pyo.Var(within = pyo.NonNegativeReals,bounds=(.9*sp2,1.1*sp2))\n",
        "s2 = model.s2\n",
        "\n",
        "\n",
        "expre = ((1953.64352941177/(1+exp(-(10*3/1953.64352941177)*((s1*1/47/1)-0.179872867132035*1953.64352941177))))-8.81752993140885)*0.00133831972924945*47 + ((11441.0307432077/(1+exp(-(10*1/11441.0307432077)*((s2*1/1/154)-0.202998593210211*11441.0307432077))))-1328.19344200206)*0.00245568243410747*154\n",
        "\n",
        "## Objective Function\n",
        "model.Obj = pyo.Objective(expr =expre, sense = pyo.maximize)\n",
        "\n",
        "## Constraint\n",
        "model.Const1 = pyo.Constraint(expr = s1+s2<=266301.109323209)\n",
        "\n",
        "\n",
        "\n",
        "optm = SolverFactory('couenne',executable='/content/couenne')\n",
        "results = optm.solve(model)\n",
        "\n",
        "\n",
        "\n",
        "print('objective function =', model.Obj())\n",
        "print('s1 = ',model.s1())\n",
        "print('s2 = ',model.s2())\n",
        "\n",
        "print('sum total = ',model.s1()+model.s2())"
      ],
      "metadata": {
        "colab": {
          "base_uri": "https://localhost:8080/"
        },
        "id": "3f5PVuz2rNtw",
        "outputId": "1fad7be9-a655-4603-ed33-8a15cd48614b"
      },
      "execution_count": 8,
      "outputs": [
        {
          "output_type": "stream",
          "name": "stdout",
          "text": [
            "objective function = 1065.7698788838547\n",
            "s1 =  29835.757357158283\n",
            "s2 =  236465.35226438538\n",
            "sum total =  266301.10962154367\n"
          ]
        }
      ]
    },
    {
      "cell_type": "code",
      "source": [],
      "metadata": {
        "id": "e7bPVDKqxBBd"
      },
      "execution_count": null,
      "outputs": []
    },
    {
      "cell_type": "code",
      "source": [
        "# model.s3 = pyo.Var(within = pyo.NonNegativeReals,bounds=(.7*sp3,1.3*sp3))\n",
        "# s3 = model.s3\n",
        "# model.s4 = pyo.Var(within = pyo.NonNegativeReals,bounds=(.7*sp4,1.3*sp4))\n",
        "# s4 = model.s4\n",
        "# model.s5 = pyo.Var(within = pyo.NonNegativeReals,bounds=(.7*sp5,1.3*sp5))\n",
        "# s5 = model.s5\n",
        "# model.s6 = pyo.Var(within = pyo.NonNegativeReals,bounds=(.7*sp6,1.3*sp6))\n",
        "# s6 = model.s6"
      ],
      "metadata": {
        "id": "GOSfnaKPtjcK"
      },
      "execution_count": null,
      "outputs": []
    },
    {
      "cell_type": "code",
      "source": [],
      "metadata": {
        "id": "6aJx9n1AWXLq"
      },
      "execution_count": null,
      "outputs": []
    }
  ]
}