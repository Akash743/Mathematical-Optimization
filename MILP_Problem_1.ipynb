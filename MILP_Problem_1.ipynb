{
  "nbformat": 4,
  "nbformat_minor": 0,
  "metadata": {
    "colab": {
      "name": "MILP_Problem-1.ipynb",
      "provenance": [],
      "authorship_tag": "ABX9TyOdvn8aYhHpRG3htBkdobCO",
      "include_colab_link": true
    },
    "kernelspec": {
      "name": "python3",
      "display_name": "Python 3"
    },
    "language_info": {
      "name": "python"
    }
  },
  "cells": [
    {
      "cell_type": "markdown",
      "metadata": {
        "id": "view-in-github",
        "colab_type": "text"
      },
      "source": [
        "<a href=\"https://colab.research.google.com/github/Akash743/Mathematical-Optimization/blob/main/MILP_Problem_1.ipynb\" target=\"_parent\"><img src=\"https://colab.research.google.com/assets/colab-badge.svg\" alt=\"Open In Colab\"/></a>"
      ]
    },
    {
      "cell_type": "code",
      "execution_count": 1,
      "metadata": {
        "colab": {
          "base_uri": "https://localhost:8080/"
        },
        "id": "iKJCii7CcuZp",
        "outputId": "b54e88be-a83a-40c7-d98e-d59dfb1a5e35"
      },
      "outputs": [
        {
          "output_type": "stream",
          "name": "stdout",
          "text": [
            "Looking in indexes: https://pypi.org/simple, https://us-python.pkg.dev/colab-wheels/public/simple/\n",
            "Collecting pyomo\n",
            "  Downloading Pyomo-6.4.1-cp37-cp37m-manylinux_2_12_x86_64.manylinux2010_x86_64.whl (9.6 MB)\n",
            "\u001b[K     |████████████████████████████████| 9.6 MB 7.2 MB/s \n",
            "\u001b[?25hCollecting ply\n",
            "  Downloading ply-3.11-py2.py3-none-any.whl (49 kB)\n",
            "\u001b[K     |████████████████████████████████| 49 kB 5.9 MB/s \n",
            "\u001b[?25hInstalling collected packages: ply, pyomo\n",
            "Successfully installed ply-3.11 pyomo-6.4.1\n",
            "\u001b[K     |████████████████████████████████| 43.3 MB 1.5 MB/s \n",
            "\u001b[?25h"
          ]
        }
      ],
      "source": [
        "!pip install pyomo\n",
        "!pip install cplex -q\n",
        "\n",
        "import pyomo.environ as pyo\n",
        "from pyomo.opt import SolverFactory\n",
        "\n"
      ]
    },
    {
      "cell_type": "code",
      "source": [
        "model = pyo.ConcreteModel()\n",
        "\n",
        "#Sets\n",
        "model.i = pyo.Set(initialize = ['Shirts','Shorts','Pants'])\n",
        "\n",
        "#Parameters\n",
        "  #Price\n",
        "model.P = pyo.Param(model.i,initialize={'Shirts':12,'Shorts':8,'Pants':15})\n",
        "P = model.P\n",
        " #Cost\n",
        "model.Co = pyo.Param(model.i,initialize={'Shirts':6,'Shorts':4,'Pants':8})\n",
        "Co = model.Co\n",
        " #For big number M\n",
        "model.F = pyo.Param(model.i,initialize={'Shirts':200,'Shorts':150,'Pants':100})\n",
        "F = model.F\n",
        " #Labour\n",
        "model.L = pyo.Param(model.i,initialize={'Shirts':3,'Shorts':2,'Pants':6})\n",
        "L = model.L\n",
        "model.C = pyo.Param(model.i,initialize={'Shirts':4,'Shorts':3,'Pants':4})\n",
        "  #Cloth\n",
        "C = model.C\n",
        "model.M = pyo.Param(model.i,initialize={'Shirts':40,'Shorts':53,'Pants':25})\n",
        "M = model.M\n",
        "\n"
      ],
      "metadata": {
        "id": "fSbQEGQZcwnP"
      },
      "execution_count": 3,
      "outputs": []
    },
    {
      "cell_type": "code",
      "source": [
        "#Decision Variables\n",
        "model.x = pyo.Var(model.i,domain = pyo.Integers)\n",
        "x = model.x\n",
        "model.y = pyo.Var(model.i, domain = pyo.Binary)\n",
        "y = model.y\n",
        "\n"
      ],
      "metadata": {
        "id": "nk58_D68cwyZ"
      },
      "execution_count": 4,
      "outputs": []
    },
    {
      "cell_type": "code",
      "source": [
        "#Objective Function\n",
        "def Objective_rule(model,i):\n",
        "  return sum(P[i]*x[i] for i in model.i) - sum(Co[i]*x[i] for i in model.i) - sum(F[i]*y[i] for i in model.i)\n",
        "model.Objf = pyo.Objective(rule = Objective_rule, sense = pyo.maximize)\n",
        "\n"
      ],
      "metadata": {
        "id": "Ibz6LZO6c6lw"
      },
      "execution_count": 5,
      "outputs": []
    },
    {
      "cell_type": "code",
      "source": [
        "#Constraints\n",
        "def Constraint1(model,i):\n",
        "  return sum(L[i]*x[i] for i in model.i) <= 150\n",
        "model.Const1 = pyo.Constraint(model.i,rule = Constraint1)\n",
        "\n",
        "def Constraint2(model,i):\n",
        "  return sum(C[i]*x[i] for i in model.i) <= 160\n",
        "model.Const2 = pyo.Constraint(model.i,rule = Constraint2)\n",
        "\n",
        "def Constraint3(model,i):\n",
        "  return x[i] <= M[i]*y[i]\n",
        "model.Const3 = pyo.Constraint(model.i,rule = Constraint3)\n",
        "\n"
      ],
      "metadata": {
        "id": "_JKSvSy_c9EW"
      },
      "execution_count": 6,
      "outputs": []
    },
    {
      "cell_type": "code",
      "source": [
        "Solver = SolverFactory('cplex_direct')\n",
        "results = Solver.solve(model , tee=True)\n",
        "\n",
        "print(results)\n",
        "print('Objective Function = ', model.Objf())\n",
        "for i in model.i:\n",
        "  print('Number of',i,'Produced Each Week = ',x[i]())"
      ],
      "metadata": {
        "id": "m5nxx5Zmc_kE",
        "colab": {
          "base_uri": "https://localhost:8080/"
        },
        "outputId": "43a0ffed-b26e-4862-fb3b-f8f3837082f5"
      },
      "execution_count": 7,
      "outputs": [
        {
          "output_type": "stream",
          "name": "stdout",
          "text": [
            "Version identifier: 22.1.0.0 | 2022-03-25 | 54982fbec\n",
            "CPXPARAM_Read_DataCheck                          1\n",
            "Found incumbent of value 0.000000 after 0.00 sec. (0.00 ticks)\n",
            "Tried aggregator 1 time.\n",
            "MIP Presolve eliminated 4 rows and 0 columns.\n",
            "Reduced MIP has 5 rows, 6 columns, and 12 nonzeros.\n",
            "Reduced MIP has 3 binaries, 3 generals, 0 SOSs, and 0 indicators.\n",
            "Presolve time = 0.00 sec. (0.01 ticks)\n",
            "Probing time = 0.00 sec. (0.00 ticks)\n",
            "Tried aggregator 1 time.\n",
            "Reduced MIP has 5 rows, 6 columns, and 12 nonzeros.\n",
            "Reduced MIP has 3 binaries, 3 generals, 0 SOSs, and 0 indicators.\n",
            "Presolve time = 0.00 sec. (0.01 ticks)\n",
            "Probing time = 0.00 sec. (0.00 ticks)\n",
            "MIP emphasis: balance optimality and feasibility.\n",
            "MIP search method: dynamic search.\n",
            "Parallel mode: deterministic, using up to 2 threads.\n",
            "Root relaxation solution time = 0.00 sec. (0.01 ticks)\n",
            "\n",
            "        Nodes                                         Cuts/\n",
            "   Node  Left     Objective  IInf  Best Integer    Best Bound    ItCnt     Gap\n",
            "\n",
            "*     0+    0                            0.0000      627.0000              --- \n",
            "      0     0       81.1132     2        0.0000       81.1132        6     --- \n",
            "*     0     0      integral     0       75.0000       Cuts: 3        7    0.00%\n",
            "      0     0        cutoff             75.0000       75.0000        7    0.00%\n",
            "Elapsed time = 0.01 sec. (0.06 ticks, tree = 0.01 MB, solutions = 2)\n",
            "\n",
            "Gomory fractional cuts applied:  2\n",
            "\n",
            "Root node processing (before b&c):\n",
            "  Real time             =    0.02 sec. (0.06 ticks)\n",
            "Parallel b&c, 2 threads:\n",
            "  Real time             =    0.00 sec. (0.00 ticks)\n",
            "  Sync time (average)   =    0.00 sec.\n",
            "  Wait time (average)   =    0.00 sec.\n",
            "                          ------------\n",
            "Total (root+branch&cut) =    0.02 sec. (0.06 ticks)\n",
            "\n",
            "Problem: \n",
            "- Name: \n",
            "  Lower bound: 75.00000000000031\n",
            "  Upper bound: 75.00000000000031\n",
            "  Number of objectives: 1\n",
            "  Number of constraints: 9\n",
            "  Number of variables: 6\n",
            "  Number of binary variables: 3\n",
            "  Number of integer variables: 3\n",
            "  Number of continuous variables: 0\n",
            "  Number of nonzeros: None\n",
            "  Sense: -1\n",
            "Solver: \n",
            "- Name: CPLEX 22.1.0.0\n",
            "  Status: ok\n",
            "  Wallclock time: 0.019981861114501953\n",
            "  Termination condition: optimal\n",
            "Solution: \n",
            "- number of solutions: 0\n",
            "  number of solutions displayed: 0\n",
            "\n",
            "Objective Function =  75.00000000000034\n",
            "Number of Shirts Produced Each Week =  0.0\n",
            "Number of Shorts Produced Each Week =  1.1368683772161603e-13\n",
            "Number of Pants Produced Each Week =  24.99999999999996\n"
          ]
        }
      ]
    },
    {
      "cell_type": "code",
      "source": [
        ""
      ],
      "metadata": {
        "id": "R-P9LqQJZ84E"
      },
      "execution_count": null,
      "outputs": []
    }
  ]
}