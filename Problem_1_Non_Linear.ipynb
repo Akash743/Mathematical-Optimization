{
  "nbformat": 4,
  "nbformat_minor": 0,
  "metadata": {
    "colab": {
      "name": "Problem-1.ipynb",
      "provenance": [],
      "mount_file_id": "1GqO4VCR_BHJjAd04chVEZu3SCZMsHhCq",
      "authorship_tag": "ABX9TyOQb9FpL62SSK9ciPnLL+t2",
      "include_colab_link": true
    },
    "kernelspec": {
      "name": "python3",
      "display_name": "Python 3"
    },
    "language_info": {
      "name": "python"
    }
  },
  "cells": [
    {
      "cell_type": "markdown",
      "metadata": {
        "id": "view-in-github",
        "colab_type": "text"
      },
      "source": [
        "<a href=\"https://colab.research.google.com/github/Akash743/Mathematical-Optimization/blob/main/Problem_1_Non_Linear.ipynb\" target=\"_parent\"><img src=\"https://colab.research.google.com/assets/colab-badge.svg\" alt=\"Open In Colab\"/></a>"
      ]
    },
    {
      "cell_type": "markdown",
      "source": [
        "**Optimization Problem-1**"
      ],
      "metadata": {
        "id": "8h0DHvmLzlRA"
      }
    },
    {
      "cell_type": "code",
      "execution_count": 56,
      "metadata": {
        "colab": {
          "base_uri": "https://localhost:8080/"
        },
        "id": "3arBoSgWh8rK",
        "outputId": "ea62af14-da2e-4772-cc7e-4cfc8bf949bc"
      },
      "outputs": [
        {
          "output_type": "stream",
          "name": "stdout",
          "text": [
            "Looking in indexes: https://pypi.org/simple, https://us-python.pkg.dev/colab-wheels/public/simple/\n",
            "Collecting pyomo\n",
            "  Downloading Pyomo-6.4.2-cp37-cp37m-manylinux_2_12_x86_64.manylinux2010_x86_64.whl (9.7 MB)\n",
            "\u001b[K     |████████████████████████████████| 9.7 MB 23.8 MB/s \n",
            "\u001b[?25hCollecting ply\n",
            "  Downloading ply-3.11-py2.py3-none-any.whl (49 kB)\n",
            "\u001b[K     |████████████████████████████████| 49 kB 6.1 MB/s \n",
            "\u001b[?25hInstalling collected packages: ply, pyomo\n",
            "Successfully installed ply-3.11 pyomo-6.4.2\n",
            "Selecting previously unselected package libsuitesparseconfig5:amd64.\n",
            "(Reading database ... 155685 files and directories currently installed.)\n",
            "Preparing to unpack .../libsuitesparseconfig5_1%3a5.1.2-2_amd64.deb ...\n",
            "Unpacking libsuitesparseconfig5:amd64 (1:5.1.2-2) ...\n",
            "Selecting previously unselected package libamd2:amd64.\n",
            "Preparing to unpack .../libamd2_1%3a5.1.2-2_amd64.deb ...\n",
            "Unpacking libamd2:amd64 (1:5.1.2-2) ...\n",
            "Selecting previously unselected package libcolamd2:amd64.\n",
            "Preparing to unpack .../libcolamd2_1%3a5.1.2-2_amd64.deb ...\n",
            "Unpacking libcolamd2:amd64 (1:5.1.2-2) ...\n",
            "Selecting previously unselected package libglpk40:amd64.\n",
            "Preparing to unpack .../libglpk40_4.65-1_amd64.deb ...\n",
            "Unpacking libglpk40:amd64 (4.65-1) ...\n",
            "Selecting previously unselected package glpk-utils.\n",
            "Preparing to unpack .../glpk-utils_4.65-1_amd64.deb ...\n",
            "Unpacking glpk-utils (4.65-1) ...\n",
            "Setting up libsuitesparseconfig5:amd64 (1:5.1.2-2) ...\n",
            "Setting up libcolamd2:amd64 (1:5.1.2-2) ...\n",
            "Setting up libamd2:amd64 (1:5.1.2-2) ...\n",
            "Setting up libglpk40:amd64 (4.65-1) ...\n",
            "Setting up glpk-utils (4.65-1) ...\n",
            "Processing triggers for libc-bin (2.27-3ubuntu1.5) ...\n",
            "Processing triggers for man-db (2.8.3-2ubuntu0.1) ...\n"
          ]
        }
      ],
      "source": [
        "!pip install pyomo\n",
        "!apt-get install -y -qq glpk-utils  #glpk is the solver\n"
      ]
    },
    {
      "cell_type": "code",
      "source": [
        "import pyomo.environ as pyo\n",
        "from pyomo.opt import SolverFactory"
      ],
      "metadata": {
        "id": "ZEa_TQH9iLWD"
      },
      "execution_count": 57,
      "outputs": []
    },
    {
      "cell_type": "code",
      "source": [
        "## Defining the model\n",
        "model = pyo.ConcreteModel()\n",
        "\n",
        "## Decision Variables\n",
        "model.s1 = pyo.Var(within = pyo.NonNegativeReals) \n",
        "s1 = model.s1\n",
        "model.s2 = pyo.Var(within = pyo.NonNegativeReals)\n",
        "s2 = model.s2\n",
        "\n",
        "\n",
        "## Objective Function\n",
        "model.Obj = pyo.Objective(espr = 4*s1 + 3*s2, sense = pyo.masimize)\n",
        "\n",
        "## Constraints\n",
        "model.Const1 = pyo.Constraint(espr = s1+s2<=40)\n",
        "model.Const2 = pyo.Constraint(espr = 2*s1+s2<=60)\n",
        "\n",
        "optm = SolverFactory('glpk')\n",
        "results = optm.solve(model)\n",
        "\n",
        "print(results)\n",
        "print('objective function =', model.Obj())\n",
        "print('s1 = ',model.s1())\n",
        "print('s2 = ',model.s2())\n"
      ],
      "metadata": {
        "colab": {
          "base_uri": "https://localhost:8080/"
        },
        "id": "FTgnLaz-jNya",
        "outputId": "871bebf8-c8df-4174-9879-618ce3ceab27"
      },
      "execution_count": null,
      "outputs": [
        {
          "output_type": "stream",
          "name": "stdout",
          "text": [
            "\n",
            "Problem: \n",
            "- Name: unknown\n",
            "  Lower bound: 140.0\n",
            "  Upper bound: 140.0\n",
            "  Number of objectives: 1\n",
            "  Number of constraints: 3\n",
            "  Number of variables: 3\n",
            "  Number of nonzeros: 5\n",
            "  Sense: maximize\n",
            "Solver: \n",
            "- Status: ok\n",
            "  Termination condition: optimal\n",
            "  Statistics: \n",
            "    Branch and bound: \n",
            "      Number of bounded subproblems: 0\n",
            "      Number of created subproblems: 0\n",
            "  Error rc: 0\n",
            "  Time: 0.013974666595458984\n",
            "Solution: \n",
            "- number of solutions: 0\n",
            "  number of solutions displayed: 0\n",
            "\n",
            "objective function = 140.0\n",
            "x1 =  20.0\n",
            "x2 =  20.0\n"
          ]
        }
      ]
    },
    {
      "cell_type": "code",
      "source": [],
      "metadata": {
        "id": "wNtDEkbbP9YQ"
      },
      "execution_count": null,
      "outputs": []
    },
    {
      "cell_type": "code",
      "source": [
        "## Defining the model\n",
        "model = pyo.ConcreteModel()\n",
        "\n",
        "sp1 = 9476995.5\n",
        "## Decision Variables\n",
        "model.s1 = pyo.Var(within = pyo.NonNegativeReals,bounds=(.85*sp1,1.15*sp1)) "
      ],
      "metadata": {
        "id": "MdSW3soePFRG"
      },
      "execution_count": 61,
      "outputs": []
    },
    {
      "cell_type": "code",
      "source": [
        "!pip install pyomo\n",
        "!apt-get install -y -qq glpk-utils  #glpk is the solver\n",
        "!wget -N -q \"https://ampl.com/dl/open/couenne/couenne-linux64.zip\"\n",
        "!unzip -o -q couenne-linux64\n",
        "import pyomo.environ as pyo\n",
        "from pyomo.opt import SolverFactory\n"
      ],
      "metadata": {
        "colab": {
          "base_uri": "https://localhost:8080/"
        },
        "id": "vHoUYA07T1Ye",
        "outputId": "1de94e0d-94aa-4ff1-89b3-eec91d206f9c"
      },
      "execution_count": 62,
      "outputs": [
        {
          "output_type": "stream",
          "name": "stdout",
          "text": [
            "Looking in indexes: https://pypi.org/simple, https://us-python.pkg.dev/colab-wheels/public/simple/\n",
            "Requirement already satisfied: pyomo in /usr/local/lib/python3.7/dist-packages (6.4.2)\n",
            "Requirement already satisfied: ply in /usr/local/lib/python3.7/dist-packages (from pyomo) (3.11)\n"
          ]
        }
      ]
    },
    {
      "cell_type": "code",
      "source": [
        "s1=100"
      ],
      "metadata": {
        "id": "b1M3dGW1d8QQ"
      },
      "execution_count": 90,
      "outputs": []
    },
    {
      "cell_type": "code",
      "source": [
        "import math\n",
        "from pyomo.environ import *\n",
        "2757262.355/(1+exp(-(10*1.25/2757262.355)*((0.927718*s1)-1654357.413)))\n"
      ],
      "metadata": {
        "colab": {
          "base_uri": "https://localhost:8080/"
        },
        "id": "QfNHBMipZH_A",
        "outputId": "4c4706da-b43c-4c9f-cc36-ced322d6aebf"
      },
      "execution_count": 98,
      "outputs": [
        {
          "output_type": "execute_result",
          "data": {
            "text/plain": [
              "1524.7965348522282"
            ]
          },
          "metadata": {},
          "execution_count": 98
        }
      ]
    },
    {
      "cell_type": "code",
      "source": [
        "## Defining the model\n",
        "import numpy as np\n",
        "#import math\n",
        "from pyomo.environ import *\n",
        "model = pyo.ConcreteModel()\n",
        "\n",
        "\n",
        "sp1 = 9476995.5\n",
        "sp2 = 7896504\n",
        "sp3 = 22026511.5\n",
        "sp4 = 10154550\n",
        "sp5 = 26993347.5\n",
        "sp6 = 29811211\n",
        "sp7 = 21748827\n",
        "sp8 = 38769474\n",
        "sp9 = 126603094.573539    #Vouchers_1\n",
        "sp10 = 56494694.4611983   #Vouchers_2\n",
        "\n",
        "## Decision Variables\n",
        "model.s1 = pyo.Var(within = pyo.NonNegativeReals,bounds=(.7*sp1,1.3*sp1)) \n",
        "s1 = model.s1\n",
        "model.s2 = pyo.Var(within = pyo.NonNegativeReals,bounds=(.7*sp2,1.3*sp2))\n",
        "s2 = model.s2\n",
        "model.s3 = pyo.Var(within = pyo.NonNegativeReals,bounds=(.7*sp3,1.3*sp3))\n",
        "s3 = model.s3\n",
        "model.s4 = pyo.Var(within = pyo.NonNegativeReals,bounds=(.7*sp4,1.3*sp4))\n",
        "s4 = model.s4\n",
        "model.s5 = pyo.Var(within = pyo.NonNegativeReals,bounds=(.7*sp5,1.3*sp5))\n",
        "s5 = model.s5\n",
        "model.s6 = pyo.Var(within = pyo.NonNegativeReals,bounds=(.7*sp6,1.3*sp6))\n",
        "s6 = model.s6\n",
        "model.s7 = pyo.Var(within = pyo.NonNegativeReals,bounds=(.7*sp7,1.3*sp7))\n",
        "s7 = model.s7\n",
        "model.s8 = pyo.Var(within = pyo.NonNegativeReals,bounds=(.7*sp8,1.3*sp8))\n",
        "s8 = model.s8\n",
        "model.s9 = pyo.Var(within = pyo.NonNegativeReals,bounds=(.7*sp9,1.3*sp9))  ##Vouchers_1\n",
        "s9 = model.s9\n",
        "model.s10 = pyo.Var(within = pyo.NonNegativeReals,bounds=(.7*sp10,1.3*sp10))  ##Vouchers_2\n",
        "s10 = model.s10\n",
        "\n",
        "expre = s9*1.9378/1.274438 + s10*0.4243/0.91031 + ((2757262.355/(1+exp(-(10*1.25/2757262.355)*((0.927718*s1)-1654357.413))))-1524.155)*0.5003*257 +((2283138.479/(1+exp(-(10*1.25/2283138.479)*((1.988837*s2)-1598196.935))))-361.731)*122*0.3705 +((1136902.20/(1+exp(-(0.0000109947891490314)*((0.219423*s3)-909521.762))))-51.6129)*246*1.4171+((3250363.888/(1+exp(-(3.84572325696996E-06)*((2.004627*s4)-1950218.333))))-1796.7317)*118*0.368+((1719396.55/(1+exp(-(7.26999247417154E-06)*((0.214188*s5)-859698.276))))-3312.82)*245*0.4061+((2493247.32/(1+exp(-(5.01354191962398E-06)*((0.430327*s6)-1246623.665))))-4803.826)*454*0.589+((835324.38/(1+exp(-(8.97854791219518E-06)*((0.206718*s7)-584727.068))))-4360.498)*245*1.1578+((5300770.9/(1+exp(-(2.35814756320016E-06)*((0.207548*s8)-3180462.545))))-2930.152)*245*0.105\n",
        "\n",
        "## Objective Function\n",
        "model.Obj = pyo.Objective(expr =expre, sense = pyo.maximize)\n",
        "\n",
        "## Constraints\n",
        "model.Const1 = pyo.Constraint(expr = s1+s2+s3+s4+s5+s6+s7+s8+s9+s10<=349975209.53)\n",
        "#model.Const2 = pyo.Constraint(expr = 9476995.5<=s1<=8055446.175)\n",
        "\n",
        "\n",
        "optm = SolverFactory('couenne',executable='/content/couenne')\n",
        "results = optm.solve(model)\n",
        "\n",
        "# espr = ((2757262.355/(1+math.esp(-(10*1.25/2757262.355)*((0.928*s1)-1654357.413))))-1524.155)*0.5003*257 +\n",
        "#  ((2283138.479/(1+math.esp(-(10*1.25/2283138.479)*((1.989*s2)-1598196.935))))-361.731)*122*0.3705 +\n",
        "#  ((1136902.20/(1+math.esp(-(0.0000109947891490314)*((0.219*s3)-909521.762))))-51.6129)*246*1.4171 +\n",
        "#  ((3250363.888/(1+math.esp(-(3.84572325696996E-06)*((2.005*s4)-1950218.333))))-1796.7317)*118*0.368 +\n",
        "#  ((1719396.55/(1+math.esp(-(7.26999247417154E-06)*((0.214*s5)-859698.276))))-3312.82)*245*0.4061 +\n",
        "#  ((2493247.329/(1+math.esp(-(5.01354191962398E-06)*((0.43*s6)-1246623.665))))-4803.826)*454*0.589 + \n",
        "#  ((835324.38/(1+math.esp(-(8.97854791219518E-06)*((0.207*s7)-584727.068))))-4360.498)*245*1.1578 +\n",
        "#  ((5300770.9/(1+math.esp(-(2.35814756320016E-06)*((0.208*s8)-3180462.545))))-2930.152)*245*0.105\n",
        "\n",
        "print('objective function =', model.Obj())\n",
        "print('s1 = ',model.s1())\n",
        "print('s2 = ',model.s2())\n",
        "print('s3 = ',model.s3())\n",
        "print('s4 = ',model.s4())\n",
        "print('s5 = ',model.s5())\n",
        "print('s6 = ',model.s6())\n",
        "print('s7 = ',model.s7())\n",
        "print('s8 = ',model.s8())\n",
        "print('s9 = ',model.s9())\n",
        "print('s10 = ',model.s10())\n",
        "print('sum total = ',model.s1()+model.s2()+model.s3()+model.s4()+model.s5()+model.s6()+model.s7()+model.s8()+model.s9()+model.s10())\n",
        "\n"
      ],
      "metadata": {
        "colab": {
          "base_uri": "https://localhost:8080/"
        },
        "id": "DYn-V3ysPFUc",
        "outputId": "d6f7352c-c1c4-4c17-e9ac-b3c2b6c1299d"
      },
      "execution_count": 122,
      "outputs": [
        {
          "output_type": "stream",
          "name": "stdout",
          "text": [
            "objective function = 2454711822.3819714\n",
            "s1 =  7924411.509232016\n",
            "s2 =  5527552.8\n",
            "s3 =  15418558.049999999\n",
            "s4 =  7108185.0\n",
            "s5 =  19494800.612212233\n",
            "s6 =  20867847.7\n",
            "s7 =  18486502.95\n",
            "s8 =  44584895.099999994\n",
            "s9 =  145593558.75956985\n",
            "s10 =  64968898.63037804\n",
            "sum total =  349975211.11139214\n"
          ]
        }
      ]
    },
    {
      "cell_type": "code",
      "source": [
        "###RoI after optimization\n",
        "2454711822.3819/349975211.11"
      ],
      "metadata": {
        "id": "c0SyYckZhzCa",
        "outputId": "3712a9bc-f25f-4ead-9d5d-359f58a3179f",
        "colab": {
          "base_uri": "https://localhost:8080/"
        }
      },
      "execution_count": 129,
      "outputs": [
        {
          "output_type": "execute_result",
          "data": {
            "text/plain": [
              "7.013959116122554"
            ]
          },
          "metadata": {},
          "execution_count": 129
        }
      ]
    },
    {
      "cell_type": "code",
      "source": [
        "###RoI before optimization\n",
        "1858290921.71282/349975209.53"
      ],
      "metadata": {
        "id": "4oBQYbFJiM8h",
        "outputId": "41d48ef8-132e-46d7-f515-7019428036b2",
        "colab": {
          "base_uri": "https://localhost:8080/"
        }
      },
      "execution_count": 130,
      "outputs": [
        {
          "output_type": "execute_result",
          "data": {
            "text/plain": [
              "5.309778724637143"
            ]
          },
          "metadata": {},
          "execution_count": 130
        }
      ]
    },
    {
      "cell_type": "code",
      "source": [
        "## Defining the model                             30% change allowed  and spends for vouchers 1 increased by 40%\n",
        "import numpy as np\n",
        "#import math\n",
        "from pyomo.environ import *\n",
        "model = pyo.ConcreteModel()\n",
        "\n",
        "##ATL vars dec by 20%, voucher1 inc by 40%\n",
        "sp1 = 9476995.5*0.8\n",
        "sp2 = 7896504*0.8\n",
        "sp3 = 22026511.5*0.8\n",
        "sp4 = 10154550*0.8\n",
        "sp5 = 26993347.5*0.8\n",
        "sp6 = 29811211*0.8\n",
        "sp7 = 21748827*0.8\n",
        "sp8 = 38769474*0.8\n",
        "sp9 = 177244332.4    #Vouchers_1\n",
        "sp10 = 56494694.4611983   #Vouchers_2\n",
        "\n",
        "## Decision Variables\n",
        "model.s1 = pyo.Var(within = pyo.NonNegativeReals,bounds=(.7*sp1,1.3*sp1)) \n",
        "s1 = model.s1\n",
        "model.s2 = pyo.Var(within = pyo.NonNegativeReals,bounds=(.7*sp2,1.3*sp2))\n",
        "s2 = model.s2\n",
        "model.s3 = pyo.Var(within = pyo.NonNegativeReals,bounds=(.7*sp3,1.3*sp3))\n",
        "s3 = model.s3\n",
        "model.s4 = pyo.Var(within = pyo.NonNegativeReals,bounds=(.7*sp4,1.3*sp4))\n",
        "s4 = model.s4\n",
        "model.s5 = pyo.Var(within = pyo.NonNegativeReals,bounds=(.7*sp5,1.3*sp5))\n",
        "s5 = model.s5\n",
        "model.s6 = pyo.Var(within = pyo.NonNegativeReals,bounds=(.7*sp6,1.3*sp6))\n",
        "s6 = model.s6\n",
        "model.s7 = pyo.Var(within = pyo.NonNegativeReals,bounds=(.7*sp7,1.3*sp7))\n",
        "s7 = model.s7\n",
        "model.s8 = pyo.Var(within = pyo.NonNegativeReals,bounds=(.7*sp8,1.3*sp8))\n",
        "s8 = model.s8\n",
        "model.s9 = pyo.Var(within = pyo.NonNegativeReals,bounds=(.7*sp9,1.3*sp9))  ##Vouchers_1\n",
        "s9 = model.s9\n",
        "model.s10 = pyo.Var(within = pyo.NonNegativeReals,bounds=(.7*sp10,1.3*sp10))  ##Vouchers_2\n",
        "s10 = model.s10\n",
        "\n",
        "expre = s9*1.9378/1.2744385 + s10*0.4243/0.910313 + ((2757262.355/(1+exp(-(10*1.25/2757262.355)*((0.115965*s1)-1654357.413))))-1524.155)*0.5003*257 +((2283138.479/(1+exp(-(10*1.25/2283138.479)*((0.248604*s2)-1598196.935))))-361.731)*122*0.3705 +((1136902.20/(1+exp(-(0.0000109947891490314)*((0.027428*s3)-909521.762))))-51.6129)*246*1.4171+((3250363.888/(1+exp(-(3.84572325696996E-06)*((0.250578*s4)-1950218.333))))-1796.7317)*118*0.368+((1719396.55/(1+exp(-(7.26999247417154E-06)*((0.026774*s5)-859698.276))))-3312.82)*245*0.4061+((2493247.32/(1+exp(-(5.01354191962398E-06)*((0.053791*s6)-1246623.665))))-4803.826)*454*0.589+((835324.38/(1+exp(-(8.97854791219518E-06)*((0.02584*s7)-584727.068))))-4360.498)*245*1.1578+((5300770.9/(1+exp(-(2.35814756320016E-06)*((0.025944*s8)-3180462.545))))-2930.152)*245*0.105\n",
        "\n",
        "## Objective Function\n",
        "model.Obj = pyo.Objective(expr =expre, sense = pyo.maximize)\n",
        "\n",
        "## Constraints\n",
        "model.Const1 = pyo.Constraint(expr = s1+s2+s3+s4+s5+s6+s7+s8+s9+s10<=367240963.26)\n",
        "#model.Const2 = pyo.Constraint(expr = 9476995.5<=s1<=8055446.175)\n",
        "\n",
        "\n",
        "optm = SolverFactory('couenne',executable='/content/couenne')\n",
        "results = optm.solve(model)\n",
        "\n",
        "# espr = ((2757262.355/(1+math.esp(-(10*1.25/2757262.355)*((0.928*s1)-1654357.413))))-1524.155)*0.5003*257 +\n",
        "#  ((2283138.479/(1+math.esp(-(10*1.25/2283138.479)*((1.989*s2)-1598196.935))))-361.731)*122*0.3705 +\n",
        "#  ((1136902.20/(1+math.esp(-(0.0000109947891490314)*((0.219*s3)-909521.762))))-51.6129)*246*1.4171 +\n",
        "#  ((3250363.888/(1+math.esp(-(3.84572325696996E-06)*((2.005*s4)-1950218.333))))-1796.7317)*118*0.368 +\n",
        "#  ((1719396.55/(1+math.esp(-(7.26999247417154E-06)*((0.214*s5)-859698.276))))-3312.82)*245*0.4061 +\n",
        "#  ((2493247.329/(1+math.esp(-(5.01354191962398E-06)*((0.43*s6)-1246623.665))))-4803.826)*454*0.589 + \n",
        "#  ((835324.38/(1+math.esp(-(8.97854791219518E-06)*((0.207*s7)-584727.068))))-4360.498)*245*1.1578 +\n",
        "#  ((5300770.9/(1+math.esp(-(2.35814756320016E-06)*((0.208*s8)-3180462.545))))-2930.152)*245*0.105\n",
        "\n",
        "print('objective function =', model.Obj())\n",
        "print('s1 = ',model.s1())\n",
        "print('s2 = ',model.s2())\n",
        "print('s3 = ',model.s3())\n",
        "print('s4 = ',model.s4())\n",
        "print('s5 = ',model.s5())\n",
        "print('s6 = ',model.s6())\n",
        "print('s7 = ',model.s7())\n",
        "print('s8 = ',model.s8())\n",
        "print('s9 = ',model.s9())\n",
        "print('s10 = ',model.s10())\n",
        "print('sum total = ',model.s1()+model.s2()+model.s3()+model.s4()+model.s5()+model.s6()+model.s7()+model.s8()+model.s9()+model.s10())"
      ],
      "metadata": {
        "id": "6y8ACMQd8Zf2",
        "outputId": "f28997d5-b9ed-4566-977c-680f071dc1c7",
        "colab": {
          "base_uri": "https://localhost:8080/"
        }
      },
      "execution_count": 126,
      "outputs": [
        {
          "output_type": "stream",
          "name": "stdout",
          "text": [
            "objective function = 1320626772.6680667\n",
            "s1 =  9856075.319999997\n",
            "s2 =  8212364.159999998\n",
            "s3 =  22907571.959999997\n",
            "s4 =  10560732.000000032\n",
            "s5 =  28073081.400000006\n",
            "s6 =  31003659.439999998\n",
            "s7 =  22618780.08000001\n",
            "s8 =  21710905.44\n",
            "s9 =  172751507.33716112\n",
            "s10 =  39546286.12283881\n",
            "sum total =  367240963.25999993\n"
          ]
        }
      ]
    },
    {
      "cell_type": "markdown",
      "source": [
        "### **RoI after Optimization**"
      ],
      "metadata": {
        "id": "hrL_01W0fuUx"
      }
    },
    {
      "cell_type": "code",
      "source": [
        "### RoI after Optimization\n",
        "\n",
        "1320626772.6680667/367240963.25999993"
      ],
      "metadata": {
        "id": "nNrZxzP3flm5",
        "outputId": "3f79e665-1c17-4b32-9af8-ac4a1770c419",
        "colab": {
          "base_uri": "https://localhost:8080/"
        }
      },
      "execution_count": 127,
      "outputs": [
        {
          "output_type": "execute_result",
          "data": {
            "text/plain": [
              "3.5960769761217706"
            ]
          },
          "metadata": {},
          "execution_count": 127
        }
      ]
    },
    {
      "cell_type": "markdown",
      "source": [
        "### **RoI before Optimization**"
      ],
      "metadata": {
        "id": "vGTpG_bKf0dX"
      }
    },
    {
      "cell_type": "code",
      "source": [
        "  1858290921.71282/367240963.25999993"
      ],
      "metadata": {
        "id": "vrGVHXS1fs-E",
        "outputId": "decc3726-9725-46ab-b7c0-98aca59a3840",
        "colab": {
          "base_uri": "https://localhost:8080/"
        }
      },
      "execution_count": 128,
      "outputs": [
        {
          "output_type": "execute_result",
          "data": {
            "text/plain": [
              "5.060140636863497"
            ]
          },
          "metadata": {},
          "execution_count": 128
        }
      ]
    },
    {
      "cell_type": "markdown",
      "source": [
        "objective function = 2203052546.334783\n",
        "s1 =  9552018.659266738\n",
        "s2 =  7441763.875445848\n",
        "s3 =  19700237.768780746\n",
        "s4 =  9402129.484589849\n",
        "s5 =  25119796.349569388\n",
        "s6 =  26406900.50189042\n",
        "s7 =  20585117.41706234\n",
        "s8 =  44584895.099999994"
      ],
      "metadata": {
        "id": "V7jhPq-XqrRy"
      }
    },
    {
      "cell_type": "code",
      "source": [
        "import numpy as math\n",
        "model = pyo.ConcreteModel()\n",
        "expre = ((2757262.355/(1+exp(-(10*1.25/2757262.355)*((0.927718*s1)-1654357.413))))-1524.155)*0.5003*257 +((2283138.479/(1+exp(-(10*1.25/2283138.479)*((1.988837*s2)-1598196.935))))-361.731)*122*0.3705 +((1136902.20/(1+exp(-(0.0000109947891490314)*((0.219423*s3)-909521.762))))-51.6129)*246*1.4171+((3250363.888/(1+exp(-(3.84572325696996E-06)*((2.004627*s4)-1950218.333))))-1796.7317)*118*0.368+((1719396.55/(1+exp(-(7.26999247417154E-06)*((0.214188*s5)-859698.276))))-3312.82)*245*0.4061+((2493247.32/(1+exp(-(5.01354191962398E-06)*((0.430327*s6)-1246623.665))))-4803.826)*454*0.589+((835324.38/(1+exp(-(8.97854791219518E-06)*((0.206718*s7)-584727.068))))-4360.498)*245*1.1578+((5300770.9/(1+exp(-(2.35814756320016E-06)*((0.207548*s8)-3180462.545))))-2930.152)*245*0.105\n",
        "\n",
        "\n",
        "sp1 = 9476995.5\n",
        "sp2 = 7896504\n",
        "sp3 = 22026511.5\n",
        "sp4 = 10154550\n",
        "sp5 = 26993347.5\n",
        "sp6 = 29811211\n",
        "sp7 = 21748827\n",
        "sp8 = 38769474\n",
        "#sp3 = \n",
        "\n",
        "## Decision Variables\n",
        "model.s1 = pyo.Var(within = pyo.NonNegativeIntegers,bounds=(.85*sp1.float(),1.15*sp1.float())) \n",
        "s1 = model.s1\n",
        "model.s2 = pyo.Var(within = pyo.NonNegativeIntegers,bounds=(.85*sp2.float(),1.15*sp2.float()))\n",
        "s2 = model.s2\n",
        "model.s3 = pyo.Var(within = pyo.NonNegativeIntegers,bounds=(.85*sp3.float(),1.15*sp3.float()))\n",
        "s3 = model.s3\n",
        "model.s4 = pyo.Var(within = pyo.NonNegativeIntegers,bounds=(.85*sp4.float(),1.15*sp4.float()))\n",
        "s4 = model.s4\n",
        "model.s5 = pyo.Var(within = pyo.NonNegativeIntegers,bounds=(.85*sp5.float(),1.15*sp5.float()))\n",
        "s5 = model.s5\n",
        "model.s6 = pyo.Var(within = pyo.NonNegativeIntegers,bounds=(.85*sp6.float(),1.15*sp6.float()))\n",
        "s6 = model.s6\n",
        "model.s7 = pyo.Var(within = pyo.NonNegativeIntegers,bounds=(.85*sp7.float(),1.15*sp7.float()))\n",
        "s7 = model.s7\n",
        "model.s8 = pyo.Var(within = pyo.NonNegativeIntegers,bounds=(.85*sp8.float(),1.15*sp8.float()))\n",
        "s8 = model.s8\n",
        "\n",
        "\n",
        "## Objective Function\n",
        "model.Obj = pyo.Objective(expr =expre, sense = pyo.maximize)\n",
        "\n",
        "## Constraints\n",
        "model.Const1 = pyo.Constraint(expr = s1+s2+s3+s4+s5+s6+s7+s8<=166877420.5)\n",
        "#model.Const2 = pyo.Constraint(expr = 9476995.5<=s1<=8055446.175)\n",
        "\n",
        "optm = SolverFactory('couenne',executable='/content/couenne')\n",
        "results = optm.solve(model)\n",
        "\n",
        "# espr = ((2757262.355/(1+math.esp(-(10*1.25/2757262.355)*((0.928*s1)-1654357.413))))-1524.155)*0.5003*257 +\n",
        "#  ((2283138.479/(1+math.esp(-(10*1.25/2283138.479)*((1.989*s2)-1598196.935))))-361.731)*122*0.3705 +\n",
        "#  ((1136902.20/(1+math.esp(-(0.0000109947891490314)*((0.219*s3)-909521.762))))-51.6129)*246*1.4171 +\n",
        "#  ((3250363.888/(1+math.esp(-(3.84572325696996E-06)*((2.005*s4)-1950218.333))))-1796.7317)*118*0.368 +\n",
        "#  ((1719396.55/(1+math.esp(-(7.26999247417154E-06)*((0.214*s5)-859698.276))))-3312.82)*245*0.4061 +\n",
        "#  ((2493247.329/(1+math.esp(-(5.01354191962398E-06)*((0.43*s6)-1246623.665))))-4803.826)*454*0.589 + \n",
        "#  ((835324.38/(1+math.esp(-(8.97854791219518E-06)*((0.207*s7)-584727.068))))-4360.498)*245*1.1578 +\n",
        "#  ((5300770.9/(1+math.esp(-(2.35814756320016E-06)*((0.208*s8)-3180462.545))))-2930.152)*245*0.105\n",
        "\n",
        "print('objective function =', model.Obj())\n",
        "print('s1 = ',model.s1())\n",
        "print('s2 = ',model.s2())\n",
        "print('s3 = ',model.s3())\n",
        "print('s4 = ',model.s4())\n",
        "print('s5 = ',model.s5())\n",
        "print('s6 = ',model.s6())\n",
        "print('s7 = ',model.s7())\n",
        "print('s8 = ',model.s8())\n",
        "#print('sum total = ',model.s1()+model.s2()+model.s3()+model.s4()+model.s5()+model.s6()+model+s7()+model.s8())\n"
      ],
      "metadata": {
        "colab": {
          "base_uri": "https://localhost:8080/",
          "height": 423
        },
        "id": "FCwZzwvuajQS",
        "outputId": "81504743-337b-49c9-c95d-493c3a999ec6"
      },
      "execution_count": 80,
      "outputs": [
        {
          "output_type": "error",
          "ename": "TypeError",
          "evalue": "ignored",
          "traceback": [
            "\u001b[0;31m---------------------------------------------------------------------------\u001b[0m",
            "\u001b[0;31mAttributeError\u001b[0m                            Traceback (most recent call last)",
            "\u001b[0;31mAttributeError\u001b[0m: 'ProductExpression' object has no attribute 'exp'",
            "\nThe above exception was the direct cause of the following exception:\n",
            "\u001b[0;31mTypeError\u001b[0m                                 Traceback (most recent call last)",
            "\u001b[0;32m<ipython-input-80-8da86bf6f98e>\u001b[0m in \u001b[0;36m<module>\u001b[0;34m\u001b[0m\n\u001b[1;32m      1\u001b[0m \u001b[0;32mimport\u001b[0m \u001b[0mnumpy\u001b[0m \u001b[0;32mas\u001b[0m \u001b[0mnp\u001b[0m\u001b[0;34m\u001b[0m\u001b[0;34m\u001b[0m\u001b[0m\n\u001b[1;32m      2\u001b[0m \u001b[0mmodel\u001b[0m \u001b[0;34m=\u001b[0m \u001b[0mpyo\u001b[0m\u001b[0;34m.\u001b[0m\u001b[0mConcreteModel\u001b[0m\u001b[0;34m(\u001b[0m\u001b[0;34m)\u001b[0m\u001b[0;34m\u001b[0m\u001b[0;34m\u001b[0m\u001b[0m\n\u001b[0;32m----> 3\u001b[0;31m \u001b[0mexpre\u001b[0m \u001b[0;34m=\u001b[0m \u001b[0;34m(\u001b[0m\u001b[0;34m(\u001b[0m\u001b[0;36m2757262.355\u001b[0m\u001b[0;34m/\u001b[0m\u001b[0;34m(\u001b[0m\u001b[0;36m1\u001b[0m\u001b[0;34m+\u001b[0m\u001b[0mnp\u001b[0m\u001b[0;34m.\u001b[0m\u001b[0mexp\u001b[0m\u001b[0;34m(\u001b[0m\u001b[0;34m-\u001b[0m\u001b[0;34m(\u001b[0m\u001b[0;36m10\u001b[0m\u001b[0;34m*\u001b[0m\u001b[0;36m1.25\u001b[0m\u001b[0;34m/\u001b[0m\u001b[0;36m2757262.355\u001b[0m\u001b[0;34m)\u001b[0m\u001b[0;34m*\u001b[0m\u001b[0;34m(\u001b[0m\u001b[0;34m(\u001b[0m\u001b[0;36m0.927718\u001b[0m\u001b[0;34m*\u001b[0m\u001b[0ms1\u001b[0m\u001b[0;34m)\u001b[0m\u001b[0;34m-\u001b[0m\u001b[0;36m1654357.413\u001b[0m\u001b[0;34m)\u001b[0m\u001b[0;34m)\u001b[0m\u001b[0;34m)\u001b[0m\u001b[0;34m)\u001b[0m\u001b[0;34m-\u001b[0m\u001b[0;36m1524.155\u001b[0m\u001b[0;34m)\u001b[0m\u001b[0;34m*\u001b[0m\u001b[0;36m0.5003\u001b[0m\u001b[0;34m*\u001b[0m\u001b[0;36m257\u001b[0m \u001b[0;34m+\u001b[0m\u001b[0;34m(\u001b[0m\u001b[0;34m(\u001b[0m\u001b[0;36m2283138.479\u001b[0m\u001b[0;34m/\u001b[0m\u001b[0;34m(\u001b[0m\u001b[0;36m1\u001b[0m\u001b[0;34m+\u001b[0m\u001b[0mnp\u001b[0m\u001b[0;34m.\u001b[0m\u001b[0mexp\u001b[0m\u001b[0;34m(\u001b[0m\u001b[0;34m-\u001b[0m\u001b[0;34m(\u001b[0m\u001b[0;36m10\u001b[0m\u001b[0;34m*\u001b[0m\u001b[0;36m1.25\u001b[0m\u001b[0;34m/\u001b[0m\u001b[0;36m2283138.479\u001b[0m\u001b[0;34m)\u001b[0m\u001b[0;34m*\u001b[0m\u001b[0;34m(\u001b[0m\u001b[0;34m(\u001b[0m\u001b[0;36m1.988837\u001b[0m\u001b[0;34m*\u001b[0m\u001b[0ms2\u001b[0m\u001b[0;34m)\u001b[0m\u001b[0;34m-\u001b[0m\u001b[0;36m1598196.935\u001b[0m\u001b[0;34m)\u001b[0m\u001b[0;34m)\u001b[0m\u001b[0;34m)\u001b[0m\u001b[0;34m)\u001b[0m\u001b[0;34m-\u001b[0m\u001b[0;36m361.731\u001b[0m\u001b[0;34m)\u001b[0m\u001b[0;34m*\u001b[0m\u001b[0;36m122\u001b[0m\u001b[0;34m*\u001b[0m\u001b[0;36m0.3705\u001b[0m \u001b[0;34m+\u001b[0m\u001b[0;34m(\u001b[0m\u001b[0;34m(\u001b[0m\u001b[0;36m1136902.20\u001b[0m\u001b[0;34m/\u001b[0m\u001b[0;34m(\u001b[0m\u001b[0;36m1\u001b[0m\u001b[0;34m+\u001b[0m\u001b[0mnp\u001b[0m\u001b[0;34m.\u001b[0m\u001b[0mexp\u001b[0m\u001b[0;34m(\u001b[0m\u001b[0;34m-\u001b[0m\u001b[0;34m(\u001b[0m\u001b[0;36m0.0000109947891490314\u001b[0m\u001b[0;34m)\u001b[0m\u001b[0;34m*\u001b[0m\u001b[0;34m(\u001b[0m\u001b[0;34m(\u001b[0m\u001b[0;36m0.219423\u001b[0m\u001b[0;34m*\u001b[0m\u001b[0ms3\u001b[0m\u001b[0;34m)\u001b[0m\u001b[0;34m-\u001b[0m\u001b[0;36m909521.762\u001b[0m\u001b[0;34m)\u001b[0m\u001b[0;34m)\u001b[0m\u001b[0;34m)\u001b[0m\u001b[0;34m)\u001b[0m\u001b[0;34m-\u001b[0...\n\u001b[0m\u001b[1;32m      4\u001b[0m \u001b[0;34m\u001b[0m\u001b[0m\n\u001b[1;32m      5\u001b[0m \u001b[0;34m\u001b[0m\u001b[0m\n",
            "\u001b[0;32mpyomo/core/expr/numvalue.pyx\u001b[0m in \u001b[0;36mpyomo.core.expr.numvalue.NumericValue.__array_ufunc__\u001b[0;34m()\u001b[0m\n",
            "\u001b[0;32mpyomo/core/expr/numvalue.pyx\u001b[0m in \u001b[0;36mpyomo.core.expr.numvalue.NumericNDArray.__array_ufunc__\u001b[0;34m()\u001b[0m\n",
            "\u001b[0;31mTypeError\u001b[0m: loop of ufunc does not support argument 0 of type ProductExpression which has no callable exp method"
          ]
        }
      ]
    },
    {
      "cell_type": "code",
      "source": [],
      "metadata": {
        "id": "lqAn4JcoUrzK"
      },
      "execution_count": null,
      "outputs": []
    },
    {
      "cell_type": "code",
      "source": [
        "9476995.5<s1<=8055446.175"
      ],
      "metadata": {
        "colab": {
          "base_uri": "https://localhost:8080/"
        },
        "id": "j8jvPKkk6B7G",
        "outputId": "cdeb408f-bc00-4607-f3c4-035f51e051ef"
      },
      "execution_count": 55,
      "outputs": [
        {
          "output_type": "execute_result",
          "data": {
            "text/plain": [
              "False"
            ]
          },
          "metadata": {},
          "execution_count": 55
        }
      ]
    },
    {
      "cell_type": "code",
      "source": [
        "s1=9476996"
      ],
      "metadata": {
        "id": "wqmjbY6mLNwf"
      },
      "execution_count": 54,
      "outputs": []
    },
    {
      "cell_type": "code",
      "source": [
        "s1=120"
      ],
      "metadata": {
        "id": "NZ_KFCBULQX1"
      },
      "execution_count": 42,
      "outputs": []
    },
    {
      "cell_type": "code",
      "source": [
        "espr = ((2757262.355/(1+exp(-(10*1.25/2757262.355)*((0.927718*s1)-1654357.413))))-1524.155)*0.5003*257 +((2283138.479/(1+exp(-(10*1.25/2283138.479)*((1.988837*s2)-1598196.935))))-361.731)*122*0.3705 +((1136902.20/(1+exp(-(0.0000109947891490314)*((0.219423*s3)-909521.762))))-51.6129)*246*1.4171+((3250363.888/(1+exp(-(3.84572325696996E-06)*((2.004627*s4)-1950218.333))))-1796.7317)*118*0.368+((1719396.55/(1+exp(-(7.26999247417154E-06)*((0.214188*s5)-859698.276))))-3312.82)*245*0.4061+((2493247.32/(1+exp(-(5.01354191962398E-06)*((0.430327*s6)-1246623.665))))-4803.826)*454*0.589+((835324.38/(1+exp(-(8.97854791219518E-06)*((0.206718*s7)-584727.068))))-4360.498)*245*1.1578+((5300770.9/(1+exp(-(2.35814756320016E-06)*((0.207548*s8)-3180462.545))))-2930.152)*245*0.105\n",
        "\n"
      ],
      "metadata": {
        "id": "xh-TgIoEupBv"
      },
      "execution_count": 32,
      "outputs": []
    },
    {
      "cell_type": "code",
      "source": [
        "espr"
      ],
      "metadata": {
        "colab": {
          "base_uri": "https://localhost:8080/"
        },
        "id": "c9jz87tY6W9b",
        "outputId": "54249b35-e7a0-47eb-c86c-65ef013032a1"
      },
      "execution_count": 29,
      "outputs": [
        {
          "output_type": "execute_result",
          "data": {
            "text/plain": [
              "0.3517287735591398"
            ]
          },
          "metadata": {},
          "execution_count": 29
        }
      ]
    },
    {
      "cell_type": "markdown",
      "source": [
        "![image.png](data:image/png;base64,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)"
      ],
      "metadata": {
        "id": "-t4VU944q5ze"
      }
    },
    {
      "cell_type": "code",
      "source": [
        "\n",
        "## Constraints\n",
        "model.Const1 = pyo.Constraint(espr = s1+s2<=40)\n",
        "model.Const2 = pyo.Constraint(espr = 2*s1+s2<=60)\n",
        "\n",
        "optm = SolverFactory('glpk')\n",
        "results = optm.solve(model)\n",
        "\n",
        "print(results)\n",
        "print('objective function =', model.Obj())\n",
        "print('s1 = ',model.s1())\n",
        "print('s2 = ',model.s2())\n",
        "\n",
        "\n",
        "s1 = (s1/0.118341)\n",
        "#Transformation"
      ],
      "metadata": {
        "id": "aD88Gtrcn0CL"
      },
      "execution_count": null,
      "outputs": []
    },
    {
      "cell_type": "code",
      "source": [],
      "metadata": {
        "id": "7XbfpaiCsNHd"
      },
      "execution_count": null,
      "outputs": []
    },
    {
      "cell_type": "code",
      "source": [],
      "metadata": {
        "id": "bBopA72bmXVe"
      },
      "execution_count": null,
      "outputs": []
    }
  ]
}