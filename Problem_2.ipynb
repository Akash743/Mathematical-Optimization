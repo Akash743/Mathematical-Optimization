{
  "nbformat": 4,
  "nbformat_minor": 0,
  "metadata": {
    "colab": {
      "name": "Problem-2.ipynb",
      "provenance": [],
      "collapsed_sections": [],
      "authorship_tag": "ABX9TyOrraAHagc6hpncRr7QW2xa",
      "include_colab_link": true
    },
    "kernelspec": {
      "name": "python3",
      "display_name": "Python 3"
    },
    "language_info": {
      "name": "python"
    }
  },
  "cells": [
    {
      "cell_type": "markdown",
      "metadata": {
        "id": "view-in-github",
        "colab_type": "text"
      },
      "source": [
        "<a href=\"https://colab.research.google.com/github/Akash743/Mathematical-Optimization/blob/main/Problem_2.ipynb\" target=\"_parent\"><img src=\"https://colab.research.google.com/assets/colab-badge.svg\" alt=\"Open In Colab\"/></a>"
      ]
    },
    {
      "cell_type": "code",
      "execution_count": 1,
      "metadata": {
        "colab": {
          "base_uri": "https://localhost:8080/"
        },
        "id": "ucqxoY0F0yy5",
        "outputId": "49cd7ff4-e8de-4137-f74d-c9427dacf59f"
      },
      "outputs": [
        {
          "output_type": "stream",
          "name": "stdout",
          "text": [
            "Looking in indexes: https://pypi.org/simple, https://us-python.pkg.dev/colab-wheels/public/simple/\n",
            "Collecting pyomo\n",
            "  Downloading Pyomo-6.4.1-cp37-cp37m-manylinux_2_12_x86_64.manylinux2010_x86_64.whl (9.6 MB)\n",
            "\u001b[K     |████████████████████████████████| 9.6 MB 6.4 MB/s \n",
            "\u001b[?25hCollecting ply\n",
            "  Downloading ply-3.11-py2.py3-none-any.whl (49 kB)\n",
            "\u001b[K     |████████████████████████████████| 49 kB 6.1 MB/s \n",
            "\u001b[?25hInstalling collected packages: ply, pyomo\n",
            "Successfully installed ply-3.11 pyomo-6.4.1\n",
            "Selecting previously unselected package libsuitesparseconfig5:amd64.\n",
            "(Reading database ... 155680 files and directories currently installed.)\n",
            "Preparing to unpack .../libsuitesparseconfig5_1%3a5.1.2-2_amd64.deb ...\n",
            "Unpacking libsuitesparseconfig5:amd64 (1:5.1.2-2) ...\n",
            "Selecting previously unselected package libamd2:amd64.\n",
            "Preparing to unpack .../libamd2_1%3a5.1.2-2_amd64.deb ...\n",
            "Unpacking libamd2:amd64 (1:5.1.2-2) ...\n",
            "Selecting previously unselected package libcolamd2:amd64.\n",
            "Preparing to unpack .../libcolamd2_1%3a5.1.2-2_amd64.deb ...\n",
            "Unpacking libcolamd2:amd64 (1:5.1.2-2) ...\n",
            "Selecting previously unselected package libglpk40:amd64.\n",
            "Preparing to unpack .../libglpk40_4.65-1_amd64.deb ...\n",
            "Unpacking libglpk40:amd64 (4.65-1) ...\n",
            "Selecting previously unselected package glpk-utils.\n",
            "Preparing to unpack .../glpk-utils_4.65-1_amd64.deb ...\n",
            "Unpacking glpk-utils (4.65-1) ...\n",
            "Setting up libsuitesparseconfig5:amd64 (1:5.1.2-2) ...\n",
            "Setting up libcolamd2:amd64 (1:5.1.2-2) ...\n",
            "Setting up libamd2:amd64 (1:5.1.2-2) ...\n",
            "Setting up libglpk40:amd64 (4.65-1) ...\n",
            "Setting up glpk-utils (4.65-1) ...\n",
            "Processing triggers for libc-bin (2.27-3ubuntu1.5) ...\n",
            "Processing triggers for man-db (2.8.3-2ubuntu0.1) ...\n"
          ]
        }
      ],
      "source": [
        "!pip install pyomo\n",
        "!apt-get install -y -qq glpk-utils  #glpk is the solver"
      ]
    },
    {
      "cell_type": "code",
      "source": [
        "import pyomo.environ as pyo\n",
        "from pyomo.opt import SolverFactory"
      ],
      "metadata": {
        "id": "O_P9MZUE04Lx"
      },
      "execution_count": 2,
      "outputs": []
    },
    {
      "cell_type": "code",
      "source": [
        "model = pyo.ConcreteModel()\n",
        "\n",
        "##Sets\n",
        "model.i = pyo.Set(initialize = ['Desk','Table','Chair'])\n",
        "\n",
        "## Parameters\n",
        "model.L = pyo.Param(model.i, initialize = {'Desk':8,'Table':6,'Chair':1})\n",
        "L = model.L\n",
        "\n",
        "model.F = pyo.Param(model.i, initialize = {'Desk':4,'Table':2,'Chair':1.5})\n",
        "F = model.F\n",
        "\n",
        "model.C = pyo.Param(model.i, initialize = {'Desk':2,'Table':1.5,'Chair':0.5})\n",
        "C = model.C\n",
        "\n",
        "model.P = pyo.Param(model.i, initialize = {'Desk':60,'Table':30,'Chair':20})\n",
        "P = model.P"
      ],
      "metadata": {
        "id": "ofMd2zBf04rg"
      },
      "execution_count": 3,
      "outputs": []
    },
    {
      "cell_type": "code",
      "source": [
        "## Decision Variable\n",
        "model.x = pyo.Var(model.i, within = pyo.NonNegativeReals)\n",
        "x = model.x\n",
        "\n",
        "## Objective function\n",
        "def Objective_rule(model):\n",
        "  return sum(P[i]*x[i] for i in model.i)\n",
        "\n",
        "model.Obj = pyo.Objective(rule = Objective_rule, sense = pyo.maximize)  \n",
        "\n",
        "\n",
        "## Constraints\n",
        "def Constraint1(model,i):\n",
        "  return sum(L[i]*x[i] for i in model.i) <= 48\n",
        "model.Const1 = pyo.Constraint(model.i,rule=Constraint1)\n",
        "\n",
        "def Constraint2(model,i):\n",
        "  return sum(F[i]*x[i] for i in model.i) <= 20\n",
        "model.Const2 = pyo.Constraint(model.i,rule=Constraint2)\n",
        "\n",
        "def Constraint3(model,i):\n",
        "  return sum(C[i]*x[i] for i in model.i) <= 8\n",
        "model.Const3 = pyo.Constraint(model.i,rule=Constraint3)\n",
        "\n",
        "def Constraint4(model,i):\n",
        "  return x['Table'] <= 5"
      ],
      "metadata": {
        "id": "RU_ZF6CM2s9w"
      },
      "execution_count": 5,
      "outputs": []
    },
    {
      "cell_type": "code",
      "source": [
        "## Solve\n",
        "\n",
        "Solver = SolverFactory('glpk')\n",
        "results = Solver.solve(model)\n",
        "\n"
      ],
      "metadata": {
        "id": "PxSUoBqbHQ_f"
      },
      "execution_count": 21,
      "outputs": []
    },
    {
      "cell_type": "code",
      "source": [
        "print(results)\n",
        "print('Objective Function = ', model.Obj())\n",
        "for i in model.i:\n",
        "  print('Number of',i,\"produced = \",x[i]())\n"
      ],
      "metadata": {
        "colab": {
          "base_uri": "https://localhost:8080/"
        },
        "id": "KTp3V8k7JLDp",
        "outputId": "7737e1aa-24ef-40f4-df6b-33754954723d"
      },
      "execution_count": 22,
      "outputs": [
        {
          "output_type": "stream",
          "name": "stdout",
          "text": [
            "\n",
            "Problem: \n",
            "- Name: unknown\n",
            "  Lower bound: 280.0\n",
            "  Upper bound: 280.0\n",
            "  Number of objectives: 1\n",
            "  Number of constraints: 10\n",
            "  Number of variables: 4\n",
            "  Number of nonzeros: 28\n",
            "  Sense: maximize\n",
            "Solver: \n",
            "- Status: ok\n",
            "  Termination condition: optimal\n",
            "  Statistics: \n",
            "    Branch and bound: \n",
            "      Number of bounded subproblems: 0\n",
            "      Number of created subproblems: 0\n",
            "  Error rc: 0\n",
            "  Time: 0.01866316795349121\n",
            "Solution: \n",
            "- number of solutions: 0\n",
            "  number of solutions displayed: 0\n",
            "\n",
            "Objective Function =  280.0\n",
            "Number of Desk produced =  2.0\n",
            "Number of Table produced =  0.0\n",
            "Number of Chair produced =  8.0\n"
          ]
        }
      ]
    },
    {
      "cell_type": "code",
      "source": [
        ""
      ],
      "metadata": {
        "id": "CoWo-EqlJffK"
      },
      "execution_count": null,
      "outputs": []
    }
  ]
}