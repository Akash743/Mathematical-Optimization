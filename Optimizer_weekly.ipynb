{
  "nbformat": 4,
  "nbformat_minor": 0,
  "metadata": {
    "colab": {
      "provenance": [],
      "collapsed_sections": [],
      "authorship_tag": "ABX9TyOdokgk6xOtCOWj1r1z6o0r",
      "include_colab_link": true
    },
    "kernelspec": {
      "name": "python3",
      "display_name": "Python 3"
    },
    "language_info": {
      "name": "python"
    }
  },
  "cells": [
    {
      "cell_type": "markdown",
      "metadata": {
        "id": "view-in-github",
        "colab_type": "text"
      },
      "source": [
        "<a href=\"https://colab.research.google.com/github/Akash743/Mathematical-Optimization/blob/main/Optimizer_weekly.ipynb\" target=\"_parent\"><img src=\"https://colab.research.google.com/assets/colab-badge.svg\" alt=\"Open In Colab\"/></a>"
      ]
    },
    {
      "cell_type": "code",
      "execution_count": 1,
      "metadata": {
        "colab": {
          "base_uri": "https://localhost:8080/"
        },
        "id": "FXNqwb5gq0cw",
        "outputId": "95b2b617-8de2-47b7-b843-54f771679f6b"
      },
      "outputs": [
        {
          "output_type": "stream",
          "name": "stdout",
          "text": [
            "Looking in indexes: https://pypi.org/simple, https://us-python.pkg.dev/colab-wheels/public/simple/\n",
            "Requirement already satisfied: pyomo in /usr/local/lib/python3.7/dist-packages (6.4.2)\n",
            "Requirement already satisfied: ply in /usr/local/lib/python3.7/dist-packages (from pyomo) (3.11)\n"
          ]
        }
      ],
      "source": [
        "!pip install pyomo\n",
        "!apt-get install -y -qq glpk-utils  #glpk is the solver\n",
        "!wget -N -q \"https://ampl.com/dl/open/couenne/couenne-linux64.zip\"\n",
        "!unzip -o -q couenne-linux64\n",
        "import pyomo.environ as pyo\n",
        "from pyomo.opt import SolverFactory\n",
        "\n",
        "from pyomo.environ import * # for using pyomo functions like exp"
      ]
    },
    {
      "cell_type": "code",
      "source": [
        "import pandas as pd\n",
        "\n",
        "model = pyo.ConcreteModel()\n",
        "\n",
        "# Sets\n",
        "model.i = pyo.RangeSet(1,6)\n",
        "model.j = pyo.RangeSet(1,13)\n",
        "\n",
        "# Parameters\n",
        "S = pd.read_excel('Weekly_OPTIMIZATION_TESTING.xlsm',sheet_name='Spends',header=0,index_col=0,usecols='A:G',nrows=13)\n",
        "C = pd.read_excel('Weekly_OPTIMIZATION_TESTING.xlsm',sheet_name='CPP',header=0,index_col=0,usecols='A:G',nrows=13)\n",
        "T = pd.read_excel('Weekly_OPTIMIZATION_TESTING.xlsm',sheet_name='Transformation',header=0,index_col=0,usecols='A:G',nrows=13)\n",
        "\n",
        "\"\"\"\n",
        "i = M1, M2, M3...\n",
        "j = W1, W2, W3...\n",
        "\"\"\""
      ],
      "metadata": {
        "id": "feUgiVfzIWtM",
        "outputId": "186b86b9-664c-48ad-a0c3-bea3c9a380f8",
        "colab": {
          "base_uri": "https://localhost:8080/",
          "height": 36
        }
      },
      "execution_count": 2,
      "outputs": [
        {
          "output_type": "execute_result",
          "data": {
            "text/plain": [
              "'\\ni = M1, M2, M3...\\nj = W1, W2, W3...\\n'"
            ],
            "application/vnd.google.colaboratory.intrinsic+json": {
              "type": "string"
            }
          },
          "metadata": {},
          "execution_count": 2
        }
      ]
    },
    {
      "cell_type": "code",
      "source": [
        "C"
      ],
      "metadata": {
        "id": "4nzAcRWMeh57",
        "outputId": "91564d33-5f7a-4c00-efa2-393f97b72803",
        "colab": {
          "base_uri": "https://localhost:8080/",
          "height": 488
        }
      },
      "execution_count": 36,
      "outputs": [
        {
          "output_type": "execute_result",
          "data": {
            "text/plain": [
              "               1         2         3         4         5           6\n",
              "Period                                                              \n",
              "1       0.010282  0.000000  0.000756  0.000000  0.000000    0.000000\n",
              "2       0.011041  0.000000  0.000773  0.000182  0.435862    0.000000\n",
              "3       0.015013  0.000000  0.000512  0.000169  0.338902  168.386464\n",
              "4       0.017389  0.000000  0.000545  0.000149  0.313671  168.386464\n",
              "5       0.016280  0.000000  0.000000  0.000118  0.270023  168.386464\n",
              "6       0.015711  0.000000  0.000000  0.000000  0.256921    0.000000\n",
              "7       0.015745  0.000000  0.000000  0.000000  0.256921  140.839250\n",
              "8       0.015555  0.000000  0.000000  0.000142  0.256921  140.839250\n",
              "9       0.000000  0.000000  0.000000  0.000134  0.256921  140.839250\n",
              "10      0.000000  0.000188  0.000000  0.000132  0.256921    0.000000\n",
              "11      0.000000  0.000168  0.000000  0.000151  0.256921    0.000000\n",
              "12      0.000000  0.000136  0.000000  0.000000  0.267785    0.000000\n",
              "13      0.000000  0.000140  0.000000  0.000000  0.138880    0.000000"
            ],
            "text/html": [
              "\n",
              "  <div id=\"df-2ac37d8b-f47f-4e24-a81a-4ca2d2b9e063\">\n",
              "    <div class=\"colab-df-container\">\n",
              "      <div>\n",
              "<style scoped>\n",
              "    .dataframe tbody tr th:only-of-type {\n",
              "        vertical-align: middle;\n",
              "    }\n",
              "\n",
              "    .dataframe tbody tr th {\n",
              "        vertical-align: top;\n",
              "    }\n",
              "\n",
              "    .dataframe thead th {\n",
              "        text-align: right;\n",
              "    }\n",
              "</style>\n",
              "<table border=\"1\" class=\"dataframe\">\n",
              "  <thead>\n",
              "    <tr style=\"text-align: right;\">\n",
              "      <th></th>\n",
              "      <th>1</th>\n",
              "      <th>2</th>\n",
              "      <th>3</th>\n",
              "      <th>4</th>\n",
              "      <th>5</th>\n",
              "      <th>6</th>\n",
              "    </tr>\n",
              "    <tr>\n",
              "      <th>Period</th>\n",
              "      <th></th>\n",
              "      <th></th>\n",
              "      <th></th>\n",
              "      <th></th>\n",
              "      <th></th>\n",
              "      <th></th>\n",
              "    </tr>\n",
              "  </thead>\n",
              "  <tbody>\n",
              "    <tr>\n",
              "      <th>1</th>\n",
              "      <td>0.010282</td>\n",
              "      <td>0.000000</td>\n",
              "      <td>0.000756</td>\n",
              "      <td>0.000000</td>\n",
              "      <td>0.000000</td>\n",
              "      <td>0.000000</td>\n",
              "    </tr>\n",
              "    <tr>\n",
              "      <th>2</th>\n",
              "      <td>0.011041</td>\n",
              "      <td>0.000000</td>\n",
              "      <td>0.000773</td>\n",
              "      <td>0.000182</td>\n",
              "      <td>0.435862</td>\n",
              "      <td>0.000000</td>\n",
              "    </tr>\n",
              "    <tr>\n",
              "      <th>3</th>\n",
              "      <td>0.015013</td>\n",
              "      <td>0.000000</td>\n",
              "      <td>0.000512</td>\n",
              "      <td>0.000169</td>\n",
              "      <td>0.338902</td>\n",
              "      <td>168.386464</td>\n",
              "    </tr>\n",
              "    <tr>\n",
              "      <th>4</th>\n",
              "      <td>0.017389</td>\n",
              "      <td>0.000000</td>\n",
              "      <td>0.000545</td>\n",
              "      <td>0.000149</td>\n",
              "      <td>0.313671</td>\n",
              "      <td>168.386464</td>\n",
              "    </tr>\n",
              "    <tr>\n",
              "      <th>5</th>\n",
              "      <td>0.016280</td>\n",
              "      <td>0.000000</td>\n",
              "      <td>0.000000</td>\n",
              "      <td>0.000118</td>\n",
              "      <td>0.270023</td>\n",
              "      <td>168.386464</td>\n",
              "    </tr>\n",
              "    <tr>\n",
              "      <th>6</th>\n",
              "      <td>0.015711</td>\n",
              "      <td>0.000000</td>\n",
              "      <td>0.000000</td>\n",
              "      <td>0.000000</td>\n",
              "      <td>0.256921</td>\n",
              "      <td>0.000000</td>\n",
              "    </tr>\n",
              "    <tr>\n",
              "      <th>7</th>\n",
              "      <td>0.015745</td>\n",
              "      <td>0.000000</td>\n",
              "      <td>0.000000</td>\n",
              "      <td>0.000000</td>\n",
              "      <td>0.256921</td>\n",
              "      <td>140.839250</td>\n",
              "    </tr>\n",
              "    <tr>\n",
              "      <th>8</th>\n",
              "      <td>0.015555</td>\n",
              "      <td>0.000000</td>\n",
              "      <td>0.000000</td>\n",
              "      <td>0.000142</td>\n",
              "      <td>0.256921</td>\n",
              "      <td>140.839250</td>\n",
              "    </tr>\n",
              "    <tr>\n",
              "      <th>9</th>\n",
              "      <td>0.000000</td>\n",
              "      <td>0.000000</td>\n",
              "      <td>0.000000</td>\n",
              "      <td>0.000134</td>\n",
              "      <td>0.256921</td>\n",
              "      <td>140.839250</td>\n",
              "    </tr>\n",
              "    <tr>\n",
              "      <th>10</th>\n",
              "      <td>0.000000</td>\n",
              "      <td>0.000188</td>\n",
              "      <td>0.000000</td>\n",
              "      <td>0.000132</td>\n",
              "      <td>0.256921</td>\n",
              "      <td>0.000000</td>\n",
              "    </tr>\n",
              "    <tr>\n",
              "      <th>11</th>\n",
              "      <td>0.000000</td>\n",
              "      <td>0.000168</td>\n",
              "      <td>0.000000</td>\n",
              "      <td>0.000151</td>\n",
              "      <td>0.256921</td>\n",
              "      <td>0.000000</td>\n",
              "    </tr>\n",
              "    <tr>\n",
              "      <th>12</th>\n",
              "      <td>0.000000</td>\n",
              "      <td>0.000136</td>\n",
              "      <td>0.000000</td>\n",
              "      <td>0.000000</td>\n",
              "      <td>0.267785</td>\n",
              "      <td>0.000000</td>\n",
              "    </tr>\n",
              "    <tr>\n",
              "      <th>13</th>\n",
              "      <td>0.000000</td>\n",
              "      <td>0.000140</td>\n",
              "      <td>0.000000</td>\n",
              "      <td>0.000000</td>\n",
              "      <td>0.138880</td>\n",
              "      <td>0.000000</td>\n",
              "    </tr>\n",
              "  </tbody>\n",
              "</table>\n",
              "</div>\n",
              "      <button class=\"colab-df-convert\" onclick=\"convertToInteractive('df-2ac37d8b-f47f-4e24-a81a-4ca2d2b9e063')\"\n",
              "              title=\"Convert this dataframe to an interactive table.\"\n",
              "              style=\"display:none;\">\n",
              "        \n",
              "  <svg xmlns=\"http://www.w3.org/2000/svg\" height=\"24px\"viewBox=\"0 0 24 24\"\n",
              "       width=\"24px\">\n",
              "    <path d=\"M0 0h24v24H0V0z\" fill=\"none\"/>\n",
              "    <path d=\"M18.56 5.44l.94 2.06.94-2.06 2.06-.94-2.06-.94-.94-2.06-.94 2.06-2.06.94zm-11 1L8.5 8.5l.94-2.06 2.06-.94-2.06-.94L8.5 2.5l-.94 2.06-2.06.94zm10 10l.94 2.06.94-2.06 2.06-.94-2.06-.94-.94-2.06-.94 2.06-2.06.94z\"/><path d=\"M17.41 7.96l-1.37-1.37c-.4-.4-.92-.59-1.43-.59-.52 0-1.04.2-1.43.59L10.3 9.45l-7.72 7.72c-.78.78-.78 2.05 0 2.83L4 21.41c.39.39.9.59 1.41.59.51 0 1.02-.2 1.41-.59l7.78-7.78 2.81-2.81c.8-.78.8-2.07 0-2.86zM5.41 20L4 18.59l7.72-7.72 1.47 1.35L5.41 20z\"/>\n",
              "  </svg>\n",
              "      </button>\n",
              "      \n",
              "  <style>\n",
              "    .colab-df-container {\n",
              "      display:flex;\n",
              "      flex-wrap:wrap;\n",
              "      gap: 12px;\n",
              "    }\n",
              "\n",
              "    .colab-df-convert {\n",
              "      background-color: #E8F0FE;\n",
              "      border: none;\n",
              "      border-radius: 50%;\n",
              "      cursor: pointer;\n",
              "      display: none;\n",
              "      fill: #1967D2;\n",
              "      height: 32px;\n",
              "      padding: 0 0 0 0;\n",
              "      width: 32px;\n",
              "    }\n",
              "\n",
              "    .colab-df-convert:hover {\n",
              "      background-color: #E2EBFA;\n",
              "      box-shadow: 0px 1px 2px rgba(60, 64, 67, 0.3), 0px 1px 3px 1px rgba(60, 64, 67, 0.15);\n",
              "      fill: #174EA6;\n",
              "    }\n",
              "\n",
              "    [theme=dark] .colab-df-convert {\n",
              "      background-color: #3B4455;\n",
              "      fill: #D2E3FC;\n",
              "    }\n",
              "\n",
              "    [theme=dark] .colab-df-convert:hover {\n",
              "      background-color: #434B5C;\n",
              "      box-shadow: 0px 1px 3px 1px rgba(0, 0, 0, 0.15);\n",
              "      filter: drop-shadow(0px 1px 2px rgba(0, 0, 0, 0.3));\n",
              "      fill: #FFFFFF;\n",
              "    }\n",
              "  </style>\n",
              "\n",
              "      <script>\n",
              "        const buttonEl =\n",
              "          document.querySelector('#df-2ac37d8b-f47f-4e24-a81a-4ca2d2b9e063 button.colab-df-convert');\n",
              "        buttonEl.style.display =\n",
              "          google.colab.kernel.accessAllowed ? 'block' : 'none';\n",
              "\n",
              "        async function convertToInteractive(key) {\n",
              "          const element = document.querySelector('#df-2ac37d8b-f47f-4e24-a81a-4ca2d2b9e063');\n",
              "          const dataTable =\n",
              "            await google.colab.kernel.invokeFunction('convertToInteractive',\n",
              "                                                     [key], {});\n",
              "          if (!dataTable) return;\n",
              "\n",
              "          const docLinkHtml = 'Like what you see? Visit the ' +\n",
              "            '<a target=\"_blank\" href=https://colab.research.google.com/notebooks/data_table.ipynb>data table notebook</a>'\n",
              "            + ' to learn more about interactive tables.';\n",
              "          element.innerHTML = '';\n",
              "          dataTable['output_type'] = 'display_data';\n",
              "          await google.colab.output.renderOutput(dataTable, element);\n",
              "          const docLink = document.createElement('div');\n",
              "          docLink.innerHTML = docLinkHtml;\n",
              "          element.appendChild(docLink);\n",
              "        }\n",
              "      </script>\n",
              "    </div>\n",
              "  </div>\n",
              "  "
            ]
          },
          "metadata": {},
          "execution_count": 36
        }
      ]
    },
    {
      "cell_type": "code",
      "source": [
        "S.head()"
      ],
      "metadata": {
        "id": "daVyQb-pIWwK",
        "outputId": "725a020e-11b7-4d90-8366-54656afd67d9",
        "colab": {
          "base_uri": "https://localhost:8080/",
          "height": 237
        }
      },
      "execution_count": 10,
      "outputs": [
        {
          "output_type": "execute_result",
          "data": {
            "text/plain": [
              "              1    2             3         4            5             6\n",
              "Period                                                                 \n",
              "1       1681.50  0.0   6141.681550      0.00     0.000000      0.000000\n",
              "2       2476.10  0.0  15080.853226  12833.30  1547.846154      0.000000\n",
              "3       3279.79  0.0   7192.357366   4191.13  1665.318681  39133.014118\n",
              "4       2585.39  0.0   3574.155648   1806.90  1712.307692  39133.014118\n",
              "5       1051.12  0.0      0.000000    800.00  1824.175824   5590.430588"
            ],
            "text/html": [
              "\n",
              "  <div id=\"df-e9ff7daf-6999-46f3-b53e-0a9954f2f2bc\">\n",
              "    <div class=\"colab-df-container\">\n",
              "      <div>\n",
              "<style scoped>\n",
              "    .dataframe tbody tr th:only-of-type {\n",
              "        vertical-align: middle;\n",
              "    }\n",
              "\n",
              "    .dataframe tbody tr th {\n",
              "        vertical-align: top;\n",
              "    }\n",
              "\n",
              "    .dataframe thead th {\n",
              "        text-align: right;\n",
              "    }\n",
              "</style>\n",
              "<table border=\"1\" class=\"dataframe\">\n",
              "  <thead>\n",
              "    <tr style=\"text-align: right;\">\n",
              "      <th></th>\n",
              "      <th>1</th>\n",
              "      <th>2</th>\n",
              "      <th>3</th>\n",
              "      <th>4</th>\n",
              "      <th>5</th>\n",
              "      <th>6</th>\n",
              "    </tr>\n",
              "    <tr>\n",
              "      <th>Period</th>\n",
              "      <th></th>\n",
              "      <th></th>\n",
              "      <th></th>\n",
              "      <th></th>\n",
              "      <th></th>\n",
              "      <th></th>\n",
              "    </tr>\n",
              "  </thead>\n",
              "  <tbody>\n",
              "    <tr>\n",
              "      <th>1</th>\n",
              "      <td>1681.50</td>\n",
              "      <td>0.0</td>\n",
              "      <td>6141.681550</td>\n",
              "      <td>0.00</td>\n",
              "      <td>0.000000</td>\n",
              "      <td>0.000000</td>\n",
              "    </tr>\n",
              "    <tr>\n",
              "      <th>2</th>\n",
              "      <td>2476.10</td>\n",
              "      <td>0.0</td>\n",
              "      <td>15080.853226</td>\n",
              "      <td>12833.30</td>\n",
              "      <td>1547.846154</td>\n",
              "      <td>0.000000</td>\n",
              "    </tr>\n",
              "    <tr>\n",
              "      <th>3</th>\n",
              "      <td>3279.79</td>\n",
              "      <td>0.0</td>\n",
              "      <td>7192.357366</td>\n",
              "      <td>4191.13</td>\n",
              "      <td>1665.318681</td>\n",
              "      <td>39133.014118</td>\n",
              "    </tr>\n",
              "    <tr>\n",
              "      <th>4</th>\n",
              "      <td>2585.39</td>\n",
              "      <td>0.0</td>\n",
              "      <td>3574.155648</td>\n",
              "      <td>1806.90</td>\n",
              "      <td>1712.307692</td>\n",
              "      <td>39133.014118</td>\n",
              "    </tr>\n",
              "    <tr>\n",
              "      <th>5</th>\n",
              "      <td>1051.12</td>\n",
              "      <td>0.0</td>\n",
              "      <td>0.000000</td>\n",
              "      <td>800.00</td>\n",
              "      <td>1824.175824</td>\n",
              "      <td>5590.430588</td>\n",
              "    </tr>\n",
              "  </tbody>\n",
              "</table>\n",
              "</div>\n",
              "      <button class=\"colab-df-convert\" onclick=\"convertToInteractive('df-e9ff7daf-6999-46f3-b53e-0a9954f2f2bc')\"\n",
              "              title=\"Convert this dataframe to an interactive table.\"\n",
              "              style=\"display:none;\">\n",
              "        \n",
              "  <svg xmlns=\"http://www.w3.org/2000/svg\" height=\"24px\"viewBox=\"0 0 24 24\"\n",
              "       width=\"24px\">\n",
              "    <path d=\"M0 0h24v24H0V0z\" fill=\"none\"/>\n",
              "    <path d=\"M18.56 5.44l.94 2.06.94-2.06 2.06-.94-2.06-.94-.94-2.06-.94 2.06-2.06.94zm-11 1L8.5 8.5l.94-2.06 2.06-.94-2.06-.94L8.5 2.5l-.94 2.06-2.06.94zm10 10l.94 2.06.94-2.06 2.06-.94-2.06-.94-.94-2.06-.94 2.06-2.06.94z\"/><path d=\"M17.41 7.96l-1.37-1.37c-.4-.4-.92-.59-1.43-.59-.52 0-1.04.2-1.43.59L10.3 9.45l-7.72 7.72c-.78.78-.78 2.05 0 2.83L4 21.41c.39.39.9.59 1.41.59.51 0 1.02-.2 1.41-.59l7.78-7.78 2.81-2.81c.8-.78.8-2.07 0-2.86zM5.41 20L4 18.59l7.72-7.72 1.47 1.35L5.41 20z\"/>\n",
              "  </svg>\n",
              "      </button>\n",
              "      \n",
              "  <style>\n",
              "    .colab-df-container {\n",
              "      display:flex;\n",
              "      flex-wrap:wrap;\n",
              "      gap: 12px;\n",
              "    }\n",
              "\n",
              "    .colab-df-convert {\n",
              "      background-color: #E8F0FE;\n",
              "      border: none;\n",
              "      border-radius: 50%;\n",
              "      cursor: pointer;\n",
              "      display: none;\n",
              "      fill: #1967D2;\n",
              "      height: 32px;\n",
              "      padding: 0 0 0 0;\n",
              "      width: 32px;\n",
              "    }\n",
              "\n",
              "    .colab-df-convert:hover {\n",
              "      background-color: #E2EBFA;\n",
              "      box-shadow: 0px 1px 2px rgba(60, 64, 67, 0.3), 0px 1px 3px 1px rgba(60, 64, 67, 0.15);\n",
              "      fill: #174EA6;\n",
              "    }\n",
              "\n",
              "    [theme=dark] .colab-df-convert {\n",
              "      background-color: #3B4455;\n",
              "      fill: #D2E3FC;\n",
              "    }\n",
              "\n",
              "    [theme=dark] .colab-df-convert:hover {\n",
              "      background-color: #434B5C;\n",
              "      box-shadow: 0px 1px 3px 1px rgba(0, 0, 0, 0.15);\n",
              "      filter: drop-shadow(0px 1px 2px rgba(0, 0, 0, 0.3));\n",
              "      fill: #FFFFFF;\n",
              "    }\n",
              "  </style>\n",
              "\n",
              "      <script>\n",
              "        const buttonEl =\n",
              "          document.querySelector('#df-e9ff7daf-6999-46f3-b53e-0a9954f2f2bc button.colab-df-convert');\n",
              "        buttonEl.style.display =\n",
              "          google.colab.kernel.accessAllowed ? 'block' : 'none';\n",
              "\n",
              "        async function convertToInteractive(key) {\n",
              "          const element = document.querySelector('#df-e9ff7daf-6999-46f3-b53e-0a9954f2f2bc');\n",
              "          const dataTable =\n",
              "            await google.colab.kernel.invokeFunction('convertToInteractive',\n",
              "                                                     [key], {});\n",
              "          if (!dataTable) return;\n",
              "\n",
              "          const docLinkHtml = 'Like what you see? Visit the ' +\n",
              "            '<a target=\"_blank\" href=https://colab.research.google.com/notebooks/data_table.ipynb>data table notebook</a>'\n",
              "            + ' to learn more about interactive tables.';\n",
              "          element.innerHTML = '';\n",
              "          dataTable['output_type'] = 'display_data';\n",
              "          await google.colab.output.renderOutput(dataTable, element);\n",
              "          const docLink = document.createElement('div');\n",
              "          docLink.innerHTML = docLinkHtml;\n",
              "          element.appendChild(docLink);\n",
              "        }\n",
              "      </script>\n",
              "    </div>\n",
              "  </div>\n",
              "  "
            ]
          },
          "metadata": {},
          "execution_count": 10
        }
      ]
    },
    {
      "cell_type": "code",
      "source": [
        "spends = {}\n",
        "for i in range(1,len(S.columns)+1):\n",
        "  for j in range(1,len(S.index)+1):\n",
        "    spends[(i,j)] = S.loc[j,i]\n",
        "cpp = {} \n",
        "for i in range(1,len(C.columns)+1):\n",
        "  for j in range(1,len(C.index)+1):\n",
        "    cpp[(i,j)] = C.loc[j,i]"
      ],
      "metadata": {
        "id": "LBmiWPBbXt7W"
      },
      "execution_count": 3,
      "outputs": []
    },
    {
      "cell_type": "code",
      "source": [
        "T.head()"
      ],
      "metadata": {
        "id": "U5OLr0k9ho2q",
        "outputId": "baf0634b-41d1-49b0-9035-74188c81276e",
        "colab": {
          "base_uri": "https://localhost:8080/",
          "height": 206
        }
      },
      "execution_count": 42,
      "outputs": [
        {
          "output_type": "execute_result",
          "data": {
            "text/plain": [
              "    Type  Half Life   Max Adstock  Saturation  Steepness  Coefficient\n",
              "1  Media        1.0  3.828436e+05         0.7        0.3     0.000835\n",
              "2  Media        0.5  8.401198e+06         0.8        0.5     0.000069\n",
              "3  Media        1.5  3.034951e+07         0.5        0.4     0.000006\n",
              "4  Media        3.0  1.135283e+08         0.9        0.6     0.000022\n",
              "5  Promo        NaN  7.274308e+03         NaN        NaN     0.045272"
            ],
            "text/html": [
              "\n",
              "  <div id=\"df-5f6e834a-0eee-4677-b6ff-82dd4cf44548\">\n",
              "    <div class=\"colab-df-container\">\n",
              "      <div>\n",
              "<style scoped>\n",
              "    .dataframe tbody tr th:only-of-type {\n",
              "        vertical-align: middle;\n",
              "    }\n",
              "\n",
              "    .dataframe tbody tr th {\n",
              "        vertical-align: top;\n",
              "    }\n",
              "\n",
              "    .dataframe thead th {\n",
              "        text-align: right;\n",
              "    }\n",
              "</style>\n",
              "<table border=\"1\" class=\"dataframe\">\n",
              "  <thead>\n",
              "    <tr style=\"text-align: right;\">\n",
              "      <th></th>\n",
              "      <th>Type</th>\n",
              "      <th>Half Life</th>\n",
              "      <th>Max Adstock</th>\n",
              "      <th>Saturation</th>\n",
              "      <th>Steepness</th>\n",
              "      <th>Coefficient</th>\n",
              "    </tr>\n",
              "  </thead>\n",
              "  <tbody>\n",
              "    <tr>\n",
              "      <th>1</th>\n",
              "      <td>Media</td>\n",
              "      <td>1.0</td>\n",
              "      <td>3.828436e+05</td>\n",
              "      <td>0.7</td>\n",
              "      <td>0.3</td>\n",
              "      <td>0.000835</td>\n",
              "    </tr>\n",
              "    <tr>\n",
              "      <th>2</th>\n",
              "      <td>Media</td>\n",
              "      <td>0.5</td>\n",
              "      <td>8.401198e+06</td>\n",
              "      <td>0.8</td>\n",
              "      <td>0.5</td>\n",
              "      <td>0.000069</td>\n",
              "    </tr>\n",
              "    <tr>\n",
              "      <th>3</th>\n",
              "      <td>Media</td>\n",
              "      <td>1.5</td>\n",
              "      <td>3.034951e+07</td>\n",
              "      <td>0.5</td>\n",
              "      <td>0.4</td>\n",
              "      <td>0.000006</td>\n",
              "    </tr>\n",
              "    <tr>\n",
              "      <th>4</th>\n",
              "      <td>Media</td>\n",
              "      <td>3.0</td>\n",
              "      <td>1.135283e+08</td>\n",
              "      <td>0.9</td>\n",
              "      <td>0.6</td>\n",
              "      <td>0.000022</td>\n",
              "    </tr>\n",
              "    <tr>\n",
              "      <th>5</th>\n",
              "      <td>Promo</td>\n",
              "      <td>NaN</td>\n",
              "      <td>7.274308e+03</td>\n",
              "      <td>NaN</td>\n",
              "      <td>NaN</td>\n",
              "      <td>0.045272</td>\n",
              "    </tr>\n",
              "  </tbody>\n",
              "</table>\n",
              "</div>\n",
              "      <button class=\"colab-df-convert\" onclick=\"convertToInteractive('df-5f6e834a-0eee-4677-b6ff-82dd4cf44548')\"\n",
              "              title=\"Convert this dataframe to an interactive table.\"\n",
              "              style=\"display:none;\">\n",
              "        \n",
              "  <svg xmlns=\"http://www.w3.org/2000/svg\" height=\"24px\"viewBox=\"0 0 24 24\"\n",
              "       width=\"24px\">\n",
              "    <path d=\"M0 0h24v24H0V0z\" fill=\"none\"/>\n",
              "    <path d=\"M18.56 5.44l.94 2.06.94-2.06 2.06-.94-2.06-.94-.94-2.06-.94 2.06-2.06.94zm-11 1L8.5 8.5l.94-2.06 2.06-.94-2.06-.94L8.5 2.5l-.94 2.06-2.06.94zm10 10l.94 2.06.94-2.06 2.06-.94-2.06-.94-.94-2.06-.94 2.06-2.06.94z\"/><path d=\"M17.41 7.96l-1.37-1.37c-.4-.4-.92-.59-1.43-.59-.52 0-1.04.2-1.43.59L10.3 9.45l-7.72 7.72c-.78.78-.78 2.05 0 2.83L4 21.41c.39.39.9.59 1.41.59.51 0 1.02-.2 1.41-.59l7.78-7.78 2.81-2.81c.8-.78.8-2.07 0-2.86zM5.41 20L4 18.59l7.72-7.72 1.47 1.35L5.41 20z\"/>\n",
              "  </svg>\n",
              "      </button>\n",
              "      \n",
              "  <style>\n",
              "    .colab-df-container {\n",
              "      display:flex;\n",
              "      flex-wrap:wrap;\n",
              "      gap: 12px;\n",
              "    }\n",
              "\n",
              "    .colab-df-convert {\n",
              "      background-color: #E8F0FE;\n",
              "      border: none;\n",
              "      border-radius: 50%;\n",
              "      cursor: pointer;\n",
              "      display: none;\n",
              "      fill: #1967D2;\n",
              "      height: 32px;\n",
              "      padding: 0 0 0 0;\n",
              "      width: 32px;\n",
              "    }\n",
              "\n",
              "    .colab-df-convert:hover {\n",
              "      background-color: #E2EBFA;\n",
              "      box-shadow: 0px 1px 2px rgba(60, 64, 67, 0.3), 0px 1px 3px 1px rgba(60, 64, 67, 0.15);\n",
              "      fill: #174EA6;\n",
              "    }\n",
              "\n",
              "    [theme=dark] .colab-df-convert {\n",
              "      background-color: #3B4455;\n",
              "      fill: #D2E3FC;\n",
              "    }\n",
              "\n",
              "    [theme=dark] .colab-df-convert:hover {\n",
              "      background-color: #434B5C;\n",
              "      box-shadow: 0px 1px 3px 1px rgba(0, 0, 0, 0.15);\n",
              "      filter: drop-shadow(0px 1px 2px rgba(0, 0, 0, 0.3));\n",
              "      fill: #FFFFFF;\n",
              "    }\n",
              "  </style>\n",
              "\n",
              "      <script>\n",
              "        const buttonEl =\n",
              "          document.querySelector('#df-5f6e834a-0eee-4677-b6ff-82dd4cf44548 button.colab-df-convert');\n",
              "        buttonEl.style.display =\n",
              "          google.colab.kernel.accessAllowed ? 'block' : 'none';\n",
              "\n",
              "        async function convertToInteractive(key) {\n",
              "          const element = document.querySelector('#df-5f6e834a-0eee-4677-b6ff-82dd4cf44548');\n",
              "          const dataTable =\n",
              "            await google.colab.kernel.invokeFunction('convertToInteractive',\n",
              "                                                     [key], {});\n",
              "          if (!dataTable) return;\n",
              "\n",
              "          const docLinkHtml = 'Like what you see? Visit the ' +\n",
              "            '<a target=\"_blank\" href=https://colab.research.google.com/notebooks/data_table.ipynb>data table notebook</a>'\n",
              "            + ' to learn more about interactive tables.';\n",
              "          element.innerHTML = '';\n",
              "          dataTable['output_type'] = 'display_data';\n",
              "          await google.colab.output.renderOutput(dataTable, element);\n",
              "          const docLink = document.createElement('div');\n",
              "          docLink.innerHTML = docLinkHtml;\n",
              "          element.appendChild(docLink);\n",
              "        }\n",
              "      </script>\n",
              "    </div>\n",
              "  </div>\n",
              "  "
            ]
          },
          "metadata": {},
          "execution_count": 42
        }
      ]
    },
    {
      "cell_type": "code",
      "source": [
        "hl = T['Half Life']\n",
        "ma = T['Max Adstock']\n",
        "satr = T['Saturation']\n",
        "coef = T['Coefficient']\n",
        "types = T['Type']"
      ],
      "metadata": {
        "id": "Puj0I52eh1_C"
      },
      "execution_count": 4,
      "outputs": []
    },
    {
      "cell_type": "code",
      "source": [
        "#model.del_component(model.cpk)"
      ],
      "metadata": {
        "id": "InSj18rtkRsG",
        "outputId": "090f0e22-8c79-4475-fd79-6f3ce1d5e474",
        "colab": {
          "base_uri": "https://localhost:8080/",
          "height": 299
        }
      },
      "execution_count": 55,
      "outputs": [
        {
          "output_type": "error",
          "ename": "AttributeError",
          "evalue": "ignored",
          "traceback": [
            "\u001b[0;31m---------------------------------------------------------------------------\u001b[0m",
            "\u001b[0;31mAttributeError\u001b[0m                            Traceback (most recent call last)",
            "\u001b[0;32m<ipython-input-55-e6866ea36a7f>\u001b[0m in \u001b[0;36m<module>\u001b[0;34m\u001b[0m\n\u001b[0;32m----> 1\u001b[0;31m \u001b[0mmodel\u001b[0m\u001b[0;34m.\u001b[0m\u001b[0mdel_component\u001b[0m\u001b[0;34m(\u001b[0m\u001b[0mmodel\u001b[0m\u001b[0;34m.\u001b[0m\u001b[0mcpk\u001b[0m\u001b[0;34m)\u001b[0m\u001b[0;34m\u001b[0m\u001b[0;34m\u001b[0m\u001b[0m\n\u001b[0m",
            "\u001b[0;32m/usr/local/lib/python3.7/dist-packages/pyomo/core/base/block.py\u001b[0m in \u001b[0;36m__getattr__\u001b[0;34m(self, val)\u001b[0m\n\u001b[1;32m    618\u001b[0m         \u001b[0;31m# throw the \"normal\" AttributeError\u001b[0m\u001b[0;34m\u001b[0m\u001b[0;34m\u001b[0m\u001b[0;34m\u001b[0m\u001b[0m\n\u001b[1;32m    619\u001b[0m         raise AttributeError(\"'%s' object has no attribute '%s'\"\n\u001b[0;32m--> 620\u001b[0;31m                              % (self.__class__.__name__, val))\n\u001b[0m\u001b[1;32m    621\u001b[0m \u001b[0;34m\u001b[0m\u001b[0m\n\u001b[1;32m    622\u001b[0m     \u001b[0;32mdef\u001b[0m \u001b[0m__setattr__\u001b[0m\u001b[0;34m(\u001b[0m\u001b[0mself\u001b[0m\u001b[0;34m,\u001b[0m \u001b[0mname\u001b[0m\u001b[0;34m,\u001b[0m \u001b[0mval\u001b[0m\u001b[0;34m)\u001b[0m\u001b[0;34m:\u001b[0m\u001b[0;34m\u001b[0m\u001b[0;34m\u001b[0m\u001b[0m\n",
            "\u001b[0;31mAttributeError\u001b[0m: 'ConcreteModel' object has no attribute 'cpk'"
          ]
        }
      ]
    },
    {
      "cell_type": "code",
      "source": [
        "## Defining Parameters\n",
        "##  ????? spends is param or var\n",
        "# model.sp = pyo.Param(model.i,model.j, initialize = spends)\n",
        "# sp = model.sp\n",
        "model.cpm = pyo.Param(model.i,model.j, initialize = cpp)\n",
        "cpm = model.cpm\n",
        "\n",
        "model.hlf = pyo.Param(model.i,initialize = hl)\n",
        "hlf = model.hlf\n",
        "\n",
        "model.mad = pyo.Param(model.i,initialize = ma)\n",
        "mad = model.mad\n",
        "\n",
        "model.sat = pyo.Param(model.i,initialize = satr)\n",
        "sat = model.sat\n",
        "\n",
        "model.typ = pyo.Param(model.i,initialize = types)\n",
        "typ = model.typ\n"
      ],
      "metadata": {
        "id": "Xb5aaw9GYwJE",
        "outputId": "6eca08db-bf22-4556-fdba-365100b6a54a",
        "colab": {
          "base_uri": "https://localhost:8080/"
        }
      },
      "execution_count": 5,
      "outputs": [
        {
          "output_type": "stream",
          "name": "stderr",
          "text": [
            "WARNING:pyomo.core.base:DEPRECATED: Param 'hlf' declared with an implicit domain of 'Any'. The\n",
            "default domain for Param objects is 'Any'.  However, we will be\n",
            "changing that default to 'Reals' in the future.  If you really intend\n",
            "the domain of this Paramto be 'Any', you can suppress this warning by\n",
            "explicitly specifying 'within=Any' to the Param constructor.\n",
            "(deprecated in 5.6.9, will be removed in (or after) 6.0)\n",
            "(called from /usr/local/lib/python3.7/dist-packages/pyomo/core/base/indexed_component.py:645)\n",
            "WARNING:pyomo.core.base:DEPRECATED: Param 'sat' declared with an implicit domain of 'Any'. The\n",
            "default domain for Param objects is 'Any'.  However, we will be\n",
            "changing that default to 'Reals' in the future.  If you really intend\n",
            "the domain of this Paramto be 'Any', you can suppress this warning by\n",
            "explicitly specifying 'within=Any' to the Param constructor.\n",
            "(deprecated in 5.6.9, will be removed in (or after) 6.0)\n",
            "(called from /usr/local/lib/python3.7/dist-packages/pyomo/core/base/indexed_component.py:645)\n",
            "WARNING:pyomo.core.base:DEPRECATED: Param 'typ' declared with an implicit domain of 'Any'. The\n",
            "default domain for Param objects is 'Any'.  However, we will be\n",
            "changing that default to 'Reals' in the future.  If you really intend\n",
            "the domain of this Paramto be 'Any', you can suppress this warning by\n",
            "explicitly specifying 'within=Any' to the Param constructor.\n",
            "(deprecated in 5.6.9, will be removed in (or after) 6.0)\n",
            "(called from /usr/local/lib/python3.7/dist-packages/pyomo/core/base/indexed_component.py:645)\n"
          ]
        }
      ]
    },
    {
      "cell_type": "code",
      "source": [
        "for i in range(1,len(model.typ)):\n",
        "  print(model.typ[i])"
      ],
      "metadata": {
        "id": "hU6ULm6PlUJ_",
        "outputId": "68776d83-c406-45b8-c3ae-663b757a5bbd",
        "colab": {
          "base_uri": "https://localhost:8080/"
        }
      },
      "execution_count": 9,
      "outputs": [
        {
          "output_type": "stream",
          "name": "stdout",
          "text": [
            "Media\n",
            "Media\n",
            "Media\n",
            "Media\n",
            "Promo\n"
          ]
        }
      ]
    },
    {
      "cell_type": "code",
      "source": [
        "## Objective Function\n",
        "def objective_rule(model):\n",
        "  for i in range(1,len(model.typ)+1): ##i for var\n",
        "    if model.typ[i] == \"Media\":\n",
        "      \n",
        "\n"
      ],
      "metadata": {
        "id": "1drEUEYYYzpw",
        "outputId": "f3e51eed-0fcc-4d75-e64e-f2b042acee25",
        "colab": {
          "base_uri": "https://localhost:8080/"
        }
      },
      "execution_count": 41,
      "outputs": [
        {
          "output_type": "execute_result",
          "data": {
            "text/plain": [
              "0.0"
            ]
          },
          "metadata": {},
          "execution_count": 41
        }
      ]
    },
    {
      "cell_type": "code",
      "source": [],
      "metadata": {
        "id": "6vKw3CZcIW07"
      },
      "execution_count": 29,
      "outputs": []
    },
    {
      "cell_type": "code",
      "source": [],
      "metadata": {
        "id": "1eVzI0ezIW69"
      },
      "execution_count": null,
      "outputs": []
    },
    {
      "cell_type": "code",
      "source": [
        "\n",
        "from pyomo.environ import *"
      ],
      "metadata": {
        "id": "GlgWD23HrGza"
      },
      "execution_count": null,
      "outputs": []
    },
    {
      "cell_type": "markdown",
      "source": [
        "CPP = Spends/Raw Execution(RE)\n",
        "\n",
        "RE = Spends/CPP\n",
        "\n",
        "Adstocked execution = RE * Adstock factor(AF)\n",
        "= (Spends/CPP)*AF\n",
        "\n",
        "Avg adst execution = (Spends*AF/CPP)/Exec. periods\n",
        "\n",
        "Now apply transformation on Avg adst execution to get TCP\n",
        "\n",
        "Lift = TCP * Exec. periods * coeffcient\n",
        "\n",
        "Put lift in Optimization equation\n",
        "\n"
      ],
      "metadata": {
        "id": "vDl3_yv8MKPF"
      }
    },
    {
      "cell_type": "code",
      "source": [
        "## Defining the model\n",
        "import numpy as np\n",
        "#import math\n",
        "from pyomo.environ import *\n",
        "model = pyo.ConcreteModel()\n",
        "\n",
        "\n",
        "sp1 = 33150.8411764706\n",
        "sp2 = 233150.268146738\n",
        "\n",
        "\n",
        "## Decision Variables\n",
        "model.s1 = pyo.Var(within = pyo.NonNegativeReals,bounds=(.9*sp1,1.1*sp1)) \n",
        "s1 = model.s1\n",
        "model.s2 = pyo.Var(within = pyo.NonNegativeReals,bounds=(.9*sp2,1.1*sp2))\n",
        "s2 = model.s2\n",
        "\n",
        "\n",
        "expre = ((1953.64352941177/(1+exp(-(10*3/1953.64352941177)*((s1*1/47/1)-0.179872867132035*1953.64352941177))))-8.81752993140885)*0.00133831972924945*47 + ((11441.0307432077/(1+exp(-(10*1/11441.0307432077)*((s2*1/1/154)-0.202998593210211*11441.0307432077))))-1328.19344200206)*0.00245568243410747*154\n",
        "\n",
        "## Objective Function\n",
        "model.Obj = pyo.Objective(expr =expre, sense = pyo.maximize)\n",
        "\n",
        "## Constraint\n",
        "model.Const1 = pyo.Constraint(expr = s1+s2<=266301.109323209)\n",
        "\n",
        "\n",
        "\n",
        "optm = SolverFactory('couenne',executable='/content/couenne')\n",
        "results = optm.solve(model)\n",
        "\n",
        "\n",
        "\n",
        "print('objective function =', model.Obj())\n",
        "print('s1 = ',model.s1())\n",
        "print('s2 = ',model.s2())\n",
        "\n",
        "print('sum total = ',model.s1()+model.s2())"
      ],
      "metadata": {
        "colab": {
          "base_uri": "https://localhost:8080/"
        },
        "id": "3f5PVuz2rNtw",
        "outputId": "1fad7be9-a655-4603-ed33-8a15cd48614b"
      },
      "execution_count": null,
      "outputs": [
        {
          "output_type": "stream",
          "name": "stdout",
          "text": [
            "objective function = 1065.7698788838547\n",
            "s1 =  29835.757357158283\n",
            "s2 =  236465.35226438538\n",
            "sum total =  266301.10962154367\n"
          ]
        }
      ]
    },
    {
      "cell_type": "code",
      "source": [],
      "metadata": {
        "id": "e7bPVDKqxBBd"
      },
      "execution_count": null,
      "outputs": []
    },
    {
      "cell_type": "code",
      "source": [
        "# model.s3 = pyo.Var(within = pyo.NonNegativeReals,bounds=(.7*sp3,1.3*sp3))\n",
        "# s3 = model.s3\n",
        "# model.s4 = pyo.Var(within = pyo.NonNegativeReals,bounds=(.7*sp4,1.3*sp4))\n",
        "# s4 = model.s4\n",
        "# model.s5 = pyo.Var(within = pyo.NonNegativeReals,bounds=(.7*sp5,1.3*sp5))\n",
        "# s5 = model.s5\n",
        "# model.s6 = pyo.Var(within = pyo.NonNegativeReals,bounds=(.7*sp6,1.3*sp6))\n",
        "# s6 = model.s6"
      ],
      "metadata": {
        "id": "GOSfnaKPtjcK"
      },
      "execution_count": null,
      "outputs": []
    },
    {
      "cell_type": "code",
      "source": [],
      "metadata": {
        "id": "6aJx9n1AWXLq"
      },
      "execution_count": null,
      "outputs": []
    }
  ]
}