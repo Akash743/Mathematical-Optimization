{
  "nbformat": 4,
  "nbformat_minor": 0,
  "metadata": {
    "colab": {
      "provenance": [],
      "collapsed_sections": [],
      "authorship_tag": "ABX9TyPKGxBAct14XJGVE4/Yzmlr",
      "include_colab_link": true
    },
    "kernelspec": {
      "name": "python3",
      "display_name": "Python 3"
    },
    "language_info": {
      "name": "python"
    }
  },
  "cells": [
    {
      "cell_type": "markdown",
      "metadata": {
        "id": "view-in-github",
        "colab_type": "text"
      },
      "source": [
        "<a href=\"https://colab.research.google.com/github/Akash743/Mathematical-Optimization/blob/main/Optimizer_weekly.ipynb\" target=\"_parent\"><img src=\"https://colab.research.google.com/assets/colab-badge.svg\" alt=\"Open In Colab\"/></a>"
      ]
    },
    {
      "cell_type": "code",
      "execution_count": 1,
      "metadata": {
        "colab": {
          "base_uri": "https://localhost:8080/"
        },
        "id": "FXNqwb5gq0cw",
        "outputId": "b17d6267-3137-4875-af4a-80dca4237de0"
      },
      "outputs": [
        {
          "output_type": "stream",
          "name": "stdout",
          "text": [
            "Looking in indexes: https://pypi.org/simple, https://us-python.pkg.dev/colab-wheels/public/simple/\n",
            "Collecting pyomo\n",
            "  Downloading Pyomo-6.4.2-cp37-cp37m-manylinux_2_12_x86_64.manylinux2010_x86_64.whl (9.7 MB)\n",
            "\u001b[K     |████████████████████████████████| 9.7 MB 13.5 MB/s \n",
            "\u001b[?25hCollecting ply\n",
            "  Downloading ply-3.11-py2.py3-none-any.whl (49 kB)\n",
            "\u001b[K     |████████████████████████████████| 49 kB 4.6 MB/s \n",
            "\u001b[?25hInstalling collected packages: ply, pyomo\n",
            "Successfully installed ply-3.11 pyomo-6.4.2\n",
            "Selecting previously unselected package libsuitesparseconfig5:amd64.\n",
            "(Reading database ... 155569 files and directories currently installed.)\n",
            "Preparing to unpack .../libsuitesparseconfig5_1%3a5.1.2-2_amd64.deb ...\n",
            "Unpacking libsuitesparseconfig5:amd64 (1:5.1.2-2) ...\n",
            "Selecting previously unselected package libamd2:amd64.\n",
            "Preparing to unpack .../libamd2_1%3a5.1.2-2_amd64.deb ...\n",
            "Unpacking libamd2:amd64 (1:5.1.2-2) ...\n",
            "Selecting previously unselected package libcolamd2:amd64.\n",
            "Preparing to unpack .../libcolamd2_1%3a5.1.2-2_amd64.deb ...\n",
            "Unpacking libcolamd2:amd64 (1:5.1.2-2) ...\n",
            "Selecting previously unselected package libglpk40:amd64.\n",
            "Preparing to unpack .../libglpk40_4.65-1_amd64.deb ...\n",
            "Unpacking libglpk40:amd64 (4.65-1) ...\n",
            "Selecting previously unselected package glpk-utils.\n",
            "Preparing to unpack .../glpk-utils_4.65-1_amd64.deb ...\n",
            "Unpacking glpk-utils (4.65-1) ...\n",
            "Setting up libsuitesparseconfig5:amd64 (1:5.1.2-2) ...\n",
            "Setting up libcolamd2:amd64 (1:5.1.2-2) ...\n",
            "Setting up libamd2:amd64 (1:5.1.2-2) ...\n",
            "Setting up libglpk40:amd64 (4.65-1) ...\n",
            "Setting up glpk-utils (4.65-1) ...\n",
            "Processing triggers for libc-bin (2.27-3ubuntu1.5) ...\n",
            "Processing triggers for man-db (2.8.3-2ubuntu0.1) ...\n"
          ]
        }
      ],
      "source": [
        "!pip install pyomo\n",
        "!apt-get install -y -qq glpk-utils  #glpk is the solver\n",
        "!wget -N -q \"https://ampl.com/dl/open/couenne/couenne-linux64.zip\"\n",
        "!unzip -o -q couenne-linux64\n",
        "import pyomo.environ as pyo\n",
        "from pyomo.opt import SolverFactory\n",
        "\n",
        "from pyomo.environ import * # for using pyomo functions like exp"
      ]
    },
    {
      "cell_type": "code",
      "source": [
        "model = pyo.ConcreteModel()\n",
        "\n",
        "# Sets\n",
        "model.i = pyo.RangeSet(1,6)\n",
        "model.j = pyo.RangeSet(1,13)"
      ],
      "metadata": {
        "id": "mmQVGvfkCg5f"
      },
      "execution_count": 2,
      "outputs": []
    },
    {
      "cell_type": "code",
      "source": [
        "x[i].pprint()"
      ],
      "metadata": {
        "id": "goFVwVAcCiAr",
        "outputId": "dabc4fe4-d855-4a89-d2c8-3d01d3ff7d4b",
        "colab": {
          "base_uri": "https://localhost:8080/"
        }
      },
      "execution_count": null,
      "outputs": [
        {
          "output_type": "stream",
          "name": "stdout",
          "text": [
            "{Member of x} : Size=78, Index=x_index\n",
            "    Key     : Lower : Value : Upper : Fixed : Stale : Domain\n",
            "    (6, 13) :     0 :   0.0 :  None : False : False : NonNegativeReals\n"
          ]
        }
      ]
    },
    {
      "cell_type": "code",
      "source": [
        "import pandas as pd\n",
        "\n",
        "model = pyo.ConcreteModel()\n",
        "\n",
        "# Sets\n",
        "model.i = pyo.RangeSet(1,6)\n",
        "model.j = pyo.RangeSet(1,13)\n",
        "\n",
        "# Parameters\n",
        "S = pd.read_excel('Weekly_OPTIMIZATION_TESTING.xlsm',sheet_name='Spends',header=0,index_col=0,usecols='A:G',nrows=13)\n",
        "C = pd.read_excel('Weekly_OPTIMIZATION_TESTING.xlsm',sheet_name='CPP',header=0,index_col=0,usecols='A:G',nrows=13)\n",
        "T = pd.read_excel('Weekly_OPTIMIZATION_TESTING.xlsm',sheet_name='Transformation',header=0,index_col=0,usecols='A:H',nrows=13)\n",
        "\n",
        "\"\"\"\n",
        "i = M1, M2, M3...\n",
        "j = W1, W2, W3...\n",
        "\"\"\""
      ],
      "metadata": {
        "colab": {
          "base_uri": "https://localhost:8080/",
          "height": 36
        },
        "id": "feUgiVfzIWtM",
        "outputId": "3c583fcd-e5be-469c-9af0-ea701d24c886"
      },
      "execution_count": 3,
      "outputs": [
        {
          "output_type": "execute_result",
          "data": {
            "text/plain": [
              "'\\ni = M1, M2, M3...\\nj = W1, W2, W3...\\n'"
            ],
            "application/vnd.google.colaboratory.intrinsic+json": {
              "type": "string"
            }
          },
          "metadata": {},
          "execution_count": 3
        }
      ]
    },
    {
      "cell_type": "code",
      "source": [
        "for i in model.i.data():\n",
        "  print(i)"
      ],
      "metadata": {
        "id": "AvbvTB_lUJF0",
        "outputId": "415ec0de-dfa8-4b40-daa4-bff76ab09203",
        "colab": {
          "base_uri": "https://localhost:8080/"
        }
      },
      "execution_count": 45,
      "outputs": [
        {
          "output_type": "stream",
          "name": "stdout",
          "text": [
            "1\n",
            "2\n",
            "3\n",
            "4\n",
            "5\n",
            "6\n"
          ]
        }
      ]
    },
    {
      "cell_type": "code",
      "source": [
        "model.i.data()[1]"
      ],
      "metadata": {
        "id": "Z3sC9ctQUWRy",
        "outputId": "2d4a808c-b105-46a0-ee98-ead449664662",
        "colab": {
          "base_uri": "https://localhost:8080/"
        }
      },
      "execution_count": 46,
      "outputs": [
        {
          "output_type": "execute_result",
          "data": {
            "text/plain": [
              "2"
            ]
          },
          "metadata": {},
          "execution_count": 46
        }
      ]
    },
    {
      "cell_type": "code",
      "source": [
        "C = C.replace(0,1)\n",
        "\n",
        "T = T.fillna(0)"
      ],
      "metadata": {
        "id": "kJ_TgF-G12oe"
      },
      "execution_count": 4,
      "outputs": []
    },
    {
      "cell_type": "code",
      "source": [
        "T.head(2)"
      ],
      "metadata": {
        "colab": {
          "base_uri": "https://localhost:8080/",
          "height": 112
        },
        "id": "4nzAcRWMeh57",
        "outputId": "facbe703-c3bf-420c-e257-2c74b0d5ce2e"
      },
      "execution_count": 5,
      "outputs": [
        {
          "output_type": "execute_result",
          "data": {
            "text/plain": [
              "    Type  Half Life   Max Adstock  Saturation  Steepness  Coefficient  \\\n",
              "1  Media        1.0  3.828436e+05         0.7        0.3     0.000835   \n",
              "2  Media        0.5  8.401198e+06         0.8        0.5     0.000069   \n",
              "\n",
              "   Adjustment_factor  \n",
              "1       41767.022503  \n",
              "2      151105.700000  "
            ],
            "text/html": [
              "\n",
              "  <div id=\"df-f6145d83-170b-4a3f-addb-fa654c9e7bbf\">\n",
              "    <div class=\"colab-df-container\">\n",
              "      <div>\n",
              "<style scoped>\n",
              "    .dataframe tbody tr th:only-of-type {\n",
              "        vertical-align: middle;\n",
              "    }\n",
              "\n",
              "    .dataframe tbody tr th {\n",
              "        vertical-align: top;\n",
              "    }\n",
              "\n",
              "    .dataframe thead th {\n",
              "        text-align: right;\n",
              "    }\n",
              "</style>\n",
              "<table border=\"1\" class=\"dataframe\">\n",
              "  <thead>\n",
              "    <tr style=\"text-align: right;\">\n",
              "      <th></th>\n",
              "      <th>Type</th>\n",
              "      <th>Half Life</th>\n",
              "      <th>Max Adstock</th>\n",
              "      <th>Saturation</th>\n",
              "      <th>Steepness</th>\n",
              "      <th>Coefficient</th>\n",
              "      <th>Adjustment_factor</th>\n",
              "    </tr>\n",
              "  </thead>\n",
              "  <tbody>\n",
              "    <tr>\n",
              "      <th>1</th>\n",
              "      <td>Media</td>\n",
              "      <td>1.0</td>\n",
              "      <td>3.828436e+05</td>\n",
              "      <td>0.7</td>\n",
              "      <td>0.3</td>\n",
              "      <td>0.000835</td>\n",
              "      <td>41767.022503</td>\n",
              "    </tr>\n",
              "    <tr>\n",
              "      <th>2</th>\n",
              "      <td>Media</td>\n",
              "      <td>0.5</td>\n",
              "      <td>8.401198e+06</td>\n",
              "      <td>0.8</td>\n",
              "      <td>0.5</td>\n",
              "      <td>0.000069</td>\n",
              "      <td>151105.700000</td>\n",
              "    </tr>\n",
              "  </tbody>\n",
              "</table>\n",
              "</div>\n",
              "      <button class=\"colab-df-convert\" onclick=\"convertToInteractive('df-f6145d83-170b-4a3f-addb-fa654c9e7bbf')\"\n",
              "              title=\"Convert this dataframe to an interactive table.\"\n",
              "              style=\"display:none;\">\n",
              "        \n",
              "  <svg xmlns=\"http://www.w3.org/2000/svg\" height=\"24px\"viewBox=\"0 0 24 24\"\n",
              "       width=\"24px\">\n",
              "    <path d=\"M0 0h24v24H0V0z\" fill=\"none\"/>\n",
              "    <path d=\"M18.56 5.44l.94 2.06.94-2.06 2.06-.94-2.06-.94-.94-2.06-.94 2.06-2.06.94zm-11 1L8.5 8.5l.94-2.06 2.06-.94-2.06-.94L8.5 2.5l-.94 2.06-2.06.94zm10 10l.94 2.06.94-2.06 2.06-.94-2.06-.94-.94-2.06-.94 2.06-2.06.94z\"/><path d=\"M17.41 7.96l-1.37-1.37c-.4-.4-.92-.59-1.43-.59-.52 0-1.04.2-1.43.59L10.3 9.45l-7.72 7.72c-.78.78-.78 2.05 0 2.83L4 21.41c.39.39.9.59 1.41.59.51 0 1.02-.2 1.41-.59l7.78-7.78 2.81-2.81c.8-.78.8-2.07 0-2.86zM5.41 20L4 18.59l7.72-7.72 1.47 1.35L5.41 20z\"/>\n",
              "  </svg>\n",
              "      </button>\n",
              "      \n",
              "  <style>\n",
              "    .colab-df-container {\n",
              "      display:flex;\n",
              "      flex-wrap:wrap;\n",
              "      gap: 12px;\n",
              "    }\n",
              "\n",
              "    .colab-df-convert {\n",
              "      background-color: #E8F0FE;\n",
              "      border: none;\n",
              "      border-radius: 50%;\n",
              "      cursor: pointer;\n",
              "      display: none;\n",
              "      fill: #1967D2;\n",
              "      height: 32px;\n",
              "      padding: 0 0 0 0;\n",
              "      width: 32px;\n",
              "    }\n",
              "\n",
              "    .colab-df-convert:hover {\n",
              "      background-color: #E2EBFA;\n",
              "      box-shadow: 0px 1px 2px rgba(60, 64, 67, 0.3), 0px 1px 3px 1px rgba(60, 64, 67, 0.15);\n",
              "      fill: #174EA6;\n",
              "    }\n",
              "\n",
              "    [theme=dark] .colab-df-convert {\n",
              "      background-color: #3B4455;\n",
              "      fill: #D2E3FC;\n",
              "    }\n",
              "\n",
              "    [theme=dark] .colab-df-convert:hover {\n",
              "      background-color: #434B5C;\n",
              "      box-shadow: 0px 1px 3px 1px rgba(0, 0, 0, 0.15);\n",
              "      filter: drop-shadow(0px 1px 2px rgba(0, 0, 0, 0.3));\n",
              "      fill: #FFFFFF;\n",
              "    }\n",
              "  </style>\n",
              "\n",
              "      <script>\n",
              "        const buttonEl =\n",
              "          document.querySelector('#df-f6145d83-170b-4a3f-addb-fa654c9e7bbf button.colab-df-convert');\n",
              "        buttonEl.style.display =\n",
              "          google.colab.kernel.accessAllowed ? 'block' : 'none';\n",
              "\n",
              "        async function convertToInteractive(key) {\n",
              "          const element = document.querySelector('#df-f6145d83-170b-4a3f-addb-fa654c9e7bbf');\n",
              "          const dataTable =\n",
              "            await google.colab.kernel.invokeFunction('convertToInteractive',\n",
              "                                                     [key], {});\n",
              "          if (!dataTable) return;\n",
              "\n",
              "          const docLinkHtml = 'Like what you see? Visit the ' +\n",
              "            '<a target=\"_blank\" href=https://colab.research.google.com/notebooks/data_table.ipynb>data table notebook</a>'\n",
              "            + ' to learn more about interactive tables.';\n",
              "          element.innerHTML = '';\n",
              "          dataTable['output_type'] = 'display_data';\n",
              "          await google.colab.output.renderOutput(dataTable, element);\n",
              "          const docLink = document.createElement('div');\n",
              "          docLink.innerHTML = docLinkHtml;\n",
              "          element.appendChild(docLink);\n",
              "        }\n",
              "      </script>\n",
              "    </div>\n",
              "  </div>\n",
              "  "
            ]
          },
          "metadata": {},
          "execution_count": 5
        }
      ]
    },
    {
      "cell_type": "code",
      "source": [
        "S.head(2)"
      ],
      "metadata": {
        "colab": {
          "base_uri": "https://localhost:8080/",
          "height": 143
        },
        "id": "daVyQb-pIWwK",
        "outputId": "30d1a5fc-9e45-4c17-bef0-f525e09725e3"
      },
      "execution_count": 6,
      "outputs": [
        {
          "output_type": "execute_result",
          "data": {
            "text/plain": [
              "             1    2             3        4            5    6\n",
              "Period                                                      \n",
              "1       1681.5  0.0   6141.681550      0.0     0.000000  0.0\n",
              "2       2476.1  0.0  15080.853226  12833.3  1547.846154  0.0"
            ],
            "text/html": [
              "\n",
              "  <div id=\"df-6ddc6442-86c3-488c-8a23-cd04279169b6\">\n",
              "    <div class=\"colab-df-container\">\n",
              "      <div>\n",
              "<style scoped>\n",
              "    .dataframe tbody tr th:only-of-type {\n",
              "        vertical-align: middle;\n",
              "    }\n",
              "\n",
              "    .dataframe tbody tr th {\n",
              "        vertical-align: top;\n",
              "    }\n",
              "\n",
              "    .dataframe thead th {\n",
              "        text-align: right;\n",
              "    }\n",
              "</style>\n",
              "<table border=\"1\" class=\"dataframe\">\n",
              "  <thead>\n",
              "    <tr style=\"text-align: right;\">\n",
              "      <th></th>\n",
              "      <th>1</th>\n",
              "      <th>2</th>\n",
              "      <th>3</th>\n",
              "      <th>4</th>\n",
              "      <th>5</th>\n",
              "      <th>6</th>\n",
              "    </tr>\n",
              "    <tr>\n",
              "      <th>Period</th>\n",
              "      <th></th>\n",
              "      <th></th>\n",
              "      <th></th>\n",
              "      <th></th>\n",
              "      <th></th>\n",
              "      <th></th>\n",
              "    </tr>\n",
              "  </thead>\n",
              "  <tbody>\n",
              "    <tr>\n",
              "      <th>1</th>\n",
              "      <td>1681.5</td>\n",
              "      <td>0.0</td>\n",
              "      <td>6141.681550</td>\n",
              "      <td>0.0</td>\n",
              "      <td>0.000000</td>\n",
              "      <td>0.0</td>\n",
              "    </tr>\n",
              "    <tr>\n",
              "      <th>2</th>\n",
              "      <td>2476.1</td>\n",
              "      <td>0.0</td>\n",
              "      <td>15080.853226</td>\n",
              "      <td>12833.3</td>\n",
              "      <td>1547.846154</td>\n",
              "      <td>0.0</td>\n",
              "    </tr>\n",
              "  </tbody>\n",
              "</table>\n",
              "</div>\n",
              "      <button class=\"colab-df-convert\" onclick=\"convertToInteractive('df-6ddc6442-86c3-488c-8a23-cd04279169b6')\"\n",
              "              title=\"Convert this dataframe to an interactive table.\"\n",
              "              style=\"display:none;\">\n",
              "        \n",
              "  <svg xmlns=\"http://www.w3.org/2000/svg\" height=\"24px\"viewBox=\"0 0 24 24\"\n",
              "       width=\"24px\">\n",
              "    <path d=\"M0 0h24v24H0V0z\" fill=\"none\"/>\n",
              "    <path d=\"M18.56 5.44l.94 2.06.94-2.06 2.06-.94-2.06-.94-.94-2.06-.94 2.06-2.06.94zm-11 1L8.5 8.5l.94-2.06 2.06-.94-2.06-.94L8.5 2.5l-.94 2.06-2.06.94zm10 10l.94 2.06.94-2.06 2.06-.94-2.06-.94-.94-2.06-.94 2.06-2.06.94z\"/><path d=\"M17.41 7.96l-1.37-1.37c-.4-.4-.92-.59-1.43-.59-.52 0-1.04.2-1.43.59L10.3 9.45l-7.72 7.72c-.78.78-.78 2.05 0 2.83L4 21.41c.39.39.9.59 1.41.59.51 0 1.02-.2 1.41-.59l7.78-7.78 2.81-2.81c.8-.78.8-2.07 0-2.86zM5.41 20L4 18.59l7.72-7.72 1.47 1.35L5.41 20z\"/>\n",
              "  </svg>\n",
              "      </button>\n",
              "      \n",
              "  <style>\n",
              "    .colab-df-container {\n",
              "      display:flex;\n",
              "      flex-wrap:wrap;\n",
              "      gap: 12px;\n",
              "    }\n",
              "\n",
              "    .colab-df-convert {\n",
              "      background-color: #E8F0FE;\n",
              "      border: none;\n",
              "      border-radius: 50%;\n",
              "      cursor: pointer;\n",
              "      display: none;\n",
              "      fill: #1967D2;\n",
              "      height: 32px;\n",
              "      padding: 0 0 0 0;\n",
              "      width: 32px;\n",
              "    }\n",
              "\n",
              "    .colab-df-convert:hover {\n",
              "      background-color: #E2EBFA;\n",
              "      box-shadow: 0px 1px 2px rgba(60, 64, 67, 0.3), 0px 1px 3px 1px rgba(60, 64, 67, 0.15);\n",
              "      fill: #174EA6;\n",
              "    }\n",
              "\n",
              "    [theme=dark] .colab-df-convert {\n",
              "      background-color: #3B4455;\n",
              "      fill: #D2E3FC;\n",
              "    }\n",
              "\n",
              "    [theme=dark] .colab-df-convert:hover {\n",
              "      background-color: #434B5C;\n",
              "      box-shadow: 0px 1px 3px 1px rgba(0, 0, 0, 0.15);\n",
              "      filter: drop-shadow(0px 1px 2px rgba(0, 0, 0, 0.3));\n",
              "      fill: #FFFFFF;\n",
              "    }\n",
              "  </style>\n",
              "\n",
              "      <script>\n",
              "        const buttonEl =\n",
              "          document.querySelector('#df-6ddc6442-86c3-488c-8a23-cd04279169b6 button.colab-df-convert');\n",
              "        buttonEl.style.display =\n",
              "          google.colab.kernel.accessAllowed ? 'block' : 'none';\n",
              "\n",
              "        async function convertToInteractive(key) {\n",
              "          const element = document.querySelector('#df-6ddc6442-86c3-488c-8a23-cd04279169b6');\n",
              "          const dataTable =\n",
              "            await google.colab.kernel.invokeFunction('convertToInteractive',\n",
              "                                                     [key], {});\n",
              "          if (!dataTable) return;\n",
              "\n",
              "          const docLinkHtml = 'Like what you see? Visit the ' +\n",
              "            '<a target=\"_blank\" href=https://colab.research.google.com/notebooks/data_table.ipynb>data table notebook</a>'\n",
              "            + ' to learn more about interactive tables.';\n",
              "          element.innerHTML = '';\n",
              "          dataTable['output_type'] = 'display_data';\n",
              "          await google.colab.output.renderOutput(dataTable, element);\n",
              "          const docLink = document.createElement('div');\n",
              "          docLink.innerHTML = docLinkHtml;\n",
              "          element.appendChild(docLink);\n",
              "        }\n",
              "      </script>\n",
              "    </div>\n",
              "  </div>\n",
              "  "
            ]
          },
          "metadata": {},
          "execution_count": 6
        }
      ]
    },
    {
      "cell_type": "code",
      "source": [
        "spends = {}\n",
        "for i in range(1,len(S.columns)+1):\n",
        "  for j in range(1,len(S.index)+1):\n",
        "    spends[(i,j)] = S.loc[j,i]\n",
        "cpp = {} \n",
        "for i in range(1,len(C.columns)+1):\n",
        "  for j in range(1,len(C.index)+1):\n",
        "    cpp[(i,j)] = C.loc[j,i]"
      ],
      "metadata": {
        "id": "LBmiWPBbXt7W"
      },
      "execution_count": 7,
      "outputs": []
    },
    {
      "cell_type": "code",
      "source": [
        "T.head()"
      ],
      "metadata": {
        "colab": {
          "base_uri": "https://localhost:8080/",
          "height": 206
        },
        "id": "U5OLr0k9ho2q",
        "outputId": "b3d3a8da-1d75-4ea5-9bd6-9e47d22cddb7"
      },
      "execution_count": 8,
      "outputs": [
        {
          "output_type": "execute_result",
          "data": {
            "text/plain": [
              "    Type  Half Life   Max Adstock  Saturation  Steepness  Coefficient  \\\n",
              "1  Media        1.0  3.828436e+05         0.7        0.3     0.000835   \n",
              "2  Media        0.5  8.401198e+06         0.8        0.5     0.000069   \n",
              "3  Media        1.5  3.034951e+07         0.5        0.4     0.000006   \n",
              "4  Media        3.0  1.135283e+08         0.9        0.6     0.000022   \n",
              "5  Promo        0.0  7.274308e+03         0.0        0.0     0.045272   \n",
              "\n",
              "   Adjustment_factor  \n",
              "1       4.176702e+04  \n",
              "2       1.511057e+05  \n",
              "3       3.617750e+06  \n",
              "4       5.104543e+05  \n",
              "5       0.000000e+00  "
            ],
            "text/html": [
              "\n",
              "  <div id=\"df-7db21af3-8c46-4424-ae64-daa6b9508db4\">\n",
              "    <div class=\"colab-df-container\">\n",
              "      <div>\n",
              "<style scoped>\n",
              "    .dataframe tbody tr th:only-of-type {\n",
              "        vertical-align: middle;\n",
              "    }\n",
              "\n",
              "    .dataframe tbody tr th {\n",
              "        vertical-align: top;\n",
              "    }\n",
              "\n",
              "    .dataframe thead th {\n",
              "        text-align: right;\n",
              "    }\n",
              "</style>\n",
              "<table border=\"1\" class=\"dataframe\">\n",
              "  <thead>\n",
              "    <tr style=\"text-align: right;\">\n",
              "      <th></th>\n",
              "      <th>Type</th>\n",
              "      <th>Half Life</th>\n",
              "      <th>Max Adstock</th>\n",
              "      <th>Saturation</th>\n",
              "      <th>Steepness</th>\n",
              "      <th>Coefficient</th>\n",
              "      <th>Adjustment_factor</th>\n",
              "    </tr>\n",
              "  </thead>\n",
              "  <tbody>\n",
              "    <tr>\n",
              "      <th>1</th>\n",
              "      <td>Media</td>\n",
              "      <td>1.0</td>\n",
              "      <td>3.828436e+05</td>\n",
              "      <td>0.7</td>\n",
              "      <td>0.3</td>\n",
              "      <td>0.000835</td>\n",
              "      <td>4.176702e+04</td>\n",
              "    </tr>\n",
              "    <tr>\n",
              "      <th>2</th>\n",
              "      <td>Media</td>\n",
              "      <td>0.5</td>\n",
              "      <td>8.401198e+06</td>\n",
              "      <td>0.8</td>\n",
              "      <td>0.5</td>\n",
              "      <td>0.000069</td>\n",
              "      <td>1.511057e+05</td>\n",
              "    </tr>\n",
              "    <tr>\n",
              "      <th>3</th>\n",
              "      <td>Media</td>\n",
              "      <td>1.5</td>\n",
              "      <td>3.034951e+07</td>\n",
              "      <td>0.5</td>\n",
              "      <td>0.4</td>\n",
              "      <td>0.000006</td>\n",
              "      <td>3.617750e+06</td>\n",
              "    </tr>\n",
              "    <tr>\n",
              "      <th>4</th>\n",
              "      <td>Media</td>\n",
              "      <td>3.0</td>\n",
              "      <td>1.135283e+08</td>\n",
              "      <td>0.9</td>\n",
              "      <td>0.6</td>\n",
              "      <td>0.000022</td>\n",
              "      <td>5.104543e+05</td>\n",
              "    </tr>\n",
              "    <tr>\n",
              "      <th>5</th>\n",
              "      <td>Promo</td>\n",
              "      <td>0.0</td>\n",
              "      <td>7.274308e+03</td>\n",
              "      <td>0.0</td>\n",
              "      <td>0.0</td>\n",
              "      <td>0.045272</td>\n",
              "      <td>0.000000e+00</td>\n",
              "    </tr>\n",
              "  </tbody>\n",
              "</table>\n",
              "</div>\n",
              "      <button class=\"colab-df-convert\" onclick=\"convertToInteractive('df-7db21af3-8c46-4424-ae64-daa6b9508db4')\"\n",
              "              title=\"Convert this dataframe to an interactive table.\"\n",
              "              style=\"display:none;\">\n",
              "        \n",
              "  <svg xmlns=\"http://www.w3.org/2000/svg\" height=\"24px\"viewBox=\"0 0 24 24\"\n",
              "       width=\"24px\">\n",
              "    <path d=\"M0 0h24v24H0V0z\" fill=\"none\"/>\n",
              "    <path d=\"M18.56 5.44l.94 2.06.94-2.06 2.06-.94-2.06-.94-.94-2.06-.94 2.06-2.06.94zm-11 1L8.5 8.5l.94-2.06 2.06-.94-2.06-.94L8.5 2.5l-.94 2.06-2.06.94zm10 10l.94 2.06.94-2.06 2.06-.94-2.06-.94-.94-2.06-.94 2.06-2.06.94z\"/><path d=\"M17.41 7.96l-1.37-1.37c-.4-.4-.92-.59-1.43-.59-.52 0-1.04.2-1.43.59L10.3 9.45l-7.72 7.72c-.78.78-.78 2.05 0 2.83L4 21.41c.39.39.9.59 1.41.59.51 0 1.02-.2 1.41-.59l7.78-7.78 2.81-2.81c.8-.78.8-2.07 0-2.86zM5.41 20L4 18.59l7.72-7.72 1.47 1.35L5.41 20z\"/>\n",
              "  </svg>\n",
              "      </button>\n",
              "      \n",
              "  <style>\n",
              "    .colab-df-container {\n",
              "      display:flex;\n",
              "      flex-wrap:wrap;\n",
              "      gap: 12px;\n",
              "    }\n",
              "\n",
              "    .colab-df-convert {\n",
              "      background-color: #E8F0FE;\n",
              "      border: none;\n",
              "      border-radius: 50%;\n",
              "      cursor: pointer;\n",
              "      display: none;\n",
              "      fill: #1967D2;\n",
              "      height: 32px;\n",
              "      padding: 0 0 0 0;\n",
              "      width: 32px;\n",
              "    }\n",
              "\n",
              "    .colab-df-convert:hover {\n",
              "      background-color: #E2EBFA;\n",
              "      box-shadow: 0px 1px 2px rgba(60, 64, 67, 0.3), 0px 1px 3px 1px rgba(60, 64, 67, 0.15);\n",
              "      fill: #174EA6;\n",
              "    }\n",
              "\n",
              "    [theme=dark] .colab-df-convert {\n",
              "      background-color: #3B4455;\n",
              "      fill: #D2E3FC;\n",
              "    }\n",
              "\n",
              "    [theme=dark] .colab-df-convert:hover {\n",
              "      background-color: #434B5C;\n",
              "      box-shadow: 0px 1px 3px 1px rgba(0, 0, 0, 0.15);\n",
              "      filter: drop-shadow(0px 1px 2px rgba(0, 0, 0, 0.3));\n",
              "      fill: #FFFFFF;\n",
              "    }\n",
              "  </style>\n",
              "\n",
              "      <script>\n",
              "        const buttonEl =\n",
              "          document.querySelector('#df-7db21af3-8c46-4424-ae64-daa6b9508db4 button.colab-df-convert');\n",
              "        buttonEl.style.display =\n",
              "          google.colab.kernel.accessAllowed ? 'block' : 'none';\n",
              "\n",
              "        async function convertToInteractive(key) {\n",
              "          const element = document.querySelector('#df-7db21af3-8c46-4424-ae64-daa6b9508db4');\n",
              "          const dataTable =\n",
              "            await google.colab.kernel.invokeFunction('convertToInteractive',\n",
              "                                                     [key], {});\n",
              "          if (!dataTable) return;\n",
              "\n",
              "          const docLinkHtml = 'Like what you see? Visit the ' +\n",
              "            '<a target=\"_blank\" href=https://colab.research.google.com/notebooks/data_table.ipynb>data table notebook</a>'\n",
              "            + ' to learn more about interactive tables.';\n",
              "          element.innerHTML = '';\n",
              "          dataTable['output_type'] = 'display_data';\n",
              "          await google.colab.output.renderOutput(dataTable, element);\n",
              "          const docLink = document.createElement('div');\n",
              "          docLink.innerHTML = docLinkHtml;\n",
              "          element.appendChild(docLink);\n",
              "        }\n",
              "      </script>\n",
              "    </div>\n",
              "  </div>\n",
              "  "
            ]
          },
          "metadata": {},
          "execution_count": 8
        }
      ]
    },
    {
      "cell_type": "code",
      "source": [
        "S.head()"
      ],
      "metadata": {
        "colab": {
          "base_uri": "https://localhost:8080/",
          "height": 237
        },
        "id": "8aEE2LQwf_hi",
        "outputId": "92518899-2c4a-4708-efad-b09346673e57"
      },
      "execution_count": 9,
      "outputs": [
        {
          "output_type": "execute_result",
          "data": {
            "text/plain": [
              "              1    2             3         4            5             6\n",
              "Period                                                                 \n",
              "1       1681.50  0.0   6141.681550      0.00     0.000000      0.000000\n",
              "2       2476.10  0.0  15080.853226  12833.30  1547.846154      0.000000\n",
              "3       3279.79  0.0   7192.357366   4191.13  1665.318681  39133.014118\n",
              "4       2585.39  0.0   3574.155648   1806.90  1712.307692  39133.014118\n",
              "5       1051.12  0.0      0.000000    800.00  1824.175824   5590.430588"
            ],
            "text/html": [
              "\n",
              "  <div id=\"df-1580d2af-44f5-4484-a52e-fc4150bc6b04\">\n",
              "    <div class=\"colab-df-container\">\n",
              "      <div>\n",
              "<style scoped>\n",
              "    .dataframe tbody tr th:only-of-type {\n",
              "        vertical-align: middle;\n",
              "    }\n",
              "\n",
              "    .dataframe tbody tr th {\n",
              "        vertical-align: top;\n",
              "    }\n",
              "\n",
              "    .dataframe thead th {\n",
              "        text-align: right;\n",
              "    }\n",
              "</style>\n",
              "<table border=\"1\" class=\"dataframe\">\n",
              "  <thead>\n",
              "    <tr style=\"text-align: right;\">\n",
              "      <th></th>\n",
              "      <th>1</th>\n",
              "      <th>2</th>\n",
              "      <th>3</th>\n",
              "      <th>4</th>\n",
              "      <th>5</th>\n",
              "      <th>6</th>\n",
              "    </tr>\n",
              "    <tr>\n",
              "      <th>Period</th>\n",
              "      <th></th>\n",
              "      <th></th>\n",
              "      <th></th>\n",
              "      <th></th>\n",
              "      <th></th>\n",
              "      <th></th>\n",
              "    </tr>\n",
              "  </thead>\n",
              "  <tbody>\n",
              "    <tr>\n",
              "      <th>1</th>\n",
              "      <td>1681.50</td>\n",
              "      <td>0.0</td>\n",
              "      <td>6141.681550</td>\n",
              "      <td>0.00</td>\n",
              "      <td>0.000000</td>\n",
              "      <td>0.000000</td>\n",
              "    </tr>\n",
              "    <tr>\n",
              "      <th>2</th>\n",
              "      <td>2476.10</td>\n",
              "      <td>0.0</td>\n",
              "      <td>15080.853226</td>\n",
              "      <td>12833.30</td>\n",
              "      <td>1547.846154</td>\n",
              "      <td>0.000000</td>\n",
              "    </tr>\n",
              "    <tr>\n",
              "      <th>3</th>\n",
              "      <td>3279.79</td>\n",
              "      <td>0.0</td>\n",
              "      <td>7192.357366</td>\n",
              "      <td>4191.13</td>\n",
              "      <td>1665.318681</td>\n",
              "      <td>39133.014118</td>\n",
              "    </tr>\n",
              "    <tr>\n",
              "      <th>4</th>\n",
              "      <td>2585.39</td>\n",
              "      <td>0.0</td>\n",
              "      <td>3574.155648</td>\n",
              "      <td>1806.90</td>\n",
              "      <td>1712.307692</td>\n",
              "      <td>39133.014118</td>\n",
              "    </tr>\n",
              "    <tr>\n",
              "      <th>5</th>\n",
              "      <td>1051.12</td>\n",
              "      <td>0.0</td>\n",
              "      <td>0.000000</td>\n",
              "      <td>800.00</td>\n",
              "      <td>1824.175824</td>\n",
              "      <td>5590.430588</td>\n",
              "    </tr>\n",
              "  </tbody>\n",
              "</table>\n",
              "</div>\n",
              "      <button class=\"colab-df-convert\" onclick=\"convertToInteractive('df-1580d2af-44f5-4484-a52e-fc4150bc6b04')\"\n",
              "              title=\"Convert this dataframe to an interactive table.\"\n",
              "              style=\"display:none;\">\n",
              "        \n",
              "  <svg xmlns=\"http://www.w3.org/2000/svg\" height=\"24px\"viewBox=\"0 0 24 24\"\n",
              "       width=\"24px\">\n",
              "    <path d=\"M0 0h24v24H0V0z\" fill=\"none\"/>\n",
              "    <path d=\"M18.56 5.44l.94 2.06.94-2.06 2.06-.94-2.06-.94-.94-2.06-.94 2.06-2.06.94zm-11 1L8.5 8.5l.94-2.06 2.06-.94-2.06-.94L8.5 2.5l-.94 2.06-2.06.94zm10 10l.94 2.06.94-2.06 2.06-.94-2.06-.94-.94-2.06-.94 2.06-2.06.94z\"/><path d=\"M17.41 7.96l-1.37-1.37c-.4-.4-.92-.59-1.43-.59-.52 0-1.04.2-1.43.59L10.3 9.45l-7.72 7.72c-.78.78-.78 2.05 0 2.83L4 21.41c.39.39.9.59 1.41.59.51 0 1.02-.2 1.41-.59l7.78-7.78 2.81-2.81c.8-.78.8-2.07 0-2.86zM5.41 20L4 18.59l7.72-7.72 1.47 1.35L5.41 20z\"/>\n",
              "  </svg>\n",
              "      </button>\n",
              "      \n",
              "  <style>\n",
              "    .colab-df-container {\n",
              "      display:flex;\n",
              "      flex-wrap:wrap;\n",
              "      gap: 12px;\n",
              "    }\n",
              "\n",
              "    .colab-df-convert {\n",
              "      background-color: #E8F0FE;\n",
              "      border: none;\n",
              "      border-radius: 50%;\n",
              "      cursor: pointer;\n",
              "      display: none;\n",
              "      fill: #1967D2;\n",
              "      height: 32px;\n",
              "      padding: 0 0 0 0;\n",
              "      width: 32px;\n",
              "    }\n",
              "\n",
              "    .colab-df-convert:hover {\n",
              "      background-color: #E2EBFA;\n",
              "      box-shadow: 0px 1px 2px rgba(60, 64, 67, 0.3), 0px 1px 3px 1px rgba(60, 64, 67, 0.15);\n",
              "      fill: #174EA6;\n",
              "    }\n",
              "\n",
              "    [theme=dark] .colab-df-convert {\n",
              "      background-color: #3B4455;\n",
              "      fill: #D2E3FC;\n",
              "    }\n",
              "\n",
              "    [theme=dark] .colab-df-convert:hover {\n",
              "      background-color: #434B5C;\n",
              "      box-shadow: 0px 1px 3px 1px rgba(0, 0, 0, 0.15);\n",
              "      filter: drop-shadow(0px 1px 2px rgba(0, 0, 0, 0.3));\n",
              "      fill: #FFFFFF;\n",
              "    }\n",
              "  </style>\n",
              "\n",
              "      <script>\n",
              "        const buttonEl =\n",
              "          document.querySelector('#df-1580d2af-44f5-4484-a52e-fc4150bc6b04 button.colab-df-convert');\n",
              "        buttonEl.style.display =\n",
              "          google.colab.kernel.accessAllowed ? 'block' : 'none';\n",
              "\n",
              "        async function convertToInteractive(key) {\n",
              "          const element = document.querySelector('#df-1580d2af-44f5-4484-a52e-fc4150bc6b04');\n",
              "          const dataTable =\n",
              "            await google.colab.kernel.invokeFunction('convertToInteractive',\n",
              "                                                     [key], {});\n",
              "          if (!dataTable) return;\n",
              "\n",
              "          const docLinkHtml = 'Like what you see? Visit the ' +\n",
              "            '<a target=\"_blank\" href=https://colab.research.google.com/notebooks/data_table.ipynb>data table notebook</a>'\n",
              "            + ' to learn more about interactive tables.';\n",
              "          element.innerHTML = '';\n",
              "          dataTable['output_type'] = 'display_data';\n",
              "          await google.colab.output.renderOutput(dataTable, element);\n",
              "          const docLink = document.createElement('div');\n",
              "          docLink.innerHTML = docLinkHtml;\n",
              "          element.appendChild(docLink);\n",
              "        }\n",
              "      </script>\n",
              "    </div>\n",
              "  </div>\n",
              "  "
            ]
          },
          "metadata": {},
          "execution_count": 9
        }
      ]
    },
    {
      "cell_type": "code",
      "source": [
        "T['Ret_rate'] = (1/2)**(1/T['Half Life'])"
      ],
      "metadata": {
        "id": "-CLubfR31qVf"
      },
      "execution_count": 10,
      "outputs": []
    },
    {
      "cell_type": "code",
      "source": [
        "hl = T['Half Life']\n",
        "ma = T['Max Adstock']\n",
        "satr = T['Saturation']\n",
        "coef = T['Coefficient']\n",
        "types = T['Type']\n",
        "ret_rate = T[\"Ret_rate\"]"
      ],
      "metadata": {
        "id": "Puj0I52eh1_C"
      },
      "execution_count": null,
      "outputs": []
    },
    {
      "cell_type": "code",
      "source": [
        "T.head()"
      ],
      "metadata": {
        "colab": {
          "base_uri": "https://localhost:8080/",
          "height": 206
        },
        "id": "m5IoP59-Pf3S",
        "outputId": "4c2404bb-93d9-4426-dc38-8a2746da7551"
      },
      "execution_count": null,
      "outputs": [
        {
          "output_type": "execute_result",
          "data": {
            "text/plain": [
              "    Type  Half Life   Max Adstock  Saturation  Steepness  Coefficient  \\\n",
              "1  Media        1.0  3.828436e+05         0.7        0.3     0.000835   \n",
              "2  Media        0.5  8.401198e+06         0.8        0.5     0.000069   \n",
              "3  Media        1.5  3.034951e+07         0.5        0.4     0.000006   \n",
              "4  Media        3.0  1.135283e+08         0.9        0.6     0.000022   \n",
              "5  Promo        0.0  7.274308e+03         0.0        0.0     0.045272   \n",
              "\n",
              "   Ret_rate  \n",
              "1  0.500000  \n",
              "2  0.250000  \n",
              "3  0.629961  \n",
              "4  0.793701  \n",
              "5  0.000000  "
            ],
            "text/html": [
              "\n",
              "  <div id=\"df-d356387a-2c11-4bbe-bb64-ba836389a1ba\">\n",
              "    <div class=\"colab-df-container\">\n",
              "      <div>\n",
              "<style scoped>\n",
              "    .dataframe tbody tr th:only-of-type {\n",
              "        vertical-align: middle;\n",
              "    }\n",
              "\n",
              "    .dataframe tbody tr th {\n",
              "        vertical-align: top;\n",
              "    }\n",
              "\n",
              "    .dataframe thead th {\n",
              "        text-align: right;\n",
              "    }\n",
              "</style>\n",
              "<table border=\"1\" class=\"dataframe\">\n",
              "  <thead>\n",
              "    <tr style=\"text-align: right;\">\n",
              "      <th></th>\n",
              "      <th>Type</th>\n",
              "      <th>Half Life</th>\n",
              "      <th>Max Adstock</th>\n",
              "      <th>Saturation</th>\n",
              "      <th>Steepness</th>\n",
              "      <th>Coefficient</th>\n",
              "      <th>Ret_rate</th>\n",
              "    </tr>\n",
              "  </thead>\n",
              "  <tbody>\n",
              "    <tr>\n",
              "      <th>1</th>\n",
              "      <td>Media</td>\n",
              "      <td>1.0</td>\n",
              "      <td>3.828436e+05</td>\n",
              "      <td>0.7</td>\n",
              "      <td>0.3</td>\n",
              "      <td>0.000835</td>\n",
              "      <td>0.500000</td>\n",
              "    </tr>\n",
              "    <tr>\n",
              "      <th>2</th>\n",
              "      <td>Media</td>\n",
              "      <td>0.5</td>\n",
              "      <td>8.401198e+06</td>\n",
              "      <td>0.8</td>\n",
              "      <td>0.5</td>\n",
              "      <td>0.000069</td>\n",
              "      <td>0.250000</td>\n",
              "    </tr>\n",
              "    <tr>\n",
              "      <th>3</th>\n",
              "      <td>Media</td>\n",
              "      <td>1.5</td>\n",
              "      <td>3.034951e+07</td>\n",
              "      <td>0.5</td>\n",
              "      <td>0.4</td>\n",
              "      <td>0.000006</td>\n",
              "      <td>0.629961</td>\n",
              "    </tr>\n",
              "    <tr>\n",
              "      <th>4</th>\n",
              "      <td>Media</td>\n",
              "      <td>3.0</td>\n",
              "      <td>1.135283e+08</td>\n",
              "      <td>0.9</td>\n",
              "      <td>0.6</td>\n",
              "      <td>0.000022</td>\n",
              "      <td>0.793701</td>\n",
              "    </tr>\n",
              "    <tr>\n",
              "      <th>5</th>\n",
              "      <td>Promo</td>\n",
              "      <td>0.0</td>\n",
              "      <td>7.274308e+03</td>\n",
              "      <td>0.0</td>\n",
              "      <td>0.0</td>\n",
              "      <td>0.045272</td>\n",
              "      <td>0.000000</td>\n",
              "    </tr>\n",
              "  </tbody>\n",
              "</table>\n",
              "</div>\n",
              "      <button class=\"colab-df-convert\" onclick=\"convertToInteractive('df-d356387a-2c11-4bbe-bb64-ba836389a1ba')\"\n",
              "              title=\"Convert this dataframe to an interactive table.\"\n",
              "              style=\"display:none;\">\n",
              "        \n",
              "  <svg xmlns=\"http://www.w3.org/2000/svg\" height=\"24px\"viewBox=\"0 0 24 24\"\n",
              "       width=\"24px\">\n",
              "    <path d=\"M0 0h24v24H0V0z\" fill=\"none\"/>\n",
              "    <path d=\"M18.56 5.44l.94 2.06.94-2.06 2.06-.94-2.06-.94-.94-2.06-.94 2.06-2.06.94zm-11 1L8.5 8.5l.94-2.06 2.06-.94-2.06-.94L8.5 2.5l-.94 2.06-2.06.94zm10 10l.94 2.06.94-2.06 2.06-.94-2.06-.94-.94-2.06-.94 2.06-2.06.94z\"/><path d=\"M17.41 7.96l-1.37-1.37c-.4-.4-.92-.59-1.43-.59-.52 0-1.04.2-1.43.59L10.3 9.45l-7.72 7.72c-.78.78-.78 2.05 0 2.83L4 21.41c.39.39.9.59 1.41.59.51 0 1.02-.2 1.41-.59l7.78-7.78 2.81-2.81c.8-.78.8-2.07 0-2.86zM5.41 20L4 18.59l7.72-7.72 1.47 1.35L5.41 20z\"/>\n",
              "  </svg>\n",
              "      </button>\n",
              "      \n",
              "  <style>\n",
              "    .colab-df-container {\n",
              "      display:flex;\n",
              "      flex-wrap:wrap;\n",
              "      gap: 12px;\n",
              "    }\n",
              "\n",
              "    .colab-df-convert {\n",
              "      background-color: #E8F0FE;\n",
              "      border: none;\n",
              "      border-radius: 50%;\n",
              "      cursor: pointer;\n",
              "      display: none;\n",
              "      fill: #1967D2;\n",
              "      height: 32px;\n",
              "      padding: 0 0 0 0;\n",
              "      width: 32px;\n",
              "    }\n",
              "\n",
              "    .colab-df-convert:hover {\n",
              "      background-color: #E2EBFA;\n",
              "      box-shadow: 0px 1px 2px rgba(60, 64, 67, 0.3), 0px 1px 3px 1px rgba(60, 64, 67, 0.15);\n",
              "      fill: #174EA6;\n",
              "    }\n",
              "\n",
              "    [theme=dark] .colab-df-convert {\n",
              "      background-color: #3B4455;\n",
              "      fill: #D2E3FC;\n",
              "    }\n",
              "\n",
              "    [theme=dark] .colab-df-convert:hover {\n",
              "      background-color: #434B5C;\n",
              "      box-shadow: 0px 1px 3px 1px rgba(0, 0, 0, 0.15);\n",
              "      filter: drop-shadow(0px 1px 2px rgba(0, 0, 0, 0.3));\n",
              "      fill: #FFFFFF;\n",
              "    }\n",
              "  </style>\n",
              "\n",
              "      <script>\n",
              "        const buttonEl =\n",
              "          document.querySelector('#df-d356387a-2c11-4bbe-bb64-ba836389a1ba button.colab-df-convert');\n",
              "        buttonEl.style.display =\n",
              "          google.colab.kernel.accessAllowed ? 'block' : 'none';\n",
              "\n",
              "        async function convertToInteractive(key) {\n",
              "          const element = document.querySelector('#df-d356387a-2c11-4bbe-bb64-ba836389a1ba');\n",
              "          const dataTable =\n",
              "            await google.colab.kernel.invokeFunction('convertToInteractive',\n",
              "                                                     [key], {});\n",
              "          if (!dataTable) return;\n",
              "\n",
              "          const docLinkHtml = 'Like what you see? Visit the ' +\n",
              "            '<a target=\"_blank\" href=https://colab.research.google.com/notebooks/data_table.ipynb>data table notebook</a>'\n",
              "            + ' to learn more about interactive tables.';\n",
              "          element.innerHTML = '';\n",
              "          dataTable['output_type'] = 'display_data';\n",
              "          await google.colab.output.renderOutput(dataTable, element);\n",
              "          const docLink = document.createElement('div');\n",
              "          docLink.innerHTML = docLinkHtml;\n",
              "          element.appendChild(docLink);\n",
              "        }\n",
              "      </script>\n",
              "    </div>\n",
              "  </div>\n",
              "  "
            ]
          },
          "metadata": {},
          "execution_count": 23
        }
      ]
    },
    {
      "cell_type": "code",
      "source": [],
      "metadata": {
        "id": "zUGVHxXqAlyE"
      },
      "execution_count": null,
      "outputs": []
    },
    {
      "cell_type": "code",
      "source": [
        "\n",
        "\n",
        "## Defining Parameters\n",
        "##  ????? spends is param or var\n",
        "# model.sp = pyo.Param(model.i,model.j, initialize = spends)\n",
        "# sp = model.sp\n",
        "\n",
        "##defiing below params is not reqd. as they are non-changing\n",
        "model.cpm = pyo.Param(model.i,model.j, initialize = cpp)\n",
        "cpm = model.cpm\n",
        "\n",
        "# model.hlf = pyo.Param(model.i,initialize = hl)\n",
        "# hlf = model.hlf\n",
        "\n",
        "model.mad = pyo.Param(model.i,initialize = ma)\n",
        "mad = model.mad\n",
        "\n",
        "model.sat = pyo.Param(model.i,initialize = satr)\n",
        "sat = model.sat\n",
        "\n",
        "model.typ = pyo.Param(model.i,initialize = types)\n",
        "typ = model.typ\n",
        "\n",
        "model.rr = pyo.Param(model.i,initialize = ret_rate)\n",
        "rr = model.rr\n"
      ],
      "metadata": {
        "colab": {
          "base_uri": "https://localhost:8080/"
        },
        "id": "Xb5aaw9GYwJE",
        "outputId": "d5d1d79e-4077-49f2-d5ba-5c23200e3e9b"
      },
      "execution_count": null,
      "outputs": [
        {
          "output_type": "stream",
          "name": "stderr",
          "text": [
            "WARNING:pyomo.core.base:DEPRECATED: Param 'typ' declared with an implicit domain of 'Any'. The\n",
            "default domain for Param objects is 'Any'.  However, we will be\n",
            "changing that default to 'Reals' in the future.  If you really intend\n",
            "the domain of this Paramto be 'Any', you can suppress this warning by\n",
            "explicitly specifying 'within=Any' to the Param constructor.\n",
            "(deprecated in 5.6.9, will be removed in (or after) 6.0)\n",
            "(called from /usr/local/lib/python3.7/dist-packages/pyomo/core/base/indexed_component.py:645)\n"
          ]
        }
      ]
    },
    {
      "cell_type": "code",
      "source": [
        "C.tail()"
      ],
      "metadata": {
        "colab": {
          "base_uri": "https://localhost:8080/",
          "height": 237
        },
        "id": "0FWKcFoB-9Ok",
        "outputId": "686abdaf-d177-4389-d800-2007bbb95f7b"
      },
      "execution_count": null,
      "outputs": [
        {
          "output_type": "execute_result",
          "data": {
            "text/plain": [
              "          1         2    3         4         5          6\n",
              "Period                                                   \n",
              "9       0.0  0.000000  0.0  0.000134  0.256921  140.83925\n",
              "10      0.0  0.000188  0.0  0.000132  0.256921    0.00000\n",
              "11      0.0  0.000168  0.0  0.000151  0.256921    0.00000\n",
              "12      0.0  0.000136  0.0  0.000000  0.267785    0.00000\n",
              "13      0.0  0.000140  0.0  0.000000  0.138880    0.00000"
            ],
            "text/html": [
              "\n",
              "  <div id=\"df-af0fd613-4d3a-4db4-a20c-404dd14c2e74\">\n",
              "    <div class=\"colab-df-container\">\n",
              "      <div>\n",
              "<style scoped>\n",
              "    .dataframe tbody tr th:only-of-type {\n",
              "        vertical-align: middle;\n",
              "    }\n",
              "\n",
              "    .dataframe tbody tr th {\n",
              "        vertical-align: top;\n",
              "    }\n",
              "\n",
              "    .dataframe thead th {\n",
              "        text-align: right;\n",
              "    }\n",
              "</style>\n",
              "<table border=\"1\" class=\"dataframe\">\n",
              "  <thead>\n",
              "    <tr style=\"text-align: right;\">\n",
              "      <th></th>\n",
              "      <th>1</th>\n",
              "      <th>2</th>\n",
              "      <th>3</th>\n",
              "      <th>4</th>\n",
              "      <th>5</th>\n",
              "      <th>6</th>\n",
              "    </tr>\n",
              "    <tr>\n",
              "      <th>Period</th>\n",
              "      <th></th>\n",
              "      <th></th>\n",
              "      <th></th>\n",
              "      <th></th>\n",
              "      <th></th>\n",
              "      <th></th>\n",
              "    </tr>\n",
              "  </thead>\n",
              "  <tbody>\n",
              "    <tr>\n",
              "      <th>9</th>\n",
              "      <td>0.0</td>\n",
              "      <td>0.000000</td>\n",
              "      <td>0.0</td>\n",
              "      <td>0.000134</td>\n",
              "      <td>0.256921</td>\n",
              "      <td>140.83925</td>\n",
              "    </tr>\n",
              "    <tr>\n",
              "      <th>10</th>\n",
              "      <td>0.0</td>\n",
              "      <td>0.000188</td>\n",
              "      <td>0.0</td>\n",
              "      <td>0.000132</td>\n",
              "      <td>0.256921</td>\n",
              "      <td>0.00000</td>\n",
              "    </tr>\n",
              "    <tr>\n",
              "      <th>11</th>\n",
              "      <td>0.0</td>\n",
              "      <td>0.000168</td>\n",
              "      <td>0.0</td>\n",
              "      <td>0.000151</td>\n",
              "      <td>0.256921</td>\n",
              "      <td>0.00000</td>\n",
              "    </tr>\n",
              "    <tr>\n",
              "      <th>12</th>\n",
              "      <td>0.0</td>\n",
              "      <td>0.000136</td>\n",
              "      <td>0.0</td>\n",
              "      <td>0.000000</td>\n",
              "      <td>0.267785</td>\n",
              "      <td>0.00000</td>\n",
              "    </tr>\n",
              "    <tr>\n",
              "      <th>13</th>\n",
              "      <td>0.0</td>\n",
              "      <td>0.000140</td>\n",
              "      <td>0.0</td>\n",
              "      <td>0.000000</td>\n",
              "      <td>0.138880</td>\n",
              "      <td>0.00000</td>\n",
              "    </tr>\n",
              "  </tbody>\n",
              "</table>\n",
              "</div>\n",
              "      <button class=\"colab-df-convert\" onclick=\"convertToInteractive('df-af0fd613-4d3a-4db4-a20c-404dd14c2e74')\"\n",
              "              title=\"Convert this dataframe to an interactive table.\"\n",
              "              style=\"display:none;\">\n",
              "        \n",
              "  <svg xmlns=\"http://www.w3.org/2000/svg\" height=\"24px\"viewBox=\"0 0 24 24\"\n",
              "       width=\"24px\">\n",
              "    <path d=\"M0 0h24v24H0V0z\" fill=\"none\"/>\n",
              "    <path d=\"M18.56 5.44l.94 2.06.94-2.06 2.06-.94-2.06-.94-.94-2.06-.94 2.06-2.06.94zm-11 1L8.5 8.5l.94-2.06 2.06-.94-2.06-.94L8.5 2.5l-.94 2.06-2.06.94zm10 10l.94 2.06.94-2.06 2.06-.94-2.06-.94-.94-2.06-.94 2.06-2.06.94z\"/><path d=\"M17.41 7.96l-1.37-1.37c-.4-.4-.92-.59-1.43-.59-.52 0-1.04.2-1.43.59L10.3 9.45l-7.72 7.72c-.78.78-.78 2.05 0 2.83L4 21.41c.39.39.9.59 1.41.59.51 0 1.02-.2 1.41-.59l7.78-7.78 2.81-2.81c.8-.78.8-2.07 0-2.86zM5.41 20L4 18.59l7.72-7.72 1.47 1.35L5.41 20z\"/>\n",
              "  </svg>\n",
              "      </button>\n",
              "      \n",
              "  <style>\n",
              "    .colab-df-container {\n",
              "      display:flex;\n",
              "      flex-wrap:wrap;\n",
              "      gap: 12px;\n",
              "    }\n",
              "\n",
              "    .colab-df-convert {\n",
              "      background-color: #E8F0FE;\n",
              "      border: none;\n",
              "      border-radius: 50%;\n",
              "      cursor: pointer;\n",
              "      display: none;\n",
              "      fill: #1967D2;\n",
              "      height: 32px;\n",
              "      padding: 0 0 0 0;\n",
              "      width: 32px;\n",
              "    }\n",
              "\n",
              "    .colab-df-convert:hover {\n",
              "      background-color: #E2EBFA;\n",
              "      box-shadow: 0px 1px 2px rgba(60, 64, 67, 0.3), 0px 1px 3px 1px rgba(60, 64, 67, 0.15);\n",
              "      fill: #174EA6;\n",
              "    }\n",
              "\n",
              "    [theme=dark] .colab-df-convert {\n",
              "      background-color: #3B4455;\n",
              "      fill: #D2E3FC;\n",
              "    }\n",
              "\n",
              "    [theme=dark] .colab-df-convert:hover {\n",
              "      background-color: #434B5C;\n",
              "      box-shadow: 0px 1px 3px 1px rgba(0, 0, 0, 0.15);\n",
              "      filter: drop-shadow(0px 1px 2px rgba(0, 0, 0, 0.3));\n",
              "      fill: #FFFFFF;\n",
              "    }\n",
              "  </style>\n",
              "\n",
              "      <script>\n",
              "        const buttonEl =\n",
              "          document.querySelector('#df-af0fd613-4d3a-4db4-a20c-404dd14c2e74 button.colab-df-convert');\n",
              "        buttonEl.style.display =\n",
              "          google.colab.kernel.accessAllowed ? 'block' : 'none';\n",
              "\n",
              "        async function convertToInteractive(key) {\n",
              "          const element = document.querySelector('#df-af0fd613-4d3a-4db4-a20c-404dd14c2e74');\n",
              "          const dataTable =\n",
              "            await google.colab.kernel.invokeFunction('convertToInteractive',\n",
              "                                                     [key], {});\n",
              "          if (!dataTable) return;\n",
              "\n",
              "          const docLinkHtml = 'Like what you see? Visit the ' +\n",
              "            '<a target=\"_blank\" href=https://colab.research.google.com/notebooks/data_table.ipynb>data table notebook</a>'\n",
              "            + ' to learn more about interactive tables.';\n",
              "          element.innerHTML = '';\n",
              "          dataTable['output_type'] = 'display_data';\n",
              "          await google.colab.output.renderOutput(dataTable, element);\n",
              "          const docLink = document.createElement('div');\n",
              "          docLink.innerHTML = docLinkHtml;\n",
              "          element.appendChild(docLink);\n",
              "        }\n",
              "      </script>\n",
              "    </div>\n",
              "  </div>\n",
              "  "
            ]
          },
          "metadata": {},
          "execution_count": 39
        }
      ]
    },
    {
      "cell_type": "code",
      "source": [
        "## for avoiding initial no spends terms in optimization\n",
        "import numpy as np\n",
        "CPP_check = np.where(C==0,0,1) "
      ],
      "metadata": {
        "id": "e20x6OJX_AZR"
      },
      "execution_count": 11,
      "outputs": []
    },
    {
      "cell_type": "code",
      "source": [],
      "metadata": {
        "id": "R11uDSB11kMT"
      },
      "execution_count": null,
      "outputs": []
    },
    {
      "cell_type": "code",
      "source": [
        "## Decision variable: spends\n",
        "# Spends\n",
        "model.x = pyo.Var(model.i,model.j,domain = pyo.NonNegativeReals,initialize = spends)\n",
        "x = model.x\n",
        "\n",
        "#Adstock\n",
        "model.ads = pyo.Var(model.i,model.j,domain=pyo.NonNegativeReals,initialize=0)\n",
        "ads = model.ads\n",
        "\n",
        "\n"
      ],
      "metadata": {
        "id": "ktfkBBjLnK3C"
      },
      "execution_count": 124,
      "outputs": []
    },
    {
      "cell_type": "code",
      "source": [
        "x.pprint()"
      ],
      "metadata": {
        "id": "fI3dWTLm1lAV",
        "outputId": "c9e7f200-7d09-4bb6-f1ca-eeeb66029e45",
        "colab": {
          "base_uri": "https://localhost:8080/"
        }
      },
      "execution_count": 125,
      "outputs": [
        {
          "output_type": "stream",
          "name": "stdout",
          "text": [
            "x : Size=78, Index=x_index\n",
            "    Key     : Lower : Value             : Upper : Fixed : Stale : Domain\n",
            "     (1, 1) :     0 : 1681.499999999998 :  None : False : False : NonNegativeReals\n",
            "     (1, 2) :     0 : 2476.099999999997 :  None : False : False : NonNegativeReals\n",
            "     (1, 3) :     0 : 3279.789999999997 :  None : False : False : NonNegativeReals\n",
            "     (1, 4) :     0 : 2585.389999999995 :  None : False : False : NonNegativeReals\n",
            "     (1, 5) :     0 : 1051.119999999999 :  None : False : False : NonNegativeReals\n",
            "     (1, 6) :     0 : 263.5999999999997 :  None : False : False : NonNegativeReals\n",
            "     (1, 7) :     0 :            173.65 :  None : False : False : NonNegativeReals\n",
            "     (1, 8) :     0 :            130.63 :  None : False : False : NonNegativeReals\n",
            "     (1, 9) :     0 :               0.0 :  None : False : False : NonNegativeReals\n",
            "    (1, 10) :     0 :               0.0 :  None : False : False : NonNegativeReals\n",
            "    (1, 11) :     0 :               0.0 :  None : False : False : NonNegativeReals\n",
            "    (1, 12) :     0 :               0.0 :  None : False : False : NonNegativeReals\n",
            "    (1, 13) :     0 :               0.0 :  None : False : False : NonNegativeReals\n",
            "     (2, 1) :     0 :               0.0 :  None : False : False : NonNegativeReals\n",
            "     (2, 2) :     0 :               0.0 :  None : False : False : NonNegativeReals\n",
            "     (2, 3) :     0 :               0.0 :  None : False : False : NonNegativeReals\n",
            "     (2, 4) :     0 :               0.0 :  None : False : False : NonNegativeReals\n",
            "     (2, 5) :     0 :               0.0 :  None : False : False : NonNegativeReals\n",
            "     (2, 6) :     0 :               0.0 :  None : False : False : NonNegativeReals\n",
            "     (2, 7) :     0 :               0.0 :  None : False : False : NonNegativeReals\n",
            "     (2, 8) :     0 :               0.0 :  None : False : False : NonNegativeReals\n",
            "     (2, 9) :     0 :               0.0 :  None : False : False : NonNegativeReals\n",
            "    (2, 10) :     0 : 313.1799999999994 :  None : False : False : NonNegativeReals\n",
            "    (2, 11) :     0 : 725.8723519999994 :  None : False : False : NonNegativeReals\n",
            "    (2, 12) :     0 :  726.678665999999 :  None : False : False : NonNegativeReals\n",
            "    (2, 13) :     0 : 947.5334759999989 :  None : False : False : NonNegativeReals\n",
            "     (3, 1) :     0 : 6141.681549999989 :  None : False : False : NonNegativeReals\n",
            "     (3, 2) :     0 : 15080.85322599998 :  None : False : False : NonNegativeReals\n",
            "     (3, 3) :     0 : 7192.357365999989 :  None : False : False : NonNegativeReals\n",
            "     (3, 4) :     0 : 3574.155647999993 :  None : False : False : NonNegativeReals\n",
            "     (3, 5) :     0 :               0.0 :  None : False : False : NonNegativeReals\n",
            "     (3, 6) :     0 :               0.0 :  None : False : False : NonNegativeReals\n",
            "     (3, 7) :     0 :               0.0 :  None : False : False : NonNegativeReals\n",
            "     (3, 8) :     0 :               0.0 :  None : False : False : NonNegativeReals\n",
            "     (3, 9) :     0 :               0.0 :  None : False : False : NonNegativeReals\n",
            "    (3, 10) :     0 :               0.0 :  None : False : False : NonNegativeReals\n",
            "    (3, 11) :     0 :               0.0 :  None : False : False : NonNegativeReals\n",
            "    (3, 12) :     0 :               0.0 :  None : False : False : NonNegativeReals\n",
            "    (3, 13) :     0 :               0.0 :  None : False : False : NonNegativeReals\n",
            "     (4, 1) :     0 :               0.0 :  None : False : False : NonNegativeReals\n",
            "     (4, 2) :     0 :    12833.30000001 :  None : False : False : NonNegativeReals\n",
            "     (4, 3) :     0 :     4191.12999998 :  None : False : False : NonNegativeReals\n",
            "     (4, 4) :     0 :            1806.9 :  None : False : False : NonNegativeReals\n",
            "     (4, 5) :     0 :             800.0 :  None : False : False : NonNegativeReals\n",
            "     (4, 6) :     0 :               0.0 :  None : False : False : NonNegativeReals\n",
            "     (4, 7) :     0 :               0.0 :  None : False : False : NonNegativeReals\n",
            "     (4, 8) :     0 :             100.0 :  None : False : False : NonNegativeReals\n",
            "     (4, 9) :     0 :            162.53 :  None : False : False : NonNegativeReals\n",
            "    (4, 10) :     0 :            437.47 :  None : False : False : NonNegativeReals\n",
            "    (4, 11) :     0 :             200.0 :  None : False : False : NonNegativeReals\n",
            "    (4, 12) :     0 :               0.0 :  None : False : False : NonNegativeReals\n",
            "    (4, 13) :     0 :               0.0 :  None : False : False : NonNegativeReals\n",
            "     (5, 1) :     0 :               0.0 :  None : False : False : NonNegativeReals\n",
            "     (5, 2) :     0 : 1547.846153846154 :  None : False : False : NonNegativeReals\n",
            "     (5, 3) :     0 : 1665.318681318682 :  None : False : False : NonNegativeReals\n",
            "     (5, 4) :     0 : 1712.307692307692 :  None : False : False : NonNegativeReals\n",
            "     (5, 5) :     0 : 1824.175824175824 :  None : False : False : NonNegativeReals\n",
            "     (5, 6) :     0 : 1868.923076923077 :  None : False : False : NonNegativeReals\n",
            "     (5, 7) :     0 : 1868.923076923077 :  None : False : False : NonNegativeReals\n",
            "     (5, 8) :     0 : 1868.923076923077 :  None : False : False : NonNegativeReals\n",
            "     (5, 9) :     0 : 1868.923076923077 :  None : False : False : NonNegativeReals\n",
            "    (5, 10) :     0 : 1868.923076923077 :  None : False : False : NonNegativeReals\n",
            "    (5, 11) :     0 : 1868.923076923077 :  None : False : False : NonNegativeReals\n",
            "    (5, 12) :     0 : 1644.263736263736 :  None : False : False : NonNegativeReals\n",
            "    (5, 13) :     0 : 548.1868131868132 :  None : False : False : NonNegativeReals\n",
            "     (6, 1) :     0 :               0.0 :  None : False : False : NonNegativeReals\n",
            "     (6, 2) :     0 :               0.0 :  None : False : False : NonNegativeReals\n",
            "     (6, 3) :     0 : 39133.01411764706 :  None : False : False : NonNegativeReals\n",
            "     (6, 4) :     0 : 39133.01411764706 :  None : False : False : NonNegativeReals\n",
            "     (6, 5) :     0 : 5590.430588235294 :  None : False : False : NonNegativeReals\n",
            "     (6, 6) :     0 :               0.0 :  None : False : False : NonNegativeReals\n",
            "     (6, 7) :     0 : 6297.526470588235 :  None : False : False : NonNegativeReals\n",
            "     (6, 8) :     0 : 44082.68529411765 :  None : False : False : NonNegativeReals\n",
            "     (6, 9) :     0 : 37785.15882352941 :  None : False : False : NonNegativeReals\n",
            "    (6, 10) :     0 :               0.0 :  None : False : False : NonNegativeReals\n",
            "    (6, 11) :     0 :               0.0 :  None : False : False : NonNegativeReals\n",
            "    (6, 12) :     0 :               0.0 :  None : False : False : NonNegativeReals\n",
            "    (6, 13) :     0 :               0.0 :  None : False : False : NonNegativeReals\n"
          ]
        }
      ]
    },
    {
      "cell_type": "code",
      "source": [
        "#Saturation\n",
        "model.satu = pyo.Var(model.i,model.j,domain=pyo.NonNegativeReals,initialize=0)\n",
        "satu = model.satu"
      ],
      "metadata": {
        "id": "yZUpqBqMs0XN"
      },
      "execution_count": 13,
      "outputs": []
    },
    {
      "cell_type": "code",
      "source": [
        "#Saturation"
      ],
      "metadata": {
        "id": "_dWNxVlHAU0f"
      },
      "execution_count": null,
      "outputs": []
    },
    {
      "cell_type": "code",
      "source": [
        "##Testing\n",
        "\n",
        "model.y = pyo.Var(model.i,model.j,domain = pyo.NonNegativeReals)\n",
        "y = model.y"
      ],
      "metadata": {
        "id": "wAZcarC3-DPC"
      },
      "execution_count": null,
      "outputs": []
    },
    {
      "cell_type": "code",
      "source": [
        "model.z = pyo.Var(model.i,domain = pyo.NonNegativeReals)\n",
        "z = model.z\n"
      ],
      "metadata": {
        "id": "2SKUdT5dBQlD"
      },
      "execution_count": null,
      "outputs": []
    },
    {
      "cell_type": "code",
      "source": [
        "for i in range(1,len(model.typ)):\n",
        "  print(model.typ[i])"
      ],
      "metadata": {
        "colab": {
          "base_uri": "https://localhost:8080/"
        },
        "id": "hU6ULm6PlUJ_",
        "outputId": "68776d83-c406-45b8-c3ae-663b757a5bbd"
      },
      "execution_count": null,
      "outputs": [
        {
          "output_type": "stream",
          "name": "stdout",
          "text": [
            "Media\n",
            "Media\n",
            "Media\n",
            "Media\n",
            "Promo\n"
          ]
        }
      ]
    },
    {
      "cell_type": "code",
      "source": [
        "# def ads_func(model,i,j):\n",
        "\n",
        "#   # i for week, j for variable\n",
        "#   for j in range(1,S.shape[1]+1):\n",
        "#     model.ads[1,j] = (T.loc[j,'Max Adstock']/((1+exp(-(10*T.loc[j,'Steepness']/T.loc[j,'Max Adstock'])*(T.loc[j,'Ret_rate']*ads_func(model,i,j) - T.loc[j,'Saturation']*T.loc[j,'Max Adstock'])))]\n",
        "\n",
        "#     for i in range(1,len(S.shape[0])):\n",
        "#       model.ads[i,j] = (T.loc[j,'Max Adstock']/((1+exp(-(10*T.loc[j,'Steepness']/T.loc[j,'Max Adstock'])*(T.loc[j,'Ret_rate']*ads_func(model,i,j) - T.loc[j,'Saturation']*T.loc[j,'Max Adstock'])))]\n",
        "\n",
        "#     ads += ads_func(model)  "
      ],
      "metadata": {
        "id": "7I9qD_Qwr-tL"
      },
      "execution_count": null,
      "outputs": []
    },
    {
      "cell_type": "code",
      "source": [
        "S.shape[1]"
      ],
      "metadata": {
        "colab": {
          "base_uri": "https://localhost:8080/"
        },
        "id": "7u571eOlMdP0",
        "outputId": "776b28ca-d06d-4def-a890-57d3a5f07f5a"
      },
      "execution_count": null,
      "outputs": [
        {
          "output_type": "execute_result",
          "data": {
            "text/plain": [
              "6"
            ]
          },
          "metadata": {},
          "execution_count": 55
        }
      ]
    },
    {
      "cell_type": "code",
      "source": [
        "pprint(x)"
      ],
      "metadata": {
        "id": "psZ7JqbCthHJ",
        "outputId": "3474a426-009c-4438-b71d-6d62f2b36ae1",
        "colab": {
          "base_uri": "https://localhost:8080/"
        }
      },
      "execution_count": null,
      "outputs": [
        {
          "output_type": "stream",
          "name": "stdout",
          "text": [
            "Pretty printing has been turned OFF\n"
          ]
        }
      ]
    },
    {
      "cell_type": "code",
      "source": [
        "model.i.data()"
      ],
      "metadata": {
        "id": "hiAzdzsvtAQP",
        "outputId": "4f1202b1-2e16-420b-f4b8-7c432b717b2e",
        "colab": {
          "base_uri": "https://localhost:8080/"
        }
      },
      "execution_count": 48,
      "outputs": [
        {
          "output_type": "execute_result",
          "data": {
            "text/plain": [
              "(1, 2, 3, 4, 5, 6)"
            ]
          },
          "metadata": {},
          "execution_count": 48
        }
      ]
    },
    {
      "cell_type": "code",
      "source": [
        "#x.pprint()"
      ],
      "metadata": {
        "id": "90A1PXXA6U06"
      },
      "execution_count": null,
      "outputs": []
    },
    {
      "cell_type": "code",
      "source": [
        "def adstock_saturation(model,i,j):\n",
        "  for j in range(1,S.shape[1]+1):\n",
        "    ads[1,j] = x[1,j]/C.loc[1,j]\n",
        "  \n",
        "    for i in range(2,S.shape[0]+1):\n",
        "      ads[i,j] = ads[i-1,j]*T.loc[j,'Ret_rate'] + x[i,j]/C.loc[i,j]\n",
        "  \n",
        "  return sum(sum(T.loc[j,'Max Adstock']/(1+exp(-(10*T.loc[j,'Steepness']/T.loc[j,'Max Adstock'])*(ads[i,j]-(T.loc[j,'Saturation']*T.loc[j,'Max Adstock']))))*T.loc[j,'Coefficient'] for i in range(1,S.shape[0]+1) for j in range(1,S.shape[1]+1))\n",
        "  \n",
        "  #return T.loc[j,'Max Adstock']/((1+exp(-(10*T.loc[j,'Steepness']/T.loc[j,'Max Adstock'])*(ads[i,j]-(T.loc[j,'Saturation']*T.loc[j,'Max Adstock'])))))    \n"
      ],
      "metadata": {
        "colab": {
          "base_uri": "https://localhost:8080/",
          "height": 133
        },
        "id": "_C5dp444yUuj",
        "outputId": "e2872f7b-80d1-4064-c1e1-e528bc5fabdf"
      },
      "execution_count": null,
      "outputs": [
        {
          "output_type": "error",
          "ename": "SyntaxError",
          "evalue": "ignored",
          "traceback": [
            "\u001b[0;36m  File \u001b[0;32m\"<ipython-input-9-3bb5c4cc6ea5>\"\u001b[0;36m, line \u001b[0;32m10\u001b[0m\n\u001b[0;31m    #return T.loc[j,'Max Adstock']/((1+exp(-(10*T.loc[j,'Steepness']/T.loc[j,'Max Adstock'])*(ads[i,j]-(T.loc[j,'Saturation']*T.loc[j,'Max Adstock'])))))\u001b[0m\n\u001b[0m                                                                                                                                                             ^\u001b[0m\n\u001b[0;31mSyntaxError\u001b[0m\u001b[0;31m:\u001b[0m unexpected EOF while parsing\n"
          ]
        }
      ]
    },
    {
      "cell_type": "code",
      "source": [
        "def adstock_saturation(model):\n",
        "  for j in range(1,S.shape[1]+1):\n",
        "    ads2 = pd.DataFrame()\n",
        "    ads2.loc[j,1] = x[j,1]/C.loc[1,j]\n",
        "  \n",
        "    for i in range(2,S.shape[0]+1):\n",
        "      ads[j,i] = ads[j,i-1]*T.loc[j,'Ret_rate'] + x[j,i]/C.loc[i,j]\n",
        "\n",
        "  satu = T.loc[i,'Max Adstock']/\\\n",
        "(1+exp(-(10*T.loc[i,'Steepness']/T.loc[i,'Max Adstock'])*\\\n",
        "(ads[i,j]-(T.loc[i,'Saturation']*T.loc[i,'Max Adstock']))))*\\\n",
        "T.loc[i,'Coefficient'] for i in range(1,S.shape[1]+1)) for j in range(1,S.shape[0]+1)"
      ],
      "metadata": {
        "id": "RVo9eyx77uWp"
      },
      "execution_count": null,
      "outputs": []
    },
    {
      "cell_type": "code",
      "source": [
        "C.head()"
      ],
      "metadata": {
        "colab": {
          "base_uri": "https://localhost:8080/",
          "height": 237
        },
        "id": "4LVbra-edFm-",
        "outputId": "4dde45b9-702d-40f5-e210-da4c5cb313a5"
      },
      "execution_count": null,
      "outputs": [
        {
          "output_type": "execute_result",
          "data": {
            "text/plain": [
              "               1    2         3         4         5           6\n",
              "Period                                                         \n",
              "1       0.010282  1.0  0.000756  1.000000  1.000000    1.000000\n",
              "2       0.011041  1.0  0.000773  0.000182  0.435862    1.000000\n",
              "3       0.015013  1.0  0.000512  0.000169  0.338902  168.386464\n",
              "4       0.017389  1.0  0.000545  0.000149  0.313671  168.386464\n",
              "5       0.016280  1.0  1.000000  0.000118  0.270023  168.386464"
            ],
            "text/html": [
              "\n",
              "  <div id=\"df-7e4420f6-877d-4d17-b77c-27350bef8320\">\n",
              "    <div class=\"colab-df-container\">\n",
              "      <div>\n",
              "<style scoped>\n",
              "    .dataframe tbody tr th:only-of-type {\n",
              "        vertical-align: middle;\n",
              "    }\n",
              "\n",
              "    .dataframe tbody tr th {\n",
              "        vertical-align: top;\n",
              "    }\n",
              "\n",
              "    .dataframe thead th {\n",
              "        text-align: right;\n",
              "    }\n",
              "</style>\n",
              "<table border=\"1\" class=\"dataframe\">\n",
              "  <thead>\n",
              "    <tr style=\"text-align: right;\">\n",
              "      <th></th>\n",
              "      <th>1</th>\n",
              "      <th>2</th>\n",
              "      <th>3</th>\n",
              "      <th>4</th>\n",
              "      <th>5</th>\n",
              "      <th>6</th>\n",
              "    </tr>\n",
              "    <tr>\n",
              "      <th>Period</th>\n",
              "      <th></th>\n",
              "      <th></th>\n",
              "      <th></th>\n",
              "      <th></th>\n",
              "      <th></th>\n",
              "      <th></th>\n",
              "    </tr>\n",
              "  </thead>\n",
              "  <tbody>\n",
              "    <tr>\n",
              "      <th>1</th>\n",
              "      <td>0.010282</td>\n",
              "      <td>1.0</td>\n",
              "      <td>0.000756</td>\n",
              "      <td>1.000000</td>\n",
              "      <td>1.000000</td>\n",
              "      <td>1.000000</td>\n",
              "    </tr>\n",
              "    <tr>\n",
              "      <th>2</th>\n",
              "      <td>0.011041</td>\n",
              "      <td>1.0</td>\n",
              "      <td>0.000773</td>\n",
              "      <td>0.000182</td>\n",
              "      <td>0.435862</td>\n",
              "      <td>1.000000</td>\n",
              "    </tr>\n",
              "    <tr>\n",
              "      <th>3</th>\n",
              "      <td>0.015013</td>\n",
              "      <td>1.0</td>\n",
              "      <td>0.000512</td>\n",
              "      <td>0.000169</td>\n",
              "      <td>0.338902</td>\n",
              "      <td>168.386464</td>\n",
              "    </tr>\n",
              "    <tr>\n",
              "      <th>4</th>\n",
              "      <td>0.017389</td>\n",
              "      <td>1.0</td>\n",
              "      <td>0.000545</td>\n",
              "      <td>0.000149</td>\n",
              "      <td>0.313671</td>\n",
              "      <td>168.386464</td>\n",
              "    </tr>\n",
              "    <tr>\n",
              "      <th>5</th>\n",
              "      <td>0.016280</td>\n",
              "      <td>1.0</td>\n",
              "      <td>1.000000</td>\n",
              "      <td>0.000118</td>\n",
              "      <td>0.270023</td>\n",
              "      <td>168.386464</td>\n",
              "    </tr>\n",
              "  </tbody>\n",
              "</table>\n",
              "</div>\n",
              "      <button class=\"colab-df-convert\" onclick=\"convertToInteractive('df-7e4420f6-877d-4d17-b77c-27350bef8320')\"\n",
              "              title=\"Convert this dataframe to an interactive table.\"\n",
              "              style=\"display:none;\">\n",
              "        \n",
              "  <svg xmlns=\"http://www.w3.org/2000/svg\" height=\"24px\"viewBox=\"0 0 24 24\"\n",
              "       width=\"24px\">\n",
              "    <path d=\"M0 0h24v24H0V0z\" fill=\"none\"/>\n",
              "    <path d=\"M18.56 5.44l.94 2.06.94-2.06 2.06-.94-2.06-.94-.94-2.06-.94 2.06-2.06.94zm-11 1L8.5 8.5l.94-2.06 2.06-.94-2.06-.94L8.5 2.5l-.94 2.06-2.06.94zm10 10l.94 2.06.94-2.06 2.06-.94-2.06-.94-.94-2.06-.94 2.06-2.06.94z\"/><path d=\"M17.41 7.96l-1.37-1.37c-.4-.4-.92-.59-1.43-.59-.52 0-1.04.2-1.43.59L10.3 9.45l-7.72 7.72c-.78.78-.78 2.05 0 2.83L4 21.41c.39.39.9.59 1.41.59.51 0 1.02-.2 1.41-.59l7.78-7.78 2.81-2.81c.8-.78.8-2.07 0-2.86zM5.41 20L4 18.59l7.72-7.72 1.47 1.35L5.41 20z\"/>\n",
              "  </svg>\n",
              "      </button>\n",
              "      \n",
              "  <style>\n",
              "    .colab-df-container {\n",
              "      display:flex;\n",
              "      flex-wrap:wrap;\n",
              "      gap: 12px;\n",
              "    }\n",
              "\n",
              "    .colab-df-convert {\n",
              "      background-color: #E8F0FE;\n",
              "      border: none;\n",
              "      border-radius: 50%;\n",
              "      cursor: pointer;\n",
              "      display: none;\n",
              "      fill: #1967D2;\n",
              "      height: 32px;\n",
              "      padding: 0 0 0 0;\n",
              "      width: 32px;\n",
              "    }\n",
              "\n",
              "    .colab-df-convert:hover {\n",
              "      background-color: #E2EBFA;\n",
              "      box-shadow: 0px 1px 2px rgba(60, 64, 67, 0.3), 0px 1px 3px 1px rgba(60, 64, 67, 0.15);\n",
              "      fill: #174EA6;\n",
              "    }\n",
              "\n",
              "    [theme=dark] .colab-df-convert {\n",
              "      background-color: #3B4455;\n",
              "      fill: #D2E3FC;\n",
              "    }\n",
              "\n",
              "    [theme=dark] .colab-df-convert:hover {\n",
              "      background-color: #434B5C;\n",
              "      box-shadow: 0px 1px 3px 1px rgba(0, 0, 0, 0.15);\n",
              "      filter: drop-shadow(0px 1px 2px rgba(0, 0, 0, 0.3));\n",
              "      fill: #FFFFFF;\n",
              "    }\n",
              "  </style>\n",
              "\n",
              "      <script>\n",
              "        const buttonEl =\n",
              "          document.querySelector('#df-7e4420f6-877d-4d17-b77c-27350bef8320 button.colab-df-convert');\n",
              "        buttonEl.style.display =\n",
              "          google.colab.kernel.accessAllowed ? 'block' : 'none';\n",
              "\n",
              "        async function convertToInteractive(key) {\n",
              "          const element = document.querySelector('#df-7e4420f6-877d-4d17-b77c-27350bef8320');\n",
              "          const dataTable =\n",
              "            await google.colab.kernel.invokeFunction('convertToInteractive',\n",
              "                                                     [key], {});\n",
              "          if (!dataTable) return;\n",
              "\n",
              "          const docLinkHtml = 'Like what you see? Visit the ' +\n",
              "            '<a target=\"_blank\" href=https://colab.research.google.com/notebooks/data_table.ipynb>data table notebook</a>'\n",
              "            + ' to learn more about interactive tables.';\n",
              "          element.innerHTML = '';\n",
              "          dataTable['output_type'] = 'display_data';\n",
              "          await google.colab.output.renderOutput(dataTable, element);\n",
              "          const docLink = document.createElement('div');\n",
              "          docLink.innerHTML = docLinkHtml;\n",
              "          element.appendChild(docLink);\n",
              "        }\n",
              "      </script>\n",
              "    </div>\n",
              "  </div>\n",
              "  "
            ]
          },
          "metadata": {},
          "execution_count": 25
        }
      ]
    },
    {
      "cell_type": "code",
      "source": [
        "T.head()"
      ],
      "metadata": {
        "colab": {
          "base_uri": "https://localhost:8080/",
          "height": 206
        },
        "id": "kN95YklFveuA",
        "outputId": "389dd30a-7223-4d73-dfff-5fbbca5a3e69"
      },
      "execution_count": null,
      "outputs": [
        {
          "output_type": "execute_result",
          "data": {
            "text/plain": [
              "    Type  Half Life   Max Adstock  Saturation  Steepness  Coefficient  \\\n",
              "1  Media        1.0  3.828436e+05         0.7        0.3     0.000835   \n",
              "2  Media        0.5  8.401198e+06         0.8        0.5     0.000069   \n",
              "3  Media        1.5  3.034951e+07         0.5        0.4     0.000006   \n",
              "4  Media        3.0  1.135283e+08         0.9        0.6     0.000022   \n",
              "5  Promo        0.0  7.274308e+03         0.0        0.0     0.045272   \n",
              "\n",
              "   Ret_rate  \n",
              "1  0.500000  \n",
              "2  0.250000  \n",
              "3  0.629961  \n",
              "4  0.793701  \n",
              "5  0.000000  "
            ],
            "text/html": [
              "\n",
              "  <div id=\"df-f55ae58d-98f7-4cd7-8e43-174d6ec80f17\">\n",
              "    <div class=\"colab-df-container\">\n",
              "      <div>\n",
              "<style scoped>\n",
              "    .dataframe tbody tr th:only-of-type {\n",
              "        vertical-align: middle;\n",
              "    }\n",
              "\n",
              "    .dataframe tbody tr th {\n",
              "        vertical-align: top;\n",
              "    }\n",
              "\n",
              "    .dataframe thead th {\n",
              "        text-align: right;\n",
              "    }\n",
              "</style>\n",
              "<table border=\"1\" class=\"dataframe\">\n",
              "  <thead>\n",
              "    <tr style=\"text-align: right;\">\n",
              "      <th></th>\n",
              "      <th>Type</th>\n",
              "      <th>Half Life</th>\n",
              "      <th>Max Adstock</th>\n",
              "      <th>Saturation</th>\n",
              "      <th>Steepness</th>\n",
              "      <th>Coefficient</th>\n",
              "      <th>Ret_rate</th>\n",
              "    </tr>\n",
              "  </thead>\n",
              "  <tbody>\n",
              "    <tr>\n",
              "      <th>1</th>\n",
              "      <td>Media</td>\n",
              "      <td>1.0</td>\n",
              "      <td>3.828436e+05</td>\n",
              "      <td>0.7</td>\n",
              "      <td>0.3</td>\n",
              "      <td>0.000835</td>\n",
              "      <td>0.500000</td>\n",
              "    </tr>\n",
              "    <tr>\n",
              "      <th>2</th>\n",
              "      <td>Media</td>\n",
              "      <td>0.5</td>\n",
              "      <td>8.401198e+06</td>\n",
              "      <td>0.8</td>\n",
              "      <td>0.5</td>\n",
              "      <td>0.000069</td>\n",
              "      <td>0.250000</td>\n",
              "    </tr>\n",
              "    <tr>\n",
              "      <th>3</th>\n",
              "      <td>Media</td>\n",
              "      <td>1.5</td>\n",
              "      <td>3.034951e+07</td>\n",
              "      <td>0.5</td>\n",
              "      <td>0.4</td>\n",
              "      <td>0.000006</td>\n",
              "      <td>0.629961</td>\n",
              "    </tr>\n",
              "    <tr>\n",
              "      <th>4</th>\n",
              "      <td>Media</td>\n",
              "      <td>3.0</td>\n",
              "      <td>1.135283e+08</td>\n",
              "      <td>0.9</td>\n",
              "      <td>0.6</td>\n",
              "      <td>0.000022</td>\n",
              "      <td>0.793701</td>\n",
              "    </tr>\n",
              "    <tr>\n",
              "      <th>5</th>\n",
              "      <td>Promo</td>\n",
              "      <td>0.0</td>\n",
              "      <td>7.274308e+03</td>\n",
              "      <td>0.0</td>\n",
              "      <td>0.0</td>\n",
              "      <td>0.045272</td>\n",
              "      <td>0.000000</td>\n",
              "    </tr>\n",
              "  </tbody>\n",
              "</table>\n",
              "</div>\n",
              "      <button class=\"colab-df-convert\" onclick=\"convertToInteractive('df-f55ae58d-98f7-4cd7-8e43-174d6ec80f17')\"\n",
              "              title=\"Convert this dataframe to an interactive table.\"\n",
              "              style=\"display:none;\">\n",
              "        \n",
              "  <svg xmlns=\"http://www.w3.org/2000/svg\" height=\"24px\"viewBox=\"0 0 24 24\"\n",
              "       width=\"24px\">\n",
              "    <path d=\"M0 0h24v24H0V0z\" fill=\"none\"/>\n",
              "    <path d=\"M18.56 5.44l.94 2.06.94-2.06 2.06-.94-2.06-.94-.94-2.06-.94 2.06-2.06.94zm-11 1L8.5 8.5l.94-2.06 2.06-.94-2.06-.94L8.5 2.5l-.94 2.06-2.06.94zm10 10l.94 2.06.94-2.06 2.06-.94-2.06-.94-.94-2.06-.94 2.06-2.06.94z\"/><path d=\"M17.41 7.96l-1.37-1.37c-.4-.4-.92-.59-1.43-.59-.52 0-1.04.2-1.43.59L10.3 9.45l-7.72 7.72c-.78.78-.78 2.05 0 2.83L4 21.41c.39.39.9.59 1.41.59.51 0 1.02-.2 1.41-.59l7.78-7.78 2.81-2.81c.8-.78.8-2.07 0-2.86zM5.41 20L4 18.59l7.72-7.72 1.47 1.35L5.41 20z\"/>\n",
              "  </svg>\n",
              "      </button>\n",
              "      \n",
              "  <style>\n",
              "    .colab-df-container {\n",
              "      display:flex;\n",
              "      flex-wrap:wrap;\n",
              "      gap: 12px;\n",
              "    }\n",
              "\n",
              "    .colab-df-convert {\n",
              "      background-color: #E8F0FE;\n",
              "      border: none;\n",
              "      border-radius: 50%;\n",
              "      cursor: pointer;\n",
              "      display: none;\n",
              "      fill: #1967D2;\n",
              "      height: 32px;\n",
              "      padding: 0 0 0 0;\n",
              "      width: 32px;\n",
              "    }\n",
              "\n",
              "    .colab-df-convert:hover {\n",
              "      background-color: #E2EBFA;\n",
              "      box-shadow: 0px 1px 2px rgba(60, 64, 67, 0.3), 0px 1px 3px 1px rgba(60, 64, 67, 0.15);\n",
              "      fill: #174EA6;\n",
              "    }\n",
              "\n",
              "    [theme=dark] .colab-df-convert {\n",
              "      background-color: #3B4455;\n",
              "      fill: #D2E3FC;\n",
              "    }\n",
              "\n",
              "    [theme=dark] .colab-df-convert:hover {\n",
              "      background-color: #434B5C;\n",
              "      box-shadow: 0px 1px 3px 1px rgba(0, 0, 0, 0.15);\n",
              "      filter: drop-shadow(0px 1px 2px rgba(0, 0, 0, 0.3));\n",
              "      fill: #FFFFFF;\n",
              "    }\n",
              "  </style>\n",
              "\n",
              "      <script>\n",
              "        const buttonEl =\n",
              "          document.querySelector('#df-f55ae58d-98f7-4cd7-8e43-174d6ec80f17 button.colab-df-convert');\n",
              "        buttonEl.style.display =\n",
              "          google.colab.kernel.accessAllowed ? 'block' : 'none';\n",
              "\n",
              "        async function convertToInteractive(key) {\n",
              "          const element = document.querySelector('#df-f55ae58d-98f7-4cd7-8e43-174d6ec80f17');\n",
              "          const dataTable =\n",
              "            await google.colab.kernel.invokeFunction('convertToInteractive',\n",
              "                                                     [key], {});\n",
              "          if (!dataTable) return;\n",
              "\n",
              "          const docLinkHtml = 'Like what you see? Visit the ' +\n",
              "            '<a target=\"_blank\" href=https://colab.research.google.com/notebooks/data_table.ipynb>data table notebook</a>'\n",
              "            + ' to learn more about interactive tables.';\n",
              "          element.innerHTML = '';\n",
              "          dataTable['output_type'] = 'display_data';\n",
              "          await google.colab.output.renderOutput(dataTable, element);\n",
              "          const docLink = document.createElement('div');\n",
              "          docLink.innerHTML = docLinkHtml;\n",
              "          element.appendChild(docLink);\n",
              "        }\n",
              "      </script>\n",
              "    </div>\n",
              "  </div>\n",
              "  "
            ]
          },
          "metadata": {},
          "execution_count": 29
        }
      ]
    },
    {
      "cell_type": "code",
      "source": [
        "CPP_check"
      ],
      "metadata": {
        "colab": {
          "base_uri": "https://localhost:8080/"
        },
        "id": "ZUVLTV4-AukA",
        "outputId": "6a3d91a0-0c32-4fae-e663-cfac28e0498a"
      },
      "execution_count": null,
      "outputs": [
        {
          "output_type": "execute_result",
          "data": {
            "text/plain": [
              "array([[1, 0, 1, 0, 0, 0],\n",
              "       [1, 0, 1, 1, 1, 0],\n",
              "       [1, 0, 1, 1, 1, 1],\n",
              "       [1, 0, 1, 1, 1, 1],\n",
              "       [1, 0, 0, 1, 1, 1],\n",
              "       [1, 0, 0, 0, 1, 0],\n",
              "       [1, 0, 0, 0, 1, 1],\n",
              "       [1, 0, 0, 1, 1, 1],\n",
              "       [0, 0, 0, 1, 1, 1],\n",
              "       [0, 1, 0, 1, 1, 0],\n",
              "       [0, 1, 0, 1, 1, 0],\n",
              "       [0, 1, 0, 0, 1, 0],\n",
              "       [0, 1, 0, 0, 1, 0]])"
            ]
          },
          "metadata": {},
          "execution_count": 54
        }
      ]
    },
    {
      "cell_type": "code",
      "source": [
        "T"
      ],
      "metadata": {
        "colab": {
          "base_uri": "https://localhost:8080/",
          "height": 237
        },
        "id": "8FumxKkjBAPR",
        "outputId": "5fe0b903-0b5c-42f0-ee13-4f88e5a5ec99"
      },
      "execution_count": null,
      "outputs": [
        {
          "output_type": "execute_result",
          "data": {
            "text/plain": [
              "    Type  Half Life   Max Adstock  Saturation  Steepness  Coefficient  \\\n",
              "1  Media        1.0  3.828436e+05         0.7        0.3     0.000835   \n",
              "2  Media        0.5  8.401198e+06         0.8        0.5     0.000069   \n",
              "3  Media        1.5  3.034951e+07         0.5        0.4     0.000006   \n",
              "4  Media        3.0  1.135283e+08         0.9        0.6     0.000022   \n",
              "5  Promo        0.0  7.274308e+03         0.0        0.0     0.045272   \n",
              "6  Media        3.8  7.525281e+02         0.6        1.5     0.251257   \n",
              "\n",
              "   Adjustment_factor  Ret_rate  \n",
              "1       4.176702e+04  0.500000  \n",
              "2       1.511057e+05  0.250000  \n",
              "3       3.617750e+06  0.629961  \n",
              "4       5.104543e+05  0.793701  \n",
              "5       0.000000e+00  0.000000  \n",
              "6       9.285800e-02  0.833262  "
            ],
            "text/html": [
              "\n",
              "  <div id=\"df-8354adba-e5a5-406c-8fe7-636f0cb3cab9\">\n",
              "    <div class=\"colab-df-container\">\n",
              "      <div>\n",
              "<style scoped>\n",
              "    .dataframe tbody tr th:only-of-type {\n",
              "        vertical-align: middle;\n",
              "    }\n",
              "\n",
              "    .dataframe tbody tr th {\n",
              "        vertical-align: top;\n",
              "    }\n",
              "\n",
              "    .dataframe thead th {\n",
              "        text-align: right;\n",
              "    }\n",
              "</style>\n",
              "<table border=\"1\" class=\"dataframe\">\n",
              "  <thead>\n",
              "    <tr style=\"text-align: right;\">\n",
              "      <th></th>\n",
              "      <th>Type</th>\n",
              "      <th>Half Life</th>\n",
              "      <th>Max Adstock</th>\n",
              "      <th>Saturation</th>\n",
              "      <th>Steepness</th>\n",
              "      <th>Coefficient</th>\n",
              "      <th>Adjustment_factor</th>\n",
              "      <th>Ret_rate</th>\n",
              "    </tr>\n",
              "  </thead>\n",
              "  <tbody>\n",
              "    <tr>\n",
              "      <th>1</th>\n",
              "      <td>Media</td>\n",
              "      <td>1.0</td>\n",
              "      <td>3.828436e+05</td>\n",
              "      <td>0.7</td>\n",
              "      <td>0.3</td>\n",
              "      <td>0.000835</td>\n",
              "      <td>4.176702e+04</td>\n",
              "      <td>0.500000</td>\n",
              "    </tr>\n",
              "    <tr>\n",
              "      <th>2</th>\n",
              "      <td>Media</td>\n",
              "      <td>0.5</td>\n",
              "      <td>8.401198e+06</td>\n",
              "      <td>0.8</td>\n",
              "      <td>0.5</td>\n",
              "      <td>0.000069</td>\n",
              "      <td>1.511057e+05</td>\n",
              "      <td>0.250000</td>\n",
              "    </tr>\n",
              "    <tr>\n",
              "      <th>3</th>\n",
              "      <td>Media</td>\n",
              "      <td>1.5</td>\n",
              "      <td>3.034951e+07</td>\n",
              "      <td>0.5</td>\n",
              "      <td>0.4</td>\n",
              "      <td>0.000006</td>\n",
              "      <td>3.617750e+06</td>\n",
              "      <td>0.629961</td>\n",
              "    </tr>\n",
              "    <tr>\n",
              "      <th>4</th>\n",
              "      <td>Media</td>\n",
              "      <td>3.0</td>\n",
              "      <td>1.135283e+08</td>\n",
              "      <td>0.9</td>\n",
              "      <td>0.6</td>\n",
              "      <td>0.000022</td>\n",
              "      <td>5.104543e+05</td>\n",
              "      <td>0.793701</td>\n",
              "    </tr>\n",
              "    <tr>\n",
              "      <th>5</th>\n",
              "      <td>Promo</td>\n",
              "      <td>0.0</td>\n",
              "      <td>7.274308e+03</td>\n",
              "      <td>0.0</td>\n",
              "      <td>0.0</td>\n",
              "      <td>0.045272</td>\n",
              "      <td>0.000000e+00</td>\n",
              "      <td>0.000000</td>\n",
              "    </tr>\n",
              "    <tr>\n",
              "      <th>6</th>\n",
              "      <td>Media</td>\n",
              "      <td>3.8</td>\n",
              "      <td>7.525281e+02</td>\n",
              "      <td>0.6</td>\n",
              "      <td>1.5</td>\n",
              "      <td>0.251257</td>\n",
              "      <td>9.285800e-02</td>\n",
              "      <td>0.833262</td>\n",
              "    </tr>\n",
              "  </tbody>\n",
              "</table>\n",
              "</div>\n",
              "      <button class=\"colab-df-convert\" onclick=\"convertToInteractive('df-8354adba-e5a5-406c-8fe7-636f0cb3cab9')\"\n",
              "              title=\"Convert this dataframe to an interactive table.\"\n",
              "              style=\"display:none;\">\n",
              "        \n",
              "  <svg xmlns=\"http://www.w3.org/2000/svg\" height=\"24px\"viewBox=\"0 0 24 24\"\n",
              "       width=\"24px\">\n",
              "    <path d=\"M0 0h24v24H0V0z\" fill=\"none\"/>\n",
              "    <path d=\"M18.56 5.44l.94 2.06.94-2.06 2.06-.94-2.06-.94-.94-2.06-.94 2.06-2.06.94zm-11 1L8.5 8.5l.94-2.06 2.06-.94-2.06-.94L8.5 2.5l-.94 2.06-2.06.94zm10 10l.94 2.06.94-2.06 2.06-.94-2.06-.94-.94-2.06-.94 2.06-2.06.94z\"/><path d=\"M17.41 7.96l-1.37-1.37c-.4-.4-.92-.59-1.43-.59-.52 0-1.04.2-1.43.59L10.3 9.45l-7.72 7.72c-.78.78-.78 2.05 0 2.83L4 21.41c.39.39.9.59 1.41.59.51 0 1.02-.2 1.41-.59l7.78-7.78 2.81-2.81c.8-.78.8-2.07 0-2.86zM5.41 20L4 18.59l7.72-7.72 1.47 1.35L5.41 20z\"/>\n",
              "  </svg>\n",
              "      </button>\n",
              "      \n",
              "  <style>\n",
              "    .colab-df-container {\n",
              "      display:flex;\n",
              "      flex-wrap:wrap;\n",
              "      gap: 12px;\n",
              "    }\n",
              "\n",
              "    .colab-df-convert {\n",
              "      background-color: #E8F0FE;\n",
              "      border: none;\n",
              "      border-radius: 50%;\n",
              "      cursor: pointer;\n",
              "      display: none;\n",
              "      fill: #1967D2;\n",
              "      height: 32px;\n",
              "      padding: 0 0 0 0;\n",
              "      width: 32px;\n",
              "    }\n",
              "\n",
              "    .colab-df-convert:hover {\n",
              "      background-color: #E2EBFA;\n",
              "      box-shadow: 0px 1px 2px rgba(60, 64, 67, 0.3), 0px 1px 3px 1px rgba(60, 64, 67, 0.15);\n",
              "      fill: #174EA6;\n",
              "    }\n",
              "\n",
              "    [theme=dark] .colab-df-convert {\n",
              "      background-color: #3B4455;\n",
              "      fill: #D2E3FC;\n",
              "    }\n",
              "\n",
              "    [theme=dark] .colab-df-convert:hover {\n",
              "      background-color: #434B5C;\n",
              "      box-shadow: 0px 1px 3px 1px rgba(0, 0, 0, 0.15);\n",
              "      filter: drop-shadow(0px 1px 2px rgba(0, 0, 0, 0.3));\n",
              "      fill: #FFFFFF;\n",
              "    }\n",
              "  </style>\n",
              "\n",
              "      <script>\n",
              "        const buttonEl =\n",
              "          document.querySelector('#df-8354adba-e5a5-406c-8fe7-636f0cb3cab9 button.colab-df-convert');\n",
              "        buttonEl.style.display =\n",
              "          google.colab.kernel.accessAllowed ? 'block' : 'none';\n",
              "\n",
              "        async function convertToInteractive(key) {\n",
              "          const element = document.querySelector('#df-8354adba-e5a5-406c-8fe7-636f0cb3cab9');\n",
              "          const dataTable =\n",
              "            await google.colab.kernel.invokeFunction('convertToInteractive',\n",
              "                                                     [key], {});\n",
              "          if (!dataTable) return;\n",
              "\n",
              "          const docLinkHtml = 'Like what you see? Visit the ' +\n",
              "            '<a target=\"_blank\" href=https://colab.research.google.com/notebooks/data_table.ipynb>data table notebook</a>'\n",
              "            + ' to learn more about interactive tables.';\n",
              "          element.innerHTML = '';\n",
              "          dataTable['output_type'] = 'display_data';\n",
              "          await google.colab.output.renderOutput(dataTable, element);\n",
              "          const docLink = document.createElement('div');\n",
              "          docLink.innerHTML = docLinkHtml;\n",
              "          element.appendChild(docLink);\n",
              "        }\n",
              "      </script>\n",
              "    </div>\n",
              "  </div>\n",
              "  "
            ]
          },
          "metadata": {},
          "execution_count": 56
        }
      ]
    },
    {
      "cell_type": "code",
      "source": [
        "ads2.loc[1,2] = S.loc[1,2]/C.loc[1,2]"
      ],
      "metadata": {
        "id": "2U7HHOlWHY39"
      },
      "execution_count": null,
      "outputs": []
    },
    {
      "cell_type": "code",
      "source": [
        "## working code with everything\n",
        "# import numpy as np\n",
        "# # def adstest():\n",
        "#   ##Adstocking\n",
        "# ads2 = pd.DataFrame()\n",
        "# for j in range(1,S.shape[1]+1):\n",
        "#           #print(j)\n",
        "#   if T.loc[j,'Type'] == 'Media':\n",
        "#     ads2.loc[1,j] = S.loc[1,j]/C.loc[1,j]\n",
        "#     ads2.fillna(0,inplace=True)\n",
        "#     #print(ads2)\n",
        "\n",
        "#     for i in range(2,S.shape[0]+1):\n",
        "#       ads2.loc[i,j] = ads2.loc[i-1,j]*T.loc[j,'Ret_rate'] + S.loc[i,j]/C.loc[i,j]\n",
        "#       ads2.fillna(0,inplace=True)\n",
        "#       #print('media')\n",
        "#   else: # for promo\n",
        "#     for i in range(1,S.shape[0]+1): \n",
        "#       ads2.loc[i,j] = S.loc[i,j]/C.loc[i,j]\n",
        "      \n",
        "\n",
        "  \n",
        "#   ##Saturation transformation\n",
        "# satu = pd.DataFrame()\n",
        "# for i in range(1,S.shape[1]+1):\n",
        "#   if T.loc[i,'Type'] == 'Media':\n",
        "#     for j in range(1,S.shape[0]+1):\n",
        "    \n",
        "#       satu.loc[j,i] = T.loc[i,'Max Adstock']/\\\n",
        "#     (1+exp(-(10*T.loc[i,'Steepness']/T.loc[i,'Max Adstock'])*\\\n",
        "#     (ads2.loc[j,i]-(T.loc[i,'Saturation']*T.loc[i,'Max Adstock']))))-T.loc[i,'Adjustment_factor']   #*\\\n",
        "#                 #T.loc[i,'Coefficient'] \n",
        "  \n",
        "#   else:\n",
        "#     satu[i] = ads2[i]\n",
        "# # ##Replacing small -ve numbers with 0\n",
        "#   satu[satu<0] = 0\n",
        "\n",
        "# print(ads2)    \n",
        "# print(satu)\n"
      ],
      "metadata": {
        "id": "RCk2AUojC778"
      },
      "execution_count": 14,
      "outputs": []
    },
    {
      "cell_type": "code",
      "source": [
        "## working code with model with everything\n",
        "import numpy as np\n",
        "# def adstest():\n",
        "  ##Adstocking\n",
        "#ads2 = pd.DataFrame()\n",
        "#ads2 = pd.DataFrame()\n",
        "#ads2 = pd.DataFrame()\n",
        "def objective_func():\n",
        "  for j in range(1,S.shape[1]+1): #j for var\n",
        "    #print(j)\n",
        "    if T.loc[j,'Type'] == 'Media':\n",
        "      ads[j,1] = (x[j,1]/C.loc[1,j])*CPP_check[0,j-1]\n",
        "      \n",
        "\n",
        "      for i in range(2,S.shape[0]+1): #i for week\n",
        "        ads[j,i] = ads[j,i-1]*T.loc[j,'Ret_rate'] + (x[j,i]/C.loc[i,j])*CPP_check[i-1,j-1]\n",
        "        \n",
        "    else: # for promo\n",
        "      for i in range(1,S.shape[0]+1): \n",
        "        ads[j,i] = (S.loc[i,j]/C.loc[i,j])*CPP_check[i-1,j-1]\n",
        "        \n",
        "\n",
        "    \n",
        "    ##Saturation transformation\n",
        "  #satu = pd.DataFrame()\n",
        "  for i in range(1,S.shape[1]+1): #j for week, i for var\n",
        "    if T.loc[i,'Type'] == 'Media':\n",
        "      for j in range(1,S.shape[0]+1):\n",
        "      \n",
        "        satu[i,j] = (T.loc[i,'Max Adstock']/\\\n",
        "      (1+exp(-(10*T.loc[i,'Steepness']/T.loc[i,'Max Adstock'])*\\\n",
        "      (ads[i,j]-(T.loc[i,'Saturation']*T.loc[i,'Max Adstock']))))-T.loc[i,'Adjustment_factor'])*T.loc[i,'Coefficient']   #*\\\n",
        "      #T.loc[i,'Coefficient'] \n",
        "    \n",
        "    else: \n",
        "      for j in range(1,S.shape[0]+1): # j for week\n",
        "        satu[i,j] = ads[i,j]\n",
        "      \n",
        "\n",
        "  return sum(sum(sat[i,j] for i in range(1,S.shape[1]+1)) for j in range(1,S.shape[0]+1))\n",
        "\n",
        "# ##Replacing small -ve numbers with 0\n",
        "  #satu[satu<0] = 0\n",
        "\n"
      ],
      "metadata": {
        "id": "2LrrvIe2ahpq"
      },
      "execution_count": 15,
      "outputs": []
    },
    {
      "cell_type": "code",
      "source": [
        "model.x.value"
      ],
      "metadata": {
        "id": "_kDmacb2CPnh",
        "outputId": "7fd8c68f-c2fb-4cf3-f72b-b613caa9d820",
        "colab": {
          "base_uri": "https://localhost:8080/"
        }
      },
      "execution_count": null,
      "outputs": [
        {
          "output_type": "execute_result",
          "data": {
            "text/plain": [
              "1681.499999999998"
            ]
          },
          "metadata": {},
          "execution_count": 52
        }
      ]
    },
    {
      "cell_type": "code",
      "source": [
        "S.head()"
      ],
      "metadata": {
        "id": "PfQftSXEDxEH",
        "outputId": "67f7c103-4f8a-4c2d-e0a1-96b916482300",
        "colab": {
          "base_uri": "https://localhost:8080/",
          "height": 237
        }
      },
      "execution_count": null,
      "outputs": [
        {
          "output_type": "execute_result",
          "data": {
            "text/plain": [
              "              1    2             3         4            5             6\n",
              "Period                                                                 \n",
              "1       1681.50  0.0   6141.681550      0.00     0.000000      0.000000\n",
              "2       2476.10  0.0  15080.853226  12833.30  1547.846154      0.000000\n",
              "3       3279.79  0.0   7192.357366   4191.13  1665.318681  39133.014118\n",
              "4       2585.39  0.0   3574.155648   1806.90  1712.307692  39133.014118\n",
              "5       1051.12  0.0      0.000000    800.00  1824.175824   5590.430588"
            ],
            "text/html": [
              "\n",
              "  <div id=\"df-f1f8a695-aad3-4eab-ad54-15b687fe839a\">\n",
              "    <div class=\"colab-df-container\">\n",
              "      <div>\n",
              "<style scoped>\n",
              "    .dataframe tbody tr th:only-of-type {\n",
              "        vertical-align: middle;\n",
              "    }\n",
              "\n",
              "    .dataframe tbody tr th {\n",
              "        vertical-align: top;\n",
              "    }\n",
              "\n",
              "    .dataframe thead th {\n",
              "        text-align: right;\n",
              "    }\n",
              "</style>\n",
              "<table border=\"1\" class=\"dataframe\">\n",
              "  <thead>\n",
              "    <tr style=\"text-align: right;\">\n",
              "      <th></th>\n",
              "      <th>1</th>\n",
              "      <th>2</th>\n",
              "      <th>3</th>\n",
              "      <th>4</th>\n",
              "      <th>5</th>\n",
              "      <th>6</th>\n",
              "    </tr>\n",
              "    <tr>\n",
              "      <th>Period</th>\n",
              "      <th></th>\n",
              "      <th></th>\n",
              "      <th></th>\n",
              "      <th></th>\n",
              "      <th></th>\n",
              "      <th></th>\n",
              "    </tr>\n",
              "  </thead>\n",
              "  <tbody>\n",
              "    <tr>\n",
              "      <th>1</th>\n",
              "      <td>1681.50</td>\n",
              "      <td>0.0</td>\n",
              "      <td>6141.681550</td>\n",
              "      <td>0.00</td>\n",
              "      <td>0.000000</td>\n",
              "      <td>0.000000</td>\n",
              "    </tr>\n",
              "    <tr>\n",
              "      <th>2</th>\n",
              "      <td>2476.10</td>\n",
              "      <td>0.0</td>\n",
              "      <td>15080.853226</td>\n",
              "      <td>12833.30</td>\n",
              "      <td>1547.846154</td>\n",
              "      <td>0.000000</td>\n",
              "    </tr>\n",
              "    <tr>\n",
              "      <th>3</th>\n",
              "      <td>3279.79</td>\n",
              "      <td>0.0</td>\n",
              "      <td>7192.357366</td>\n",
              "      <td>4191.13</td>\n",
              "      <td>1665.318681</td>\n",
              "      <td>39133.014118</td>\n",
              "    </tr>\n",
              "    <tr>\n",
              "      <th>4</th>\n",
              "      <td>2585.39</td>\n",
              "      <td>0.0</td>\n",
              "      <td>3574.155648</td>\n",
              "      <td>1806.90</td>\n",
              "      <td>1712.307692</td>\n",
              "      <td>39133.014118</td>\n",
              "    </tr>\n",
              "    <tr>\n",
              "      <th>5</th>\n",
              "      <td>1051.12</td>\n",
              "      <td>0.0</td>\n",
              "      <td>0.000000</td>\n",
              "      <td>800.00</td>\n",
              "      <td>1824.175824</td>\n",
              "      <td>5590.430588</td>\n",
              "    </tr>\n",
              "  </tbody>\n",
              "</table>\n",
              "</div>\n",
              "      <button class=\"colab-df-convert\" onclick=\"convertToInteractive('df-f1f8a695-aad3-4eab-ad54-15b687fe839a')\"\n",
              "              title=\"Convert this dataframe to an interactive table.\"\n",
              "              style=\"display:none;\">\n",
              "        \n",
              "  <svg xmlns=\"http://www.w3.org/2000/svg\" height=\"24px\"viewBox=\"0 0 24 24\"\n",
              "       width=\"24px\">\n",
              "    <path d=\"M0 0h24v24H0V0z\" fill=\"none\"/>\n",
              "    <path d=\"M18.56 5.44l.94 2.06.94-2.06 2.06-.94-2.06-.94-.94-2.06-.94 2.06-2.06.94zm-11 1L8.5 8.5l.94-2.06 2.06-.94-2.06-.94L8.5 2.5l-.94 2.06-2.06.94zm10 10l.94 2.06.94-2.06 2.06-.94-2.06-.94-.94-2.06-.94 2.06-2.06.94z\"/><path d=\"M17.41 7.96l-1.37-1.37c-.4-.4-.92-.59-1.43-.59-.52 0-1.04.2-1.43.59L10.3 9.45l-7.72 7.72c-.78.78-.78 2.05 0 2.83L4 21.41c.39.39.9.59 1.41.59.51 0 1.02-.2 1.41-.59l7.78-7.78 2.81-2.81c.8-.78.8-2.07 0-2.86zM5.41 20L4 18.59l7.72-7.72 1.47 1.35L5.41 20z\"/>\n",
              "  </svg>\n",
              "      </button>\n",
              "      \n",
              "  <style>\n",
              "    .colab-df-container {\n",
              "      display:flex;\n",
              "      flex-wrap:wrap;\n",
              "      gap: 12px;\n",
              "    }\n",
              "\n",
              "    .colab-df-convert {\n",
              "      background-color: #E8F0FE;\n",
              "      border: none;\n",
              "      border-radius: 50%;\n",
              "      cursor: pointer;\n",
              "      display: none;\n",
              "      fill: #1967D2;\n",
              "      height: 32px;\n",
              "      padding: 0 0 0 0;\n",
              "      width: 32px;\n",
              "    }\n",
              "\n",
              "    .colab-df-convert:hover {\n",
              "      background-color: #E2EBFA;\n",
              "      box-shadow: 0px 1px 2px rgba(60, 64, 67, 0.3), 0px 1px 3px 1px rgba(60, 64, 67, 0.15);\n",
              "      fill: #174EA6;\n",
              "    }\n",
              "\n",
              "    [theme=dark] .colab-df-convert {\n",
              "      background-color: #3B4455;\n",
              "      fill: #D2E3FC;\n",
              "    }\n",
              "\n",
              "    [theme=dark] .colab-df-convert:hover {\n",
              "      background-color: #434B5C;\n",
              "      box-shadow: 0px 1px 3px 1px rgba(0, 0, 0, 0.15);\n",
              "      filter: drop-shadow(0px 1px 2px rgba(0, 0, 0, 0.3));\n",
              "      fill: #FFFFFF;\n",
              "    }\n",
              "  </style>\n",
              "\n",
              "      <script>\n",
              "        const buttonEl =\n",
              "          document.querySelector('#df-f1f8a695-aad3-4eab-ad54-15b687fe839a button.colab-df-convert');\n",
              "        buttonEl.style.display =\n",
              "          google.colab.kernel.accessAllowed ? 'block' : 'none';\n",
              "\n",
              "        async function convertToInteractive(key) {\n",
              "          const element = document.querySelector('#df-f1f8a695-aad3-4eab-ad54-15b687fe839a');\n",
              "          const dataTable =\n",
              "            await google.colab.kernel.invokeFunction('convertToInteractive',\n",
              "                                                     [key], {});\n",
              "          if (!dataTable) return;\n",
              "\n",
              "          const docLinkHtml = 'Like what you see? Visit the ' +\n",
              "            '<a target=\"_blank\" href=https://colab.research.google.com/notebooks/data_table.ipynb>data table notebook</a>'\n",
              "            + ' to learn more about interactive tables.';\n",
              "          element.innerHTML = '';\n",
              "          dataTable['output_type'] = 'display_data';\n",
              "          await google.colab.output.renderOutput(dataTable, element);\n",
              "          const docLink = document.createElement('div');\n",
              "          docLink.innerHTML = docLinkHtml;\n",
              "          element.appendChild(docLink);\n",
              "        }\n",
              "      </script>\n",
              "    </div>\n",
              "  </div>\n",
              "  "
            ]
          },
          "metadata": {},
          "execution_count": 57
        }
      ]
    },
    {
      "cell_type": "code",
      "source": [
        "S.shape[1]"
      ],
      "metadata": {
        "id": "SPzoJHt5Flgj",
        "outputId": "cb19faad-7acb-4e7c-e04b-6973b33a55e2",
        "colab": {
          "base_uri": "https://localhost:8080/",
          "height": 166
        }
      },
      "execution_count": 1,
      "outputs": [
        {
          "output_type": "error",
          "ename": "NameError",
          "evalue": "ignored",
          "traceback": [
            "\u001b[0;31m---------------------------------------------------------------------------\u001b[0m",
            "\u001b[0;31mNameError\u001b[0m                                 Traceback (most recent call last)",
            "\u001b[0;32m<ipython-input-1-2d28639b578f>\u001b[0m in \u001b[0;36m<module>\u001b[0;34m\u001b[0m\n\u001b[0;32m----> 1\u001b[0;31m \u001b[0mS\u001b[0m\u001b[0;34m.\u001b[0m\u001b[0mshape\u001b[0m\u001b[0;34m[\u001b[0m\u001b[0;36m1\u001b[0m\u001b[0;34m]\u001b[0m\u001b[0;34m\u001b[0m\u001b[0;34m\u001b[0m\u001b[0m\n\u001b[0m",
            "\u001b[0;31mNameError\u001b[0m: name 'S' is not defined"
          ]
        }
      ]
    },
    {
      "cell_type": "code",
      "source": [
        "#Spends sum for constraints\n",
        "spends_sum = []\n",
        "for i in range(S.shape[1]):\n",
        "  spends_sum.append(sum(S[S.columns[i]]))\n",
        "  print(sum(S[S.columns[i]]))"
      ],
      "metadata": {
        "id": "3OlidgTVEp4e",
        "outputId": "05cba48c-bde0-445d-8452-36da56100215",
        "colab": {
          "base_uri": "https://localhost:8080/"
        }
      },
      "execution_count": 16,
      "outputs": [
        {
          "output_type": "stream",
          "name": "stdout",
          "text": [
            "11641.779999999986\n",
            "2713.2644939999964\n",
            "31989.04778999995\n",
            "20531.32999999\n",
            "20155.63736263736\n",
            "172021.8294117647\n"
          ]
        }
      ]
    },
    {
      "cell_type": "code",
      "source": [
        "spends_sum"
      ],
      "metadata": {
        "id": "OKSrKqnVF0V4",
        "outputId": "dd5341f8-7b34-4f91-af7d-faffe9fd9d12",
        "colab": {
          "base_uri": "https://localhost:8080/"
        }
      },
      "execution_count": 17,
      "outputs": [
        {
          "output_type": "execute_result",
          "data": {
            "text/plain": [
              "[11641.779999999986,\n",
              " 2713.2644939999964,\n",
              " 31989.04778999995,\n",
              " 20531.32999999,\n",
              " 20155.63736263736,\n",
              " 172021.8294117647]"
            ]
          },
          "metadata": {},
          "execution_count": 17
        }
      ]
    },
    {
      "cell_type": "code",
      "source": [
        "sum(S[S.columns[0]])"
      ],
      "metadata": {
        "id": "kYp7UZRgEBEo",
        "outputId": "795cdc06-88b2-4da4-d97e-90822c9cda91",
        "colab": {
          "base_uri": "https://localhost:8080/"
        }
      },
      "execution_count": 18,
      "outputs": [
        {
          "output_type": "execute_result",
          "data": {
            "text/plain": [
              "11641.779999999986"
            ]
          },
          "metadata": {},
          "execution_count": 18
        }
      ]
    },
    {
      "cell_type": "code",
      "source": [
        "sum(x[i] for i in range)"
      ],
      "metadata": {
        "id": "I8QbXsLgEMSu"
      },
      "execution_count": null,
      "outputs": []
    },
    {
      "cell_type": "code",
      "source": [
        "S.shape[1]"
      ],
      "metadata": {
        "id": "DTY6QN03JBLU",
        "outputId": "0ff1bcbb-a707-4624-857f-37b463a47d24",
        "colab": {
          "base_uri": "https://localhost:8080/"
        }
      },
      "execution_count": null,
      "outputs": [
        {
          "output_type": "execute_result",
          "data": {
            "text/plain": [
              "6"
            ]
          },
          "metadata": {},
          "execution_count": 71
        }
      ]
    },
    {
      "cell_type": "code",
      "source": [
        "x[1,2]()"
      ],
      "metadata": {
        "id": "jHnqfdWdJjSB",
        "outputId": "a74522b8-ffce-4d41-e527-0d5e0ea077fc",
        "colab": {
          "base_uri": "https://localhost:8080/"
        }
      },
      "execution_count": 25,
      "outputs": [
        {
          "output_type": "execute_result",
          "data": {
            "text/plain": [
              "2476.099999999997"
            ]
          },
          "metadata": {},
          "execution_count": 25
        }
      ]
    },
    {
      "cell_type": "code",
      "source": [
        "spends_sum"
      ],
      "metadata": {
        "id": "L8mfylD_ONJQ",
        "outputId": "9d2eab52-892c-46ac-9181-11122bb51ea2",
        "colab": {
          "base_uri": "https://localhost:8080/"
        }
      },
      "execution_count": 34,
      "outputs": [
        {
          "output_type": "execute_result",
          "data": {
            "text/plain": [
              "[11641.779999999986,\n",
              " 2713.2644939999964,\n",
              " 31989.04778999995,\n",
              " 20531.32999999,\n",
              " 20155.63736263736,\n",
              " 172021.8294117647]"
            ]
          },
          "metadata": {},
          "execution_count": 34
        }
      ]
    },
    {
      "cell_type": "code",
      "source": [
        "sum(x[1,k].value for k in range(1,S.shape[0]+1))"
      ],
      "metadata": {
        "id": "jTya3x53OLIR",
        "outputId": "65d56869-928a-4df4-dcaa-488c7128088e",
        "colab": {
          "base_uri": "https://localhost:8080/"
        }
      },
      "execution_count": 33,
      "outputs": [
        {
          "output_type": "execute_result",
          "data": {
            "text/plain": [
              "11641.779999999986"
            ]
          },
          "metadata": {},
          "execution_count": 33
        }
      ]
    },
    {
      "cell_type": "code",
      "source": [
        "for j in model.i:\n",
        "  print(j)"
      ],
      "metadata": {
        "id": "__4A9pnRX9G9",
        "outputId": "502e3576-226e-4b44-f002-8d6923de2db7",
        "colab": {
          "base_uri": "https://localhost:8080/"
        }
      },
      "execution_count": 49,
      "outputs": [
        {
          "output_type": "stream",
          "name": "stdout",
          "text": [
            "1\n",
            "2\n",
            "3\n",
            "4\n",
            "5\n",
            "6\n"
          ]
        }
      ]
    },
    {
      "cell_type": "code",
      "source": [
        "S.shape[0]\n",
        "# model.i---> (1,6)  S.shape[1]\n",
        "# model.j---> (1,13) S.shape[0]"
      ],
      "metadata": {
        "id": "bPoWCiCrYICR",
        "outputId": "41adb807-1e8a-4cfd-db49-b55864febbdc",
        "colab": {
          "base_uri": "https://localhost:8080/"
        }
      },
      "execution_count": 50,
      "outputs": [
        {
          "output_type": "execute_result",
          "data": {
            "text/plain": [
              "13"
            ]
          },
          "metadata": {},
          "execution_count": 50
        }
      ]
    },
    {
      "cell_type": "code",
      "source": [
        "sum([x[1,i].value for j in model.i]) >20 and sum([x[1,i].value for j in model.i]) <1600"
      ],
      "metadata": {
        "id": "IZPBvCpWbJIR",
        "outputId": "4affdbe0-084b-4997-94ee-1a027676d122",
        "colab": {
          "base_uri": "https://localhost:8080/"
        }
      },
      "execution_count": 68,
      "outputs": [
        {
          "output_type": "execute_result",
          "data": {
            "text/plain": [
              "True"
            ]
          },
          "metadata": {},
          "execution_count": 68
        }
      ]
    },
    {
      "cell_type": "code",
      "source": [
        "sum(x[1,k].data() for k in model.i)"
      ],
      "metadata": {
        "id": "aI5Ew1_wa6Xu",
        "outputId": "a6540d9c-65bc-4b61-f760-1f00dbfbf09e",
        "colab": {
          "base_uri": "https://localhost:8080/",
          "height": 218
        }
      },
      "execution_count": 59,
      "outputs": [
        {
          "output_type": "error",
          "ename": "AttributeError",
          "evalue": "ignored",
          "traceback": [
            "\u001b[0;31m---------------------------------------------------------------------------\u001b[0m",
            "\u001b[0;31mAttributeError\u001b[0m                            Traceback (most recent call last)",
            "\u001b[0;32m<ipython-input-59-0549028f0b20>\u001b[0m in \u001b[0;36m<module>\u001b[0;34m\u001b[0m\n\u001b[0;32m----> 1\u001b[0;31m \u001b[0msum\u001b[0m\u001b[0;34m(\u001b[0m\u001b[0mx\u001b[0m\u001b[0;34m[\u001b[0m\u001b[0;36m1\u001b[0m\u001b[0;34m,\u001b[0m\u001b[0mk\u001b[0m\u001b[0;34m]\u001b[0m\u001b[0;34m.\u001b[0m\u001b[0mdata\u001b[0m\u001b[0;34m(\u001b[0m\u001b[0;34m)\u001b[0m \u001b[0;32mfor\u001b[0m \u001b[0mk\u001b[0m \u001b[0;32min\u001b[0m \u001b[0mmodel\u001b[0m\u001b[0;34m.\u001b[0m\u001b[0mi\u001b[0m\u001b[0;34m)\u001b[0m\u001b[0;34m\u001b[0m\u001b[0;34m\u001b[0m\u001b[0m\n\u001b[0m",
            "\u001b[0;32m<ipython-input-59-0549028f0b20>\u001b[0m in \u001b[0;36m<genexpr>\u001b[0;34m(.0)\u001b[0m\n\u001b[0;32m----> 1\u001b[0;31m \u001b[0msum\u001b[0m\u001b[0;34m(\u001b[0m\u001b[0mx\u001b[0m\u001b[0;34m[\u001b[0m\u001b[0;36m1\u001b[0m\u001b[0;34m,\u001b[0m\u001b[0mk\u001b[0m\u001b[0;34m]\u001b[0m\u001b[0;34m.\u001b[0m\u001b[0mdata\u001b[0m\u001b[0;34m(\u001b[0m\u001b[0;34m)\u001b[0m \u001b[0;32mfor\u001b[0m \u001b[0mk\u001b[0m \u001b[0;32min\u001b[0m \u001b[0mmodel\u001b[0m\u001b[0;34m.\u001b[0m\u001b[0mi\u001b[0m\u001b[0;34m)\u001b[0m\u001b[0;34m\u001b[0m\u001b[0;34m\u001b[0m\u001b[0m\n\u001b[0m",
            "\u001b[0;31mAttributeError\u001b[0m: '_GeneralVarData' object has no attribute 'data'"
          ]
        }
      ]
    },
    {
      "cell_type": "code",
      "source": [],
      "metadata": {
        "id": "8kcjNHOReJgY"
      },
      "execution_count": 73,
      "outputs": []
    },
    {
      "cell_type": "code",
      "source": [
        "model.bounds=0.12\n",
        "bounds = model.bounds\n",
        "instance = model.create_instance()"
      ],
      "metadata": {
        "id": "7gQCcyFNeDnr"
      },
      "execution_count": 75,
      "outputs": []
    },
    {
      "cell_type": "code",
      "source": [
        "bounds.value"
      ],
      "metadata": {
        "id": "NcegBqT3gpUT",
        "outputId": "edae63f2-8b99-49ec-c620-bfbbd4128b2d",
        "colab": {
          "base_uri": "https://localhost:8080/"
        }
      },
      "execution_count": 78,
      "outputs": [
        {
          "output_type": "execute_result",
          "data": {
            "text/plain": [
              "0.12"
            ]
          },
          "metadata": {},
          "execution_count": 78
        }
      ]
    },
    {
      "cell_type": "code",
      "source": [
        "sum(x[1,i].value for i in model.i) <= (spends_sum[0]*bounds.value)"
      ],
      "metadata": {
        "id": "YzdGKIKWgpZa",
        "outputId": "d8c42b53-2475-46c3-b200-121f9f772203",
        "colab": {
          "base_uri": "https://localhost:8080/"
        }
      },
      "execution_count": 86,
      "outputs": [
        {
          "output_type": "execute_result",
          "data": {
            "text/plain": [
              "False"
            ]
          },
          "metadata": {},
          "execution_count": 86
        }
      ]
    },
    {
      "cell_type": "code",
      "source": [
        "model.bounds2 = pyo.Param(model.i,model.j,domain=pyo.NonNegativeReals,initialize=0.15,mutable=True)"
      ],
      "metadata": {
        "id": "LV-D6r0Yst4E"
      },
      "execution_count": 92,
      "outputs": []
    },
    {
      "cell_type": "code",
      "source": [
        "bounds2 = model.bounds2"
      ],
      "metadata": {
        "id": "Gwrwb0Rut8Ll"
      },
      "execution_count": 101,
      "outputs": []
    },
    {
      "cell_type": "code",
      "source": [
        "model.bounds2[1,1]=.10"
      ],
      "metadata": {
        "id": "JEQywQq4tkYV"
      },
      "execution_count": 97,
      "outputs": []
    },
    {
      "cell_type": "code",
      "source": [
        "model.bounds2[1,1].value"
      ],
      "metadata": {
        "id": "uCxvQyoEtt9Z",
        "outputId": "35cacf72-3ebe-4779-8a50-23541a9af5bb",
        "colab": {
          "base_uri": "https://localhost:8080/"
        }
      },
      "execution_count": 98,
      "outputs": [
        {
          "output_type": "execute_result",
          "data": {
            "text/plain": [
              "0.1"
            ]
          },
          "metadata": {},
          "execution_count": 98
        }
      ]
    },
    {
      "cell_type": "code",
      "source": [
        "sum(x[2,i].value for i in model.i) <= spends_sum[1]"
      ],
      "metadata": {
        "id": "-FQ7GrCj5HVF",
        "outputId": "5c523f22-c7a2-4cc9-8fe2-adc54823eb00",
        "colab": {
          "base_uri": "https://localhost:8080/"
        }
      },
      "execution_count": 128,
      "outputs": [
        {
          "output_type": "execute_result",
          "data": {
            "text/plain": [
              "True"
            ]
          },
          "metadata": {},
          "execution_count": 128
        }
      ]
    },
    {
      "cell_type": "code",
      "source": [
        "x.pprint()"
      ],
      "metadata": {
        "id": "D4r2U6Fp6Fza",
        "outputId": "988029c2-dec4-4bcb-e5f6-d15d674dfb51",
        "colab": {
          "base_uri": "https://localhost:8080/"
        }
      },
      "execution_count": 129,
      "outputs": [
        {
          "output_type": "stream",
          "name": "stdout",
          "text": [
            "x : Size=78, Index=x_index\n",
            "    Key     : Lower : Value             : Upper : Fixed : Stale : Domain\n",
            "     (1, 1) :     0 : 1681.499999999998 :  None : False : False : NonNegativeReals\n",
            "     (1, 2) :     0 : 2476.099999999997 :  None : False : False : NonNegativeReals\n",
            "     (1, 3) :     0 : 3279.789999999997 :  None : False : False : NonNegativeReals\n",
            "     (1, 4) :     0 : 2585.389999999995 :  None : False : False : NonNegativeReals\n",
            "     (1, 5) :     0 : 1051.119999999999 :  None : False : False : NonNegativeReals\n",
            "     (1, 6) :     0 : 263.5999999999997 :  None : False : False : NonNegativeReals\n",
            "     (1, 7) :     0 :            173.65 :  None : False : False : NonNegativeReals\n",
            "     (1, 8) :     0 :            130.63 :  None : False : False : NonNegativeReals\n",
            "     (1, 9) :     0 :               0.0 :  None : False : False : NonNegativeReals\n",
            "    (1, 10) :     0 :               0.0 :  None : False : False : NonNegativeReals\n",
            "    (1, 11) :     0 :               0.0 :  None : False : False : NonNegativeReals\n",
            "    (1, 12) :     0 :               0.0 :  None : False : False : NonNegativeReals\n",
            "    (1, 13) :     0 :               0.0 :  None : False : False : NonNegativeReals\n",
            "     (2, 1) :     0 :               0.0 :  None : False : False : NonNegativeReals\n",
            "     (2, 2) :     0 :               0.0 :  None : False : False : NonNegativeReals\n",
            "     (2, 3) :     0 :               0.0 :  None : False : False : NonNegativeReals\n",
            "     (2, 4) :     0 :               0.0 :  None : False : False : NonNegativeReals\n",
            "     (2, 5) :     0 :               0.0 :  None : False : False : NonNegativeReals\n",
            "     (2, 6) :     0 :               0.0 :  None : False : False : NonNegativeReals\n",
            "     (2, 7) :     0 :               0.0 :  None : False : False : NonNegativeReals\n",
            "     (2, 8) :     0 :               0.0 :  None : False : False : NonNegativeReals\n",
            "     (2, 9) :     0 :               0.0 :  None : False : False : NonNegativeReals\n",
            "    (2, 10) :     0 : 313.1799999999994 :  None : False : False : NonNegativeReals\n",
            "    (2, 11) :     0 : 725.8723519999994 :  None : False : False : NonNegativeReals\n",
            "    (2, 12) :     0 :  726.678665999999 :  None : False : False : NonNegativeReals\n",
            "    (2, 13) :     0 : 947.5334759999989 :  None : False : False : NonNegativeReals\n",
            "     (3, 1) :     0 : 6141.681549999989 :  None : False : False : NonNegativeReals\n",
            "     (3, 2) :     0 : 15080.85322599998 :  None : False : False : NonNegativeReals\n",
            "     (3, 3) :     0 : 7192.357365999989 :  None : False : False : NonNegativeReals\n",
            "     (3, 4) :     0 : 3574.155647999993 :  None : False : False : NonNegativeReals\n",
            "     (3, 5) :     0 :               0.0 :  None : False : False : NonNegativeReals\n",
            "     (3, 6) :     0 :               0.0 :  None : False : False : NonNegativeReals\n",
            "     (3, 7) :     0 :               0.0 :  None : False : False : NonNegativeReals\n",
            "     (3, 8) :     0 :               0.0 :  None : False : False : NonNegativeReals\n",
            "     (3, 9) :     0 :               0.0 :  None : False : False : NonNegativeReals\n",
            "    (3, 10) :     0 :               0.0 :  None : False : False : NonNegativeReals\n",
            "    (3, 11) :     0 :               0.0 :  None : False : False : NonNegativeReals\n",
            "    (3, 12) :     0 :               0.0 :  None : False : False : NonNegativeReals\n",
            "    (3, 13) :     0 :               0.0 :  None : False : False : NonNegativeReals\n",
            "     (4, 1) :     0 :               0.0 :  None : False : False : NonNegativeReals\n",
            "     (4, 2) :     0 :    12833.30000001 :  None : False : False : NonNegativeReals\n",
            "     (4, 3) :     0 :     4191.12999998 :  None : False : False : NonNegativeReals\n",
            "     (4, 4) :     0 :            1806.9 :  None : False : False : NonNegativeReals\n",
            "     (4, 5) :     0 :             800.0 :  None : False : False : NonNegativeReals\n",
            "     (4, 6) :     0 :               0.0 :  None : False : False : NonNegativeReals\n",
            "     (4, 7) :     0 :               0.0 :  None : False : False : NonNegativeReals\n",
            "     (4, 8) :     0 :             100.0 :  None : False : False : NonNegativeReals\n",
            "     (4, 9) :     0 :            162.53 :  None : False : False : NonNegativeReals\n",
            "    (4, 10) :     0 :            437.47 :  None : False : False : NonNegativeReals\n",
            "    (4, 11) :     0 :             200.0 :  None : False : False : NonNegativeReals\n",
            "    (4, 12) :     0 :               0.0 :  None : False : False : NonNegativeReals\n",
            "    (4, 13) :     0 :               0.0 :  None : False : False : NonNegativeReals\n",
            "     (5, 1) :     0 :               0.0 :  None : False : False : NonNegativeReals\n",
            "     (5, 2) :     0 : 1547.846153846154 :  None : False : False : NonNegativeReals\n",
            "     (5, 3) :     0 : 1665.318681318682 :  None : False : False : NonNegativeReals\n",
            "     (5, 4) :     0 : 1712.307692307692 :  None : False : False : NonNegativeReals\n",
            "     (5, 5) :     0 : 1824.175824175824 :  None : False : False : NonNegativeReals\n",
            "     (5, 6) :     0 : 1868.923076923077 :  None : False : False : NonNegativeReals\n",
            "     (5, 7) :     0 : 1868.923076923077 :  None : False : False : NonNegativeReals\n",
            "     (5, 8) :     0 : 1868.923076923077 :  None : False : False : NonNegativeReals\n",
            "     (5, 9) :     0 : 1868.923076923077 :  None : False : False : NonNegativeReals\n",
            "    (5, 10) :     0 : 1868.923076923077 :  None : False : False : NonNegativeReals\n",
            "    (5, 11) :     0 : 1868.923076923077 :  None : False : False : NonNegativeReals\n",
            "    (5, 12) :     0 : 1644.263736263736 :  None : False : False : NonNegativeReals\n",
            "    (5, 13) :     0 : 548.1868131868132 :  None : False : False : NonNegativeReals\n",
            "     (6, 1) :     0 :               0.0 :  None : False : False : NonNegativeReals\n",
            "     (6, 2) :     0 :               0.0 :  None : False : False : NonNegativeReals\n",
            "     (6, 3) :     0 : 39133.01411764706 :  None : False : False : NonNegativeReals\n",
            "     (6, 4) :     0 : 39133.01411764706 :  None : False : False : NonNegativeReals\n",
            "     (6, 5) :     0 : 5590.430588235294 :  None : False : False : NonNegativeReals\n",
            "     (6, 6) :     0 :               0.0 :  None : False : False : NonNegativeReals\n",
            "     (6, 7) :     0 : 6297.526470588235 :  None : False : False : NonNegativeReals\n",
            "     (6, 8) :     0 : 44082.68529411765 :  None : False : False : NonNegativeReals\n",
            "     (6, 9) :     0 : 37785.15882352941 :  None : False : False : NonNegativeReals\n",
            "    (6, 10) :     0 :               0.0 :  None : False : False : NonNegativeReals\n",
            "    (6, 11) :     0 :               0.0 :  None : False : False : NonNegativeReals\n",
            "    (6, 12) :     0 :               0.0 :  None : False : False : NonNegativeReals\n",
            "    (6, 13) :     0 :               0.0 :  None : False : False : NonNegativeReals\n"
          ]
        }
      ]
    },
    {
      "cell_type": "code",
      "source": [
        "spends_sum"
      ],
      "metadata": {
        "id": "op54KNVn7Rnx",
        "outputId": "ce421965-ea6e-4ecb-ec96-4afc43b0e8fc",
        "colab": {
          "base_uri": "https://localhost:8080/"
        }
      },
      "execution_count": 130,
      "outputs": [
        {
          "output_type": "execute_result",
          "data": {
            "text/plain": [
              "[11641.779999999986,\n",
              " 2713.2644939999964,\n",
              " 31989.04778999995,\n",
              " 20531.32999999,\n",
              " 20155.63736263736,\n",
              " 172021.8294117647]"
            ]
          },
          "metadata": {},
          "execution_count": 130
        }
      ]
    },
    {
      "cell_type": "code",
      "source": [
        "spends_sum[1]"
      ],
      "metadata": {
        "id": "W3FZ5MQC7Vjb",
        "outputId": "a6cd9998-0f09-41e1-eed6-7c80c1615c16",
        "colab": {
          "base_uri": "https://localhost:8080/"
        }
      },
      "execution_count": 131,
      "outputs": [
        {
          "output_type": "execute_result",
          "data": {
            "text/plain": [
              "2713.2644939999964"
            ]
          },
          "metadata": {},
          "execution_count": 131
        }
      ]
    },
    {
      "cell_type": "code",
      "source": [
        "sum(x[2,i].value for i in model.i) <= spends_sum[1]"
      ],
      "metadata": {
        "id": "M47-090h8B2O",
        "outputId": "3fa3fa55-7bb9-4254-c841-6513efee1168",
        "colab": {
          "base_uri": "https://localhost:8080/"
        }
      },
      "execution_count": 132,
      "outputs": [
        {
          "output_type": "execute_result",
          "data": {
            "text/plain": [
              "True"
            ]
          },
          "metadata": {},
          "execution_count": 132
        }
      ]
    },
    {
      "cell_type": "code",
      "source": [
        "model.Const1 = pyo.Constraint(expr = (sum(x[2,i].value for i in model.i) <= spends_sum[1]))"
      ],
      "metadata": {
        "id": "FBkcTZDxt6sU",
        "outputId": "7141ea71-37a1-4b0b-b75e-eb8636dcc92c",
        "colab": {
          "base_uri": "https://localhost:8080/",
          "height": 609
        }
      },
      "execution_count": 133,
      "outputs": [
        {
          "output_type": "stream",
          "name": "stderr",
          "text": [
            "WARNING:pyomo.core:Implicitly replacing the Component attribute Const1 (type=<class 'pyomo.core.base.constraint.ScalarConstraint'>) on block unknown with a new Component (type=<class 'pyomo.core.base.constraint.AbstractScalarConstraint'>).\n",
            "This is usually indicative of a modelling error.\n",
            "To avoid this warning, use block.del_component() and block.add_component().\n",
            "ERROR:pyomo.core:Rule failed when generating expression for Constraint Const1 with index None:\n",
            "ValueError: Constraint 'Const1' does not have a proper value. Found 'True'\n",
            "Expecting a tuple or equation. Examples:\n",
            "   sum(model.costs) == model.income\n",
            "   (0, model.price[item], 50)\n",
            "ERROR:pyomo.core:Constructing component 'Const1' from data=None failed:\n",
            "ValueError: Constraint 'Const1' does not have a proper value. Found 'True'\n",
            "Expecting a tuple or equation. Examples:\n",
            "   sum(model.costs) == model.income\n",
            "   (0, model.price[item], 50)\n"
          ]
        },
        {
          "output_type": "error",
          "ename": "ValueError",
          "evalue": "ignored",
          "traceback": [
            "\u001b[0;31m---------------------------------------------------------------------------\u001b[0m",
            "\u001b[0;31mValueError\u001b[0m                                Traceback (most recent call last)",
            "\u001b[0;32m<ipython-input-133-95001da7fbf8>\u001b[0m in \u001b[0;36m<module>\u001b[0;34m\u001b[0m\n\u001b[0;32m----> 1\u001b[0;31m \u001b[0mmodel\u001b[0m\u001b[0;34m.\u001b[0m\u001b[0mConst1\u001b[0m \u001b[0;34m=\u001b[0m \u001b[0mpyo\u001b[0m\u001b[0;34m.\u001b[0m\u001b[0mConstraint\u001b[0m\u001b[0;34m(\u001b[0m\u001b[0mexpr\u001b[0m \u001b[0;34m=\u001b[0m \u001b[0;34m(\u001b[0m\u001b[0msum\u001b[0m\u001b[0;34m(\u001b[0m\u001b[0mx\u001b[0m\u001b[0;34m[\u001b[0m\u001b[0;36m2\u001b[0m\u001b[0;34m,\u001b[0m\u001b[0mi\u001b[0m\u001b[0;34m]\u001b[0m\u001b[0;34m.\u001b[0m\u001b[0mvalue\u001b[0m \u001b[0;32mfor\u001b[0m \u001b[0mi\u001b[0m \u001b[0;32min\u001b[0m \u001b[0mmodel\u001b[0m\u001b[0;34m.\u001b[0m\u001b[0mi\u001b[0m\u001b[0;34m)\u001b[0m \u001b[0;34m<=\u001b[0m \u001b[0mspends_sum\u001b[0m\u001b[0;34m[\u001b[0m\u001b[0;36m1\u001b[0m\u001b[0;34m]\u001b[0m\u001b[0;34m)\u001b[0m\u001b[0;34m)\u001b[0m\u001b[0;34m\u001b[0m\u001b[0;34m\u001b[0m\u001b[0m\n\u001b[0m",
            "\u001b[0;32m/usr/local/lib/python3.7/dist-packages/pyomo/core/base/block.py\u001b[0m in \u001b[0;36m__setattr__\u001b[0;34m(self, name, val)\u001b[0m\n\u001b[1;32m    667\u001b[0m                        type(val)))\n\u001b[1;32m    668\u001b[0m                 \u001b[0mself\u001b[0m\u001b[0;34m.\u001b[0m\u001b[0mdel_component\u001b[0m\u001b[0;34m(\u001b[0m\u001b[0mname\u001b[0m\u001b[0;34m)\u001b[0m\u001b[0;34m\u001b[0m\u001b[0;34m\u001b[0m\u001b[0m\n\u001b[0;32m--> 669\u001b[0;31m                 \u001b[0mself\u001b[0m\u001b[0;34m.\u001b[0m\u001b[0madd_component\u001b[0m\u001b[0;34m(\u001b[0m\u001b[0mname\u001b[0m\u001b[0;34m,\u001b[0m \u001b[0mval\u001b[0m\u001b[0;34m)\u001b[0m\u001b[0;34m\u001b[0m\u001b[0;34m\u001b[0m\u001b[0m\n\u001b[0m\u001b[1;32m    670\u001b[0m             \u001b[0;32melse\u001b[0m\u001b[0;34m:\u001b[0m\u001b[0;34m\u001b[0m\u001b[0;34m\u001b[0m\u001b[0m\n\u001b[1;32m    671\u001b[0m                 \u001b[0;31m#\u001b[0m\u001b[0;34m\u001b[0m\u001b[0;34m\u001b[0m\u001b[0;34m\u001b[0m\u001b[0m\n",
            "\u001b[0;32m/usr/local/lib/python3.7/dist-packages/pyomo/core/base/block.py\u001b[0m in \u001b[0;36madd_component\u001b[0;34m(self, name, val)\u001b[0m\n\u001b[1;32m   1184\u001b[0m                              _blockName, str(data))\n\u001b[1;32m   1185\u001b[0m             \u001b[0;32mtry\u001b[0m\u001b[0;34m:\u001b[0m\u001b[0;34m\u001b[0m\u001b[0;34m\u001b[0m\u001b[0m\n\u001b[0;32m-> 1186\u001b[0;31m                 \u001b[0mval\u001b[0m\u001b[0;34m.\u001b[0m\u001b[0mconstruct\u001b[0m\u001b[0;34m(\u001b[0m\u001b[0mdata\u001b[0m\u001b[0;34m)\u001b[0m\u001b[0;34m\u001b[0m\u001b[0;34m\u001b[0m\u001b[0m\n\u001b[0m\u001b[1;32m   1187\u001b[0m             \u001b[0;32mexcept\u001b[0m\u001b[0;34m:\u001b[0m\u001b[0;34m\u001b[0m\u001b[0;34m\u001b[0m\u001b[0m\n\u001b[1;32m   1188\u001b[0m                 \u001b[0merr\u001b[0m \u001b[0;34m=\u001b[0m \u001b[0msys\u001b[0m\u001b[0;34m.\u001b[0m\u001b[0mexc_info\u001b[0m\u001b[0;34m(\u001b[0m\u001b[0;34m)\u001b[0m\u001b[0;34m[\u001b[0m\u001b[0;36m1\u001b[0m\u001b[0;34m]\u001b[0m\u001b[0;34m\u001b[0m\u001b[0;34m\u001b[0m\u001b[0m\n",
            "\u001b[0;32m/usr/local/lib/python3.7/dist-packages/pyomo/core/base/disable_methods.py\u001b[0m in \u001b[0;36mconstruct\u001b[0;34m(self, data)\u001b[0m\n\u001b[1;32m    114\u001b[0m                 \u001b[0mself\u001b[0m\u001b[0;34m.\u001b[0m\u001b[0m_name\u001b[0m \u001b[0;34m=\u001b[0m \u001b[0mbase\u001b[0m\u001b[0;34m.\u001b[0m\u001b[0m__name__\u001b[0m\u001b[0;34m\u001b[0m\u001b[0;34m\u001b[0m\u001b[0m\n\u001b[1;32m    115\u001b[0m             \u001b[0mself\u001b[0m\u001b[0;34m.\u001b[0m\u001b[0m__class__\u001b[0m \u001b[0;34m=\u001b[0m \u001b[0mbase\u001b[0m\u001b[0;34m\u001b[0m\u001b[0;34m\u001b[0m\u001b[0m\n\u001b[0;32m--> 116\u001b[0;31m             \u001b[0;32mreturn\u001b[0m \u001b[0mbase\u001b[0m\u001b[0;34m.\u001b[0m\u001b[0mconstruct\u001b[0m\u001b[0;34m(\u001b[0m\u001b[0mself\u001b[0m\u001b[0;34m,\u001b[0m \u001b[0mdata\u001b[0m\u001b[0;34m)\u001b[0m\u001b[0;34m\u001b[0m\u001b[0;34m\u001b[0m\u001b[0m\n\u001b[0m\u001b[1;32m    117\u001b[0m         \u001b[0mconstruct\u001b[0m\u001b[0;34m.\u001b[0m\u001b[0m__doc__\u001b[0m \u001b[0;34m=\u001b[0m \u001b[0mbase\u001b[0m\u001b[0;34m.\u001b[0m\u001b[0mconstruct\u001b[0m\u001b[0;34m.\u001b[0m\u001b[0m__doc__\u001b[0m\u001b[0;34m\u001b[0m\u001b[0;34m\u001b[0m\u001b[0m\n\u001b[1;32m    118\u001b[0m         \u001b[0mcls\u001b[0m\u001b[0;34m.\u001b[0m\u001b[0mconstruct\u001b[0m \u001b[0;34m=\u001b[0m \u001b[0mconstruct\u001b[0m\u001b[0;34m\u001b[0m\u001b[0;34m\u001b[0m\u001b[0m\n",
            "\u001b[0;32m/usr/local/lib/python3.7/dist-packages/pyomo/core/base/constraint.py\u001b[0m in \u001b[0;36mconstruct\u001b[0;34m(self, data)\u001b[0m\n\u001b[1;32m    770\u001b[0m                 \u001b[0;31m# Bypass the index validation and create the member directly\u001b[0m\u001b[0;34m\u001b[0m\u001b[0;34m\u001b[0m\u001b[0;34m\u001b[0m\u001b[0m\n\u001b[1;32m    771\u001b[0m                 \u001b[0;32mfor\u001b[0m \u001b[0mindex\u001b[0m \u001b[0;32min\u001b[0m \u001b[0mself\u001b[0m\u001b[0;34m.\u001b[0m\u001b[0mindex_set\u001b[0m\u001b[0;34m(\u001b[0m\u001b[0;34m)\u001b[0m\u001b[0;34m:\u001b[0m\u001b[0;34m\u001b[0m\u001b[0;34m\u001b[0m\u001b[0m\n\u001b[0;32m--> 772\u001b[0;31m                     \u001b[0mself\u001b[0m\u001b[0;34m.\u001b[0m\u001b[0m_setitem_when_not_present\u001b[0m\u001b[0;34m(\u001b[0m\u001b[0mindex\u001b[0m\u001b[0;34m,\u001b[0m \u001b[0mrule\u001b[0m\u001b[0;34m(\u001b[0m\u001b[0mblock\u001b[0m\u001b[0;34m,\u001b[0m \u001b[0mindex\u001b[0m\u001b[0;34m)\u001b[0m\u001b[0;34m)\u001b[0m\u001b[0;34m\u001b[0m\u001b[0;34m\u001b[0m\u001b[0m\n\u001b[0m\u001b[1;32m    773\u001b[0m         \u001b[0;32mexcept\u001b[0m \u001b[0mException\u001b[0m\u001b[0;34m:\u001b[0m\u001b[0;34m\u001b[0m\u001b[0;34m\u001b[0m\u001b[0m\n\u001b[1;32m    774\u001b[0m             \u001b[0merr\u001b[0m \u001b[0;34m=\u001b[0m \u001b[0msys\u001b[0m\u001b[0;34m.\u001b[0m\u001b[0mexc_info\u001b[0m\u001b[0;34m(\u001b[0m\u001b[0;34m)\u001b[0m\u001b[0;34m[\u001b[0m\u001b[0;36m1\u001b[0m\u001b[0;34m]\u001b[0m\u001b[0;34m\u001b[0m\u001b[0;34m\u001b[0m\u001b[0m\n",
            "\u001b[0;32m/usr/local/lib/python3.7/dist-packages/pyomo/core/base/indexed_component.py\u001b[0m in \u001b[0;36m_setitem_when_not_present\u001b[0;34m(self, index, value)\u001b[0m\n\u001b[1;32m   1017\u001b[0m         \u001b[0;32mtry\u001b[0m\u001b[0;34m:\u001b[0m\u001b[0;34m\u001b[0m\u001b[0;34m\u001b[0m\u001b[0m\n\u001b[1;32m   1018\u001b[0m             \u001b[0;32mif\u001b[0m \u001b[0mvalue\u001b[0m \u001b[0;32mis\u001b[0m \u001b[0;32mnot\u001b[0m \u001b[0m_NotSpecified\u001b[0m\u001b[0;34m:\u001b[0m\u001b[0;34m\u001b[0m\u001b[0;34m\u001b[0m\u001b[0m\n\u001b[0;32m-> 1019\u001b[0;31m                 \u001b[0mobj\u001b[0m\u001b[0;34m.\u001b[0m\u001b[0mset_value\u001b[0m\u001b[0;34m(\u001b[0m\u001b[0mvalue\u001b[0m\u001b[0;34m)\u001b[0m\u001b[0;34m\u001b[0m\u001b[0;34m\u001b[0m\u001b[0m\n\u001b[0m\u001b[1;32m   1020\u001b[0m         \u001b[0;32mexcept\u001b[0m\u001b[0;34m:\u001b[0m\u001b[0;34m\u001b[0m\u001b[0;34m\u001b[0m\u001b[0m\n\u001b[1;32m   1021\u001b[0m             \u001b[0mself\u001b[0m\u001b[0;34m.\u001b[0m\u001b[0m_data\u001b[0m\u001b[0;34m.\u001b[0m\u001b[0mpop\u001b[0m\u001b[0;34m(\u001b[0m\u001b[0mindex\u001b[0m\u001b[0;34m,\u001b[0m \u001b[0;32mNone\u001b[0m\u001b[0;34m)\u001b[0m\u001b[0;34m\u001b[0m\u001b[0;34m\u001b[0m\u001b[0m\n",
            "\u001b[0;32m/usr/local/lib/python3.7/dist-packages/pyomo/core/base/constraint.py\u001b[0m in \u001b[0;36mset_value\u001b[0;34m(self, expr)\u001b[0m\n\u001b[1;32m    940\u001b[0m         \u001b[0;32mif\u001b[0m \u001b[0;32mnot\u001b[0m \u001b[0mself\u001b[0m\u001b[0;34m.\u001b[0m\u001b[0m_data\u001b[0m\u001b[0;34m:\u001b[0m\u001b[0;34m\u001b[0m\u001b[0;34m\u001b[0m\u001b[0m\n\u001b[1;32m    941\u001b[0m             \u001b[0mself\u001b[0m\u001b[0;34m.\u001b[0m\u001b[0m_data\u001b[0m\u001b[0;34m[\u001b[0m\u001b[0;32mNone\u001b[0m\u001b[0;34m]\u001b[0m \u001b[0;34m=\u001b[0m \u001b[0mself\u001b[0m\u001b[0;34m\u001b[0m\u001b[0;34m\u001b[0m\u001b[0m\n\u001b[0;32m--> 942\u001b[0;31m         \u001b[0;32mreturn\u001b[0m \u001b[0msuper\u001b[0m\u001b[0;34m(\u001b[0m\u001b[0mScalarConstraint\u001b[0m\u001b[0;34m,\u001b[0m \u001b[0mself\u001b[0m\u001b[0;34m)\u001b[0m\u001b[0;34m.\u001b[0m\u001b[0mset_value\u001b[0m\u001b[0;34m(\u001b[0m\u001b[0mexpr\u001b[0m\u001b[0;34m)\u001b[0m\u001b[0;34m\u001b[0m\u001b[0;34m\u001b[0m\u001b[0m\n\u001b[0m\u001b[1;32m    943\u001b[0m \u001b[0;34m\u001b[0m\u001b[0m\n\u001b[1;32m    944\u001b[0m     \u001b[0;31m#\u001b[0m\u001b[0;34m\u001b[0m\u001b[0;34m\u001b[0m\u001b[0;34m\u001b[0m\u001b[0m\n",
            "\u001b[0;32m/usr/local/lib/python3.7/dist-packages/pyomo/core/base/constraint.py\u001b[0m in \u001b[0;36mset_value\u001b[0;34m(self, expr)\u001b[0m\n\u001b[1;32m    555\u001b[0m                    \u001b[0;34m\"\\n   (0, model.price[item], 50)\"\u001b[0m\u001b[0;34m\u001b[0m\u001b[0;34m\u001b[0m\u001b[0m\n\u001b[1;32m    556\u001b[0m                    % (self.name, str(expr)))\n\u001b[0;32m--> 557\u001b[0;31m             \u001b[0;32mraise\u001b[0m \u001b[0mValueError\u001b[0m\u001b[0;34m(\u001b[0m\u001b[0mmsg\u001b[0m\u001b[0;34m)\u001b[0m\u001b[0;34m\u001b[0m\u001b[0;34m\u001b[0m\u001b[0m\n\u001b[0m\u001b[1;32m    558\u001b[0m         \u001b[0;31m#\u001b[0m\u001b[0;34m\u001b[0m\u001b[0;34m\u001b[0m\u001b[0;34m\u001b[0m\u001b[0m\n\u001b[1;32m    559\u001b[0m         \u001b[0;31m# Normalize the incoming expressions, if we can\u001b[0m\u001b[0;34m\u001b[0m\u001b[0;34m\u001b[0m\u001b[0;34m\u001b[0m\u001b[0m\n",
            "\u001b[0;31mValueError\u001b[0m: Constraint 'Const1' does not have a proper value. Found 'True'\nExpecting a tuple or equation. Examples:\n   sum(model.costs) == model.income\n   (0, model.price[item], 50)"
          ]
        }
      ]
    },
    {
      "cell_type": "code",
      "source": [],
      "metadata": {
        "id": "juwDNsBs7UGH"
      },
      "execution_count": null,
      "outputs": []
    },
    {
      "cell_type": "code",
      "source": [
        "model.bounds = .12"
      ],
      "metadata": {
        "id": "HFhsTKdTtPHW",
        "outputId": "b1ef52e2-3864-45dd-8a82-094c7ef7c715",
        "colab": {
          "base_uri": "https://localhost:8080/",
          "height": 328
        }
      },
      "execution_count": 90,
      "outputs": [
        {
          "output_type": "error",
          "ename": "ValueError",
          "evalue": "ignored",
          "traceback": [
            "\u001b[0;31m---------------------------------------------------------------------------\u001b[0m",
            "\u001b[0;31mValueError\u001b[0m                                Traceback (most recent call last)",
            "\u001b[0;32m<ipython-input-90-b3a247741c82>\u001b[0m in \u001b[0;36m<module>\u001b[0;34m\u001b[0m\n\u001b[0;32m----> 1\u001b[0;31m \u001b[0mmodel\u001b[0m\u001b[0;34m.\u001b[0m\u001b[0mbounds\u001b[0m \u001b[0;34m=\u001b[0m \u001b[0;36m.12\u001b[0m\u001b[0;34m\u001b[0m\u001b[0;34m\u001b[0m\u001b[0m\n\u001b[0m",
            "\u001b[0;32m/usr/local/lib/python3.7/dist-packages/pyomo/core/base/block.py\u001b[0m in \u001b[0;36m__setattr__\u001b[0;34m(self, name, val)\u001b[0m\n\u001b[1;32m    691\u001b[0m                 \u001b[0;31m# Call the set_value method.\u001b[0m\u001b[0;34m\u001b[0m\u001b[0;34m\u001b[0m\u001b[0;34m\u001b[0m\u001b[0m\n\u001b[1;32m    692\u001b[0m                 \u001b[0;31m#\u001b[0m\u001b[0;34m\u001b[0m\u001b[0;34m\u001b[0m\u001b[0;34m\u001b[0m\u001b[0m\n\u001b[0;32m--> 693\u001b[0;31m                 \u001b[0m_set_value\u001b[0m\u001b[0;34m(\u001b[0m\u001b[0mval\u001b[0m\u001b[0;34m)\u001b[0m\u001b[0;34m\u001b[0m\u001b[0;34m\u001b[0m\u001b[0m\n\u001b[0m\u001b[1;32m    694\u001b[0m         \u001b[0;31m#\u001b[0m\u001b[0;34m\u001b[0m\u001b[0;34m\u001b[0m\u001b[0;34m\u001b[0m\u001b[0m\n\u001b[1;32m    695\u001b[0m         \u001b[0;31m# Case 3. Handle setting non-Component attributes\u001b[0m\u001b[0;34m\u001b[0m\u001b[0;34m\u001b[0m\u001b[0;34m\u001b[0m\u001b[0m\n",
            "\u001b[0;32m/usr/local/lib/python3.7/dist-packages/pyomo/core/base/indexed_component.py\u001b[0m in \u001b[0;36mset_value\u001b[0;34m(self, value)\u001b[0m\n\u001b[1;32m   1030\u001b[0m                 \u001b[0;34m\"without specifying an index value.\\n\"\u001b[0m\u001b[0;34m\u001b[0m\u001b[0;34m\u001b[0m\u001b[0m\n\u001b[1;32m   1031\u001b[0m                 \u001b[0;34m\"\\tFor example, model.%s[i] = value\"\u001b[0m\u001b[0;34m\u001b[0m\u001b[0;34m\u001b[0m\u001b[0m\n\u001b[0;32m-> 1032\u001b[0;31m                 % (self.name, self.name))\n\u001b[0m\u001b[1;32m   1033\u001b[0m         \u001b[0;32melse\u001b[0m\u001b[0;34m:\u001b[0m\u001b[0;34m\u001b[0m\u001b[0;34m\u001b[0m\u001b[0m\n\u001b[1;32m   1034\u001b[0m             raise DeveloperError(\n",
            "\u001b[0;31mValueError\u001b[0m: Cannot set the value for the indexed component 'bounds' without specifying an index value.\n\tFor example, model.bounds[i] = value"
          ]
        }
      ]
    },
    {
      "cell_type": "code",
      "source": [
        "## Defining bound for optimization\n",
        "\n",
        "model.bounds =Param(mutable=True, initialize=0.1) "
      ],
      "metadata": {
        "id": "xtHvJF6yuKe1",
        "outputId": "7cfc917f-0ae4-41f7-bc1d-888510e428ed",
        "colab": {
          "base_uri": "https://localhost:8080/"
        }
      },
      "execution_count": 104,
      "outputs": [
        {
          "output_type": "execute_result",
          "data": {
            "text/plain": [
              "1164.1779999999987"
            ]
          },
          "metadata": {},
          "execution_count": 104
        }
      ]
    },
    {
      "cell_type": "code",
      "source": [
        "user = 2"
      ],
      "metadata": {
        "id": "y2ZW4XGNw3ac"
      },
      "execution_count": 105,
      "outputs": []
    },
    {
      "cell_type": "code",
      "source": [
        "sums1 = spends_sum[0]"
      ],
      "metadata": {
        "id": "tcCr3A1KxXqC"
      },
      "execution_count": 109,
      "outputs": []
    },
    {
      "cell_type": "code",
      "source": [
        "sums1"
      ],
      "metadata": {
        "id": "eHUGoJrfxemV",
        "outputId": "2047c497-6947-4373-e8a2-66c93e01fd8c",
        "colab": {
          "base_uri": "https://localhost:8080/"
        }
      },
      "execution_count": 110,
      "outputs": [
        {
          "output_type": "execute_result",
          "data": {
            "text/plain": [
              "11641.779999999986"
            ]
          },
          "metadata": {},
          "execution_count": 110
        }
      ]
    },
    {
      "cell_type": "code",
      "source": [
        "sum(x[1,i].value for i in model.i) <= sums1"
      ],
      "metadata": {
        "id": "_OSX1_ZCxrmq",
        "outputId": "4e2b9f25-78c2-4743-d0ff-1ac1c788c363",
        "colab": {
          "base_uri": "https://localhost:8080/"
        }
      },
      "execution_count": 113,
      "outputs": [
        {
          "output_type": "execute_result",
          "data": {
            "text/plain": [
              "True"
            ]
          },
          "metadata": {},
          "execution_count": 113
        }
      ]
    },
    {
      "cell_type": "code",
      "source": [
        "sum(x[1,i].value for i in model.i)"
      ],
      "metadata": {
        "id": "3cySgrRNxoJb",
        "outputId": "5e9c4c82-220a-4885-802c-7a4b5b128beb",
        "colab": {
          "base_uri": "https://localhost:8080/"
        }
      },
      "execution_count": 112,
      "outputs": [
        {
          "output_type": "execute_result",
          "data": {
            "text/plain": [
              "11337.499999999987"
            ]
          },
          "metadata": {},
          "execution_count": 112
        }
      ]
    },
    {
      "cell_type": "code",
      "source": [
        "\n",
        "def Constraint2(model,j):\n",
        "  return sum(x[2,i].value for i in model.i) <= spends_sum[1]\n",
        "model.Const1 = pyo.Constraint(model.i,rule = Constraint2)"
      ],
      "metadata": {
        "id": "x351K049zDCs",
        "outputId": "06c71cb7-1855-4548-a762-a3ff22582d5a",
        "colab": {
          "base_uri": "https://localhost:8080/",
          "height": 644
        }
      },
      "execution_count": 121,
      "outputs": [
        {
          "output_type": "stream",
          "name": "stderr",
          "text": [
            "WARNING:pyomo.core:Implicitly replacing the Component attribute Const1 (type=<class 'pyomo.core.base.constraint.IndexedConstraint'>) on block unknown with a new Component (type=<class 'pyomo.core.base.constraint.IndexedConstraint'>).\n",
            "This is usually indicative of a modelling error.\n",
            "To avoid this warning, use block.del_component() and block.add_component().\n",
            "ERROR:pyomo.core:Rule failed when generating expression for Constraint Const1 with index 1:\n",
            "ValueError: Constraint 'Const1[1]' does not have a proper value. Found 'True'\n",
            "Expecting a tuple or equation. Examples:\n",
            "   sum(model.costs) == model.income\n",
            "   (0, model.price[item], 50)\n",
            "ERROR:pyomo.core:Constructing component 'Const1' from data=None failed:\n",
            "ValueError: Constraint 'Const1[1]' does not have a proper value. Found 'True'\n",
            "Expecting a tuple or equation. Examples:\n",
            "   sum(model.costs) == model.income\n",
            "   (0, model.price[item], 50)\n"
          ]
        },
        {
          "output_type": "error",
          "ename": "ValueError",
          "evalue": "ignored",
          "traceback": [
            "\u001b[0;31m---------------------------------------------------------------------------\u001b[0m",
            "\u001b[0;31mValueError\u001b[0m                                Traceback (most recent call last)",
            "\u001b[0;32m<ipython-input-121-861b40b3f91c>\u001b[0m in \u001b[0;36m<module>\u001b[0;34m\u001b[0m\n\u001b[1;32m      1\u001b[0m \u001b[0;32mdef\u001b[0m \u001b[0mConstraint2\u001b[0m\u001b[0;34m(\u001b[0m\u001b[0mmodel\u001b[0m\u001b[0;34m,\u001b[0m\u001b[0mj\u001b[0m\u001b[0;34m)\u001b[0m\u001b[0;34m:\u001b[0m\u001b[0;34m\u001b[0m\u001b[0;34m\u001b[0m\u001b[0m\n\u001b[1;32m      2\u001b[0m   \u001b[0;32mreturn\u001b[0m \u001b[0msum\u001b[0m\u001b[0;34m(\u001b[0m\u001b[0mx\u001b[0m\u001b[0;34m[\u001b[0m\u001b[0;36m2\u001b[0m\u001b[0;34m,\u001b[0m\u001b[0mi\u001b[0m\u001b[0;34m]\u001b[0m\u001b[0;34m.\u001b[0m\u001b[0mvalue\u001b[0m \u001b[0;32mfor\u001b[0m \u001b[0mi\u001b[0m \u001b[0;32min\u001b[0m \u001b[0mmodel\u001b[0m\u001b[0;34m.\u001b[0m\u001b[0mi\u001b[0m\u001b[0;34m)\u001b[0m \u001b[0;34m<=\u001b[0m \u001b[0mspends_sum\u001b[0m\u001b[0;34m[\u001b[0m\u001b[0;36m1\u001b[0m\u001b[0;34m]\u001b[0m\u001b[0;34m\u001b[0m\u001b[0;34m\u001b[0m\u001b[0m\n\u001b[0;32m----> 3\u001b[0;31m \u001b[0mmodel\u001b[0m\u001b[0;34m.\u001b[0m\u001b[0mConst1\u001b[0m \u001b[0;34m=\u001b[0m \u001b[0mpyo\u001b[0m\u001b[0;34m.\u001b[0m\u001b[0mConstraint\u001b[0m\u001b[0;34m(\u001b[0m\u001b[0mmodel\u001b[0m\u001b[0;34m.\u001b[0m\u001b[0mi\u001b[0m\u001b[0;34m,\u001b[0m\u001b[0mrule\u001b[0m \u001b[0;34m=\u001b[0m \u001b[0mConstraint2\u001b[0m\u001b[0;34m)\u001b[0m\u001b[0;34m\u001b[0m\u001b[0;34m\u001b[0m\u001b[0m\n\u001b[0m",
            "\u001b[0;32m/usr/local/lib/python3.7/dist-packages/pyomo/core/base/block.py\u001b[0m in \u001b[0;36m__setattr__\u001b[0;34m(self, name, val)\u001b[0m\n\u001b[1;32m    667\u001b[0m                        type(val)))\n\u001b[1;32m    668\u001b[0m                 \u001b[0mself\u001b[0m\u001b[0;34m.\u001b[0m\u001b[0mdel_component\u001b[0m\u001b[0;34m(\u001b[0m\u001b[0mname\u001b[0m\u001b[0;34m)\u001b[0m\u001b[0;34m\u001b[0m\u001b[0;34m\u001b[0m\u001b[0m\n\u001b[0;32m--> 669\u001b[0;31m                 \u001b[0mself\u001b[0m\u001b[0;34m.\u001b[0m\u001b[0madd_component\u001b[0m\u001b[0;34m(\u001b[0m\u001b[0mname\u001b[0m\u001b[0;34m,\u001b[0m \u001b[0mval\u001b[0m\u001b[0;34m)\u001b[0m\u001b[0;34m\u001b[0m\u001b[0;34m\u001b[0m\u001b[0m\n\u001b[0m\u001b[1;32m    670\u001b[0m             \u001b[0;32melse\u001b[0m\u001b[0;34m:\u001b[0m\u001b[0;34m\u001b[0m\u001b[0;34m\u001b[0m\u001b[0m\n\u001b[1;32m    671\u001b[0m                 \u001b[0;31m#\u001b[0m\u001b[0;34m\u001b[0m\u001b[0;34m\u001b[0m\u001b[0;34m\u001b[0m\u001b[0m\n",
            "\u001b[0;32m/usr/local/lib/python3.7/dist-packages/pyomo/core/base/block.py\u001b[0m in \u001b[0;36madd_component\u001b[0;34m(self, name, val)\u001b[0m\n\u001b[1;32m   1184\u001b[0m                              _blockName, str(data))\n\u001b[1;32m   1185\u001b[0m             \u001b[0;32mtry\u001b[0m\u001b[0;34m:\u001b[0m\u001b[0;34m\u001b[0m\u001b[0;34m\u001b[0m\u001b[0m\n\u001b[0;32m-> 1186\u001b[0;31m                 \u001b[0mval\u001b[0m\u001b[0;34m.\u001b[0m\u001b[0mconstruct\u001b[0m\u001b[0;34m(\u001b[0m\u001b[0mdata\u001b[0m\u001b[0;34m)\u001b[0m\u001b[0;34m\u001b[0m\u001b[0;34m\u001b[0m\u001b[0m\n\u001b[0m\u001b[1;32m   1187\u001b[0m             \u001b[0;32mexcept\u001b[0m\u001b[0;34m:\u001b[0m\u001b[0;34m\u001b[0m\u001b[0;34m\u001b[0m\u001b[0m\n\u001b[1;32m   1188\u001b[0m                 \u001b[0merr\u001b[0m \u001b[0;34m=\u001b[0m \u001b[0msys\u001b[0m\u001b[0;34m.\u001b[0m\u001b[0mexc_info\u001b[0m\u001b[0;34m(\u001b[0m\u001b[0;34m)\u001b[0m\u001b[0;34m[\u001b[0m\u001b[0;36m1\u001b[0m\u001b[0;34m]\u001b[0m\u001b[0;34m\u001b[0m\u001b[0;34m\u001b[0m\u001b[0m\n",
            "\u001b[0;32m/usr/local/lib/python3.7/dist-packages/pyomo/core/base/constraint.py\u001b[0m in \u001b[0;36mconstruct\u001b[0;34m(self, data)\u001b[0m\n\u001b[1;32m    770\u001b[0m                 \u001b[0;31m# Bypass the index validation and create the member directly\u001b[0m\u001b[0;34m\u001b[0m\u001b[0;34m\u001b[0m\u001b[0;34m\u001b[0m\u001b[0m\n\u001b[1;32m    771\u001b[0m                 \u001b[0;32mfor\u001b[0m \u001b[0mindex\u001b[0m \u001b[0;32min\u001b[0m \u001b[0mself\u001b[0m\u001b[0;34m.\u001b[0m\u001b[0mindex_set\u001b[0m\u001b[0;34m(\u001b[0m\u001b[0;34m)\u001b[0m\u001b[0;34m:\u001b[0m\u001b[0;34m\u001b[0m\u001b[0;34m\u001b[0m\u001b[0m\n\u001b[0;32m--> 772\u001b[0;31m                     \u001b[0mself\u001b[0m\u001b[0;34m.\u001b[0m\u001b[0m_setitem_when_not_present\u001b[0m\u001b[0;34m(\u001b[0m\u001b[0mindex\u001b[0m\u001b[0;34m,\u001b[0m \u001b[0mrule\u001b[0m\u001b[0;34m(\u001b[0m\u001b[0mblock\u001b[0m\u001b[0;34m,\u001b[0m \u001b[0mindex\u001b[0m\u001b[0;34m)\u001b[0m\u001b[0;34m)\u001b[0m\u001b[0;34m\u001b[0m\u001b[0;34m\u001b[0m\u001b[0m\n\u001b[0m\u001b[1;32m    773\u001b[0m         \u001b[0;32mexcept\u001b[0m \u001b[0mException\u001b[0m\u001b[0;34m:\u001b[0m\u001b[0;34m\u001b[0m\u001b[0;34m\u001b[0m\u001b[0m\n\u001b[1;32m    774\u001b[0m             \u001b[0merr\u001b[0m \u001b[0;34m=\u001b[0m \u001b[0msys\u001b[0m\u001b[0;34m.\u001b[0m\u001b[0mexc_info\u001b[0m\u001b[0;34m(\u001b[0m\u001b[0;34m)\u001b[0m\u001b[0;34m[\u001b[0m\u001b[0;36m1\u001b[0m\u001b[0;34m]\u001b[0m\u001b[0;34m\u001b[0m\u001b[0;34m\u001b[0m\u001b[0m\n",
            "\u001b[0;32m/usr/local/lib/python3.7/dist-packages/pyomo/core/base/indexed_component.py\u001b[0m in \u001b[0;36m_setitem_when_not_present\u001b[0;34m(self, index, value)\u001b[0m\n\u001b[1;32m   1017\u001b[0m         \u001b[0;32mtry\u001b[0m\u001b[0;34m:\u001b[0m\u001b[0;34m\u001b[0m\u001b[0;34m\u001b[0m\u001b[0m\n\u001b[1;32m   1018\u001b[0m             \u001b[0;32mif\u001b[0m \u001b[0mvalue\u001b[0m \u001b[0;32mis\u001b[0m \u001b[0;32mnot\u001b[0m \u001b[0m_NotSpecified\u001b[0m\u001b[0;34m:\u001b[0m\u001b[0;34m\u001b[0m\u001b[0;34m\u001b[0m\u001b[0m\n\u001b[0;32m-> 1019\u001b[0;31m                 \u001b[0mobj\u001b[0m\u001b[0;34m.\u001b[0m\u001b[0mset_value\u001b[0m\u001b[0;34m(\u001b[0m\u001b[0mvalue\u001b[0m\u001b[0;34m)\u001b[0m\u001b[0;34m\u001b[0m\u001b[0;34m\u001b[0m\u001b[0m\n\u001b[0m\u001b[1;32m   1020\u001b[0m         \u001b[0;32mexcept\u001b[0m\u001b[0;34m:\u001b[0m\u001b[0;34m\u001b[0m\u001b[0;34m\u001b[0m\u001b[0m\n\u001b[1;32m   1021\u001b[0m             \u001b[0mself\u001b[0m\u001b[0;34m.\u001b[0m\u001b[0m_data\u001b[0m\u001b[0;34m.\u001b[0m\u001b[0mpop\u001b[0m\u001b[0;34m(\u001b[0m\u001b[0mindex\u001b[0m\u001b[0;34m,\u001b[0m \u001b[0;32mNone\u001b[0m\u001b[0;34m)\u001b[0m\u001b[0;34m\u001b[0m\u001b[0;34m\u001b[0m\u001b[0m\n",
            "\u001b[0;32m/usr/local/lib/python3.7/dist-packages/pyomo/core/base/constraint.py\u001b[0m in \u001b[0;36mset_value\u001b[0;34m(self, expr)\u001b[0m\n\u001b[1;32m    555\u001b[0m                    \u001b[0;34m\"\\n   (0, model.price[item], 50)\"\u001b[0m\u001b[0;34m\u001b[0m\u001b[0;34m\u001b[0m\u001b[0m\n\u001b[1;32m    556\u001b[0m                    % (self.name, str(expr)))\n\u001b[0;32m--> 557\u001b[0;31m             \u001b[0;32mraise\u001b[0m \u001b[0mValueError\u001b[0m\u001b[0;34m(\u001b[0m\u001b[0mmsg\u001b[0m\u001b[0;34m)\u001b[0m\u001b[0;34m\u001b[0m\u001b[0;34m\u001b[0m\u001b[0m\n\u001b[0m\u001b[1;32m    558\u001b[0m         \u001b[0;31m#\u001b[0m\u001b[0;34m\u001b[0m\u001b[0;34m\u001b[0m\u001b[0;34m\u001b[0m\u001b[0m\n\u001b[1;32m    559\u001b[0m         \u001b[0;31m# Normalize the incoming expressions, if we can\u001b[0m\u001b[0;34m\u001b[0m\u001b[0;34m\u001b[0m\u001b[0;34m\u001b[0m\u001b[0m\n",
            "\u001b[0;31mValueError\u001b[0m: Constraint 'Const1[1]' does not have a proper value. Found 'True'\nExpecting a tuple or equation. Examples:\n   sum(model.costs) == model.income\n   (0, model.price[item], 50)"
          ]
        }
      ]
    },
    {
      "cell_type": "code",
      "source": [
        "##Constraints\n",
        "\n",
        "# def Constraint1(model,j):\n",
        "#   return sum(x[1,i].value for i in model.i) <= sums1\n",
        "# model.Const1 = pyo.Constraint(model.i,rule = Constraint1)\n",
        "\n",
        "def Constraint1(model,j):\n",
        "  return sum(x[1,i].value for i in model.i) <= (spends_sum[0])\n",
        "model.Const1 = pyo.Constraint(model.i,rule = Constraint1)\n",
        "\n",
        "def Constraint2(model,i,j):\n",
        "  return sum(x[2,j].value for j in range(1,S.shape[0]+1)) <= spends_sum[1]\n",
        "model.Const2 = pyo.Constraint(x, rule = Constraint2)\n",
        "\n",
        "\n",
        "def Constraint3(model,i,j):\n",
        "  return sum(x[3,j].value for j in range(1,S.shape[0]+1)) <= spends_sum[2]\n",
        "model.Const3 = pyo.Constraint(x, rule = Constraint3)\n",
        "\n",
        "\n",
        "def Constraint4(model,i,j):\n",
        "  return sum(x[4,j].value for j in range(1,S.shape[0]+1)) <= spends_sum[3]\n",
        "model.Const4 = pyo.Constraint(x, rule = Constraint4)\n",
        "\n",
        "\n",
        "def Constraint5(model,i,j):\n",
        "  return sum(x[5,j].value for j in range(1,S.shape[0]+1)) <= spends_sum[4]\n",
        "model.Const5 = pyo.Constraint(x, rule = Constraint5)\n",
        "\n",
        "\n",
        "def Constraint6(model,i,j):\n",
        "  return sum(x[6,j].value for j in range(1,S.shape[0]+1)) <= spends_sum[5]\n",
        "model.Const6 = pyo.Constraint(x, rule = Constraint6)\n",
        "\n",
        "\n",
        "def Constraint7(model,i,j):\n",
        "  return sum(sum(x[i,j].value for j in range(1,S.shape[0]+1)) for j in range(1,S.shape[1]+1)) <= sum(spends_sum)\n",
        "model.Const7 = pyo.Constraint(x, rule = Constraint7)"
      ],
      "metadata": {
        "id": "WH_FA0Gs-_8K",
        "colab": {
          "base_uri": "https://localhost:8080/",
          "height": 678
        },
        "outputId": "c9fecbd5-5e10-48bb-a835-e3ad481264f0"
      },
      "execution_count": 134,
      "outputs": [
        {
          "output_type": "stream",
          "name": "stderr",
          "text": [
            "WARNING:pyomo.core:Implicitly replacing the Component attribute Const1 (type=<class 'pyomo.core.base.constraint.ScalarConstraint'>) on block unknown with a new Component (type=<class 'pyomo.core.base.constraint.IndexedConstraint'>).\n",
            "This is usually indicative of a modelling error.\n",
            "To avoid this warning, use block.del_component() and block.add_component().\n",
            "ERROR:pyomo.core:Rule failed when generating expression for Constraint Const1 with index 1:\n",
            "ValueError: Constraint 'Const1[1]' does not have a proper value. Found 'True'\n",
            "Expecting a tuple or equation. Examples:\n",
            "   sum(model.costs) == model.income\n",
            "   (0, model.price[item], 50)\n",
            "ERROR:pyomo.core:Constructing component 'Const1' from data=None failed:\n",
            "ValueError: Constraint 'Const1[1]' does not have a proper value. Found 'True'\n",
            "Expecting a tuple or equation. Examples:\n",
            "   sum(model.costs) == model.income\n",
            "   (0, model.price[item], 50)\n"
          ]
        },
        {
          "output_type": "error",
          "ename": "ValueError",
          "evalue": "ignored",
          "traceback": [
            "\u001b[0;31m---------------------------------------------------------------------------\u001b[0m",
            "\u001b[0;31mValueError\u001b[0m                                Traceback (most recent call last)",
            "\u001b[0;32m<ipython-input-134-0f68e8c639b5>\u001b[0m in \u001b[0;36m<module>\u001b[0;34m\u001b[0m\n\u001b[1;32m      7\u001b[0m \u001b[0;32mdef\u001b[0m \u001b[0mConstraint1\u001b[0m\u001b[0;34m(\u001b[0m\u001b[0mmodel\u001b[0m\u001b[0;34m,\u001b[0m\u001b[0mj\u001b[0m\u001b[0;34m)\u001b[0m\u001b[0;34m:\u001b[0m\u001b[0;34m\u001b[0m\u001b[0;34m\u001b[0m\u001b[0m\n\u001b[1;32m      8\u001b[0m   \u001b[0;32mreturn\u001b[0m \u001b[0msum\u001b[0m\u001b[0;34m(\u001b[0m\u001b[0mx\u001b[0m\u001b[0;34m[\u001b[0m\u001b[0;36m1\u001b[0m\u001b[0;34m,\u001b[0m\u001b[0mi\u001b[0m\u001b[0;34m]\u001b[0m\u001b[0;34m.\u001b[0m\u001b[0mvalue\u001b[0m \u001b[0;32mfor\u001b[0m \u001b[0mi\u001b[0m \u001b[0;32min\u001b[0m \u001b[0mmodel\u001b[0m\u001b[0;34m.\u001b[0m\u001b[0mi\u001b[0m\u001b[0;34m)\u001b[0m \u001b[0;34m<=\u001b[0m \u001b[0;34m(\u001b[0m\u001b[0mspends_sum\u001b[0m\u001b[0;34m[\u001b[0m\u001b[0;36m0\u001b[0m\u001b[0;34m]\u001b[0m\u001b[0;34m)\u001b[0m\u001b[0;34m\u001b[0m\u001b[0;34m\u001b[0m\u001b[0m\n\u001b[0;32m----> 9\u001b[0;31m \u001b[0mmodel\u001b[0m\u001b[0;34m.\u001b[0m\u001b[0mConst1\u001b[0m \u001b[0;34m=\u001b[0m \u001b[0mpyo\u001b[0m\u001b[0;34m.\u001b[0m\u001b[0mConstraint\u001b[0m\u001b[0;34m(\u001b[0m\u001b[0mmodel\u001b[0m\u001b[0;34m.\u001b[0m\u001b[0mi\u001b[0m\u001b[0;34m,\u001b[0m\u001b[0mrule\u001b[0m \u001b[0;34m=\u001b[0m \u001b[0mConstraint1\u001b[0m\u001b[0;34m)\u001b[0m\u001b[0;34m\u001b[0m\u001b[0;34m\u001b[0m\u001b[0m\n\u001b[0m\u001b[1;32m     10\u001b[0m \u001b[0;34m\u001b[0m\u001b[0m\n\u001b[1;32m     11\u001b[0m \u001b[0;32mdef\u001b[0m \u001b[0mConstraint2\u001b[0m\u001b[0;34m(\u001b[0m\u001b[0mmodel\u001b[0m\u001b[0;34m,\u001b[0m\u001b[0mi\u001b[0m\u001b[0;34m,\u001b[0m\u001b[0mj\u001b[0m\u001b[0;34m)\u001b[0m\u001b[0;34m:\u001b[0m\u001b[0;34m\u001b[0m\u001b[0;34m\u001b[0m\u001b[0m\n",
            "\u001b[0;32m/usr/local/lib/python3.7/dist-packages/pyomo/core/base/block.py\u001b[0m in \u001b[0;36m__setattr__\u001b[0;34m(self, name, val)\u001b[0m\n\u001b[1;32m    667\u001b[0m                        type(val)))\n\u001b[1;32m    668\u001b[0m                 \u001b[0mself\u001b[0m\u001b[0;34m.\u001b[0m\u001b[0mdel_component\u001b[0m\u001b[0;34m(\u001b[0m\u001b[0mname\u001b[0m\u001b[0;34m)\u001b[0m\u001b[0;34m\u001b[0m\u001b[0;34m\u001b[0m\u001b[0m\n\u001b[0;32m--> 669\u001b[0;31m                 \u001b[0mself\u001b[0m\u001b[0;34m.\u001b[0m\u001b[0madd_component\u001b[0m\u001b[0;34m(\u001b[0m\u001b[0mname\u001b[0m\u001b[0;34m,\u001b[0m \u001b[0mval\u001b[0m\u001b[0;34m)\u001b[0m\u001b[0;34m\u001b[0m\u001b[0;34m\u001b[0m\u001b[0m\n\u001b[0m\u001b[1;32m    670\u001b[0m             \u001b[0;32melse\u001b[0m\u001b[0;34m:\u001b[0m\u001b[0;34m\u001b[0m\u001b[0;34m\u001b[0m\u001b[0m\n\u001b[1;32m    671\u001b[0m                 \u001b[0;31m#\u001b[0m\u001b[0;34m\u001b[0m\u001b[0;34m\u001b[0m\u001b[0;34m\u001b[0m\u001b[0m\n",
            "\u001b[0;32m/usr/local/lib/python3.7/dist-packages/pyomo/core/base/block.py\u001b[0m in \u001b[0;36madd_component\u001b[0;34m(self, name, val)\u001b[0m\n\u001b[1;32m   1184\u001b[0m                              _blockName, str(data))\n\u001b[1;32m   1185\u001b[0m             \u001b[0;32mtry\u001b[0m\u001b[0;34m:\u001b[0m\u001b[0;34m\u001b[0m\u001b[0;34m\u001b[0m\u001b[0m\n\u001b[0;32m-> 1186\u001b[0;31m                 \u001b[0mval\u001b[0m\u001b[0;34m.\u001b[0m\u001b[0mconstruct\u001b[0m\u001b[0;34m(\u001b[0m\u001b[0mdata\u001b[0m\u001b[0;34m)\u001b[0m\u001b[0;34m\u001b[0m\u001b[0;34m\u001b[0m\u001b[0m\n\u001b[0m\u001b[1;32m   1187\u001b[0m             \u001b[0;32mexcept\u001b[0m\u001b[0;34m:\u001b[0m\u001b[0;34m\u001b[0m\u001b[0;34m\u001b[0m\u001b[0m\n\u001b[1;32m   1188\u001b[0m                 \u001b[0merr\u001b[0m \u001b[0;34m=\u001b[0m \u001b[0msys\u001b[0m\u001b[0;34m.\u001b[0m\u001b[0mexc_info\u001b[0m\u001b[0;34m(\u001b[0m\u001b[0;34m)\u001b[0m\u001b[0;34m[\u001b[0m\u001b[0;36m1\u001b[0m\u001b[0;34m]\u001b[0m\u001b[0;34m\u001b[0m\u001b[0;34m\u001b[0m\u001b[0m\n",
            "\u001b[0;32m/usr/local/lib/python3.7/dist-packages/pyomo/core/base/constraint.py\u001b[0m in \u001b[0;36mconstruct\u001b[0;34m(self, data)\u001b[0m\n\u001b[1;32m    770\u001b[0m                 \u001b[0;31m# Bypass the index validation and create the member directly\u001b[0m\u001b[0;34m\u001b[0m\u001b[0;34m\u001b[0m\u001b[0;34m\u001b[0m\u001b[0m\n\u001b[1;32m    771\u001b[0m                 \u001b[0;32mfor\u001b[0m \u001b[0mindex\u001b[0m \u001b[0;32min\u001b[0m \u001b[0mself\u001b[0m\u001b[0;34m.\u001b[0m\u001b[0mindex_set\u001b[0m\u001b[0;34m(\u001b[0m\u001b[0;34m)\u001b[0m\u001b[0;34m:\u001b[0m\u001b[0;34m\u001b[0m\u001b[0;34m\u001b[0m\u001b[0m\n\u001b[0;32m--> 772\u001b[0;31m                     \u001b[0mself\u001b[0m\u001b[0;34m.\u001b[0m\u001b[0m_setitem_when_not_present\u001b[0m\u001b[0;34m(\u001b[0m\u001b[0mindex\u001b[0m\u001b[0;34m,\u001b[0m \u001b[0mrule\u001b[0m\u001b[0;34m(\u001b[0m\u001b[0mblock\u001b[0m\u001b[0;34m,\u001b[0m \u001b[0mindex\u001b[0m\u001b[0;34m)\u001b[0m\u001b[0;34m)\u001b[0m\u001b[0;34m\u001b[0m\u001b[0;34m\u001b[0m\u001b[0m\n\u001b[0m\u001b[1;32m    773\u001b[0m         \u001b[0;32mexcept\u001b[0m \u001b[0mException\u001b[0m\u001b[0;34m:\u001b[0m\u001b[0;34m\u001b[0m\u001b[0;34m\u001b[0m\u001b[0m\n\u001b[1;32m    774\u001b[0m             \u001b[0merr\u001b[0m \u001b[0;34m=\u001b[0m \u001b[0msys\u001b[0m\u001b[0;34m.\u001b[0m\u001b[0mexc_info\u001b[0m\u001b[0;34m(\u001b[0m\u001b[0;34m)\u001b[0m\u001b[0;34m[\u001b[0m\u001b[0;36m1\u001b[0m\u001b[0;34m]\u001b[0m\u001b[0;34m\u001b[0m\u001b[0;34m\u001b[0m\u001b[0m\n",
            "\u001b[0;32m/usr/local/lib/python3.7/dist-packages/pyomo/core/base/indexed_component.py\u001b[0m in \u001b[0;36m_setitem_when_not_present\u001b[0;34m(self, index, value)\u001b[0m\n\u001b[1;32m   1017\u001b[0m         \u001b[0;32mtry\u001b[0m\u001b[0;34m:\u001b[0m\u001b[0;34m\u001b[0m\u001b[0;34m\u001b[0m\u001b[0m\n\u001b[1;32m   1018\u001b[0m             \u001b[0;32mif\u001b[0m \u001b[0mvalue\u001b[0m \u001b[0;32mis\u001b[0m \u001b[0;32mnot\u001b[0m \u001b[0m_NotSpecified\u001b[0m\u001b[0;34m:\u001b[0m\u001b[0;34m\u001b[0m\u001b[0;34m\u001b[0m\u001b[0m\n\u001b[0;32m-> 1019\u001b[0;31m                 \u001b[0mobj\u001b[0m\u001b[0;34m.\u001b[0m\u001b[0mset_value\u001b[0m\u001b[0;34m(\u001b[0m\u001b[0mvalue\u001b[0m\u001b[0;34m)\u001b[0m\u001b[0;34m\u001b[0m\u001b[0;34m\u001b[0m\u001b[0m\n\u001b[0m\u001b[1;32m   1020\u001b[0m         \u001b[0;32mexcept\u001b[0m\u001b[0;34m:\u001b[0m\u001b[0;34m\u001b[0m\u001b[0;34m\u001b[0m\u001b[0m\n\u001b[1;32m   1021\u001b[0m             \u001b[0mself\u001b[0m\u001b[0;34m.\u001b[0m\u001b[0m_data\u001b[0m\u001b[0;34m.\u001b[0m\u001b[0mpop\u001b[0m\u001b[0;34m(\u001b[0m\u001b[0mindex\u001b[0m\u001b[0;34m,\u001b[0m \u001b[0;32mNone\u001b[0m\u001b[0;34m)\u001b[0m\u001b[0;34m\u001b[0m\u001b[0;34m\u001b[0m\u001b[0m\n",
            "\u001b[0;32m/usr/local/lib/python3.7/dist-packages/pyomo/core/base/constraint.py\u001b[0m in \u001b[0;36mset_value\u001b[0;34m(self, expr)\u001b[0m\n\u001b[1;32m    555\u001b[0m                    \u001b[0;34m\"\\n   (0, model.price[item], 50)\"\u001b[0m\u001b[0;34m\u001b[0m\u001b[0;34m\u001b[0m\u001b[0m\n\u001b[1;32m    556\u001b[0m                    % (self.name, str(expr)))\n\u001b[0;32m--> 557\u001b[0;31m             \u001b[0;32mraise\u001b[0m \u001b[0mValueError\u001b[0m\u001b[0;34m(\u001b[0m\u001b[0mmsg\u001b[0m\u001b[0;34m)\u001b[0m\u001b[0;34m\u001b[0m\u001b[0;34m\u001b[0m\u001b[0m\n\u001b[0m\u001b[1;32m    558\u001b[0m         \u001b[0;31m#\u001b[0m\u001b[0;34m\u001b[0m\u001b[0;34m\u001b[0m\u001b[0;34m\u001b[0m\u001b[0m\n\u001b[1;32m    559\u001b[0m         \u001b[0;31m# Normalize the incoming expressions, if we can\u001b[0m\u001b[0;34m\u001b[0m\u001b[0;34m\u001b[0m\u001b[0;34m\u001b[0m\u001b[0m\n",
            "\u001b[0;31mValueError\u001b[0m: Constraint 'Const1[1]' does not have a proper value. Found 'True'\nExpecting a tuple or equation. Examples:\n   sum(model.costs) == model.income\n   (0, model.price[item], 50)"
          ]
        }
      ]
    },
    {
      "cell_type": "code",
      "source": [],
      "metadata": {
        "id": "caqqYMZUtN27"
      },
      "execution_count": null,
      "outputs": []
    },
    {
      "cell_type": "code",
      "source": [
        "sum(spends_sum)"
      ],
      "metadata": {
        "id": "YyoraJUIGCWc",
        "outputId": "2c4f9be1-031e-4515-be04-a77143b65c26",
        "colab": {
          "base_uri": "https://localhost:8080/"
        }
      },
      "execution_count": 19,
      "outputs": [
        {
          "output_type": "execute_result",
          "data": {
            "text/plain": [
              "259052.88905839197"
            ]
          },
          "metadata": {},
          "execution_count": 19
        }
      ]
    },
    {
      "cell_type": "code",
      "source": [
        "# for i in model.x:\n",
        "#   print(i)"
      ],
      "metadata": {
        "id": "QQe0e00z8wWd"
      },
      "execution_count": null,
      "outputs": []
    },
    {
      "cell_type": "code",
      "source": [
        "## working code with everything\n",
        "import numpy as np\n",
        "# def adstest():\n",
        "  ##Adstocking\n",
        "ads2 = pd.DataFrame()\n",
        "for j in range(1,S.shape[1]+1):\n",
        "  #print(j)\n",
        "  if T.loc[j,'Type'] == 'Media':\n",
        "    ads2.loc[1,j] = (S.loc[1,j]/C.loc[1,j])*CPP_check[i-1,j-1]\n",
        "    #ads2.fillna(0,inplace=True)\n",
        "    #print(ads2)\n",
        "\n",
        "    for i in range(2,S.shape[0]+1):\n",
        "      ads2.loc[i,j] = ads2.loc[i-1,j]*T.loc[j,'Ret_rate'] + (S.loc[i,j]/C.loc[i,j])*CPP_check[i-1,j-1]\n",
        "      #ads2.fillna(0,inplace=True)\n",
        "      #print('media')\n",
        "  else: # for promo\n",
        "    for i in range(1,S.shape[0]+1): \n",
        "      ads2.loc[i,j] = (S.loc[i,j]/C.loc[i,j])*CPP_check[i-1,j-1]\n",
        "      \n",
        "\n",
        "  \n",
        "  ##Saturation transformation\n",
        "satu = pd.DataFrame()\n",
        "for i in range(1,S.shape[1]+1):\n",
        "  if T.loc[i,'Type'] == 'Media':\n",
        "    for j in range(1,S.shape[0]+1):\n",
        "    \n",
        "      satu.loc[j,i] = (T.loc[i,'Max Adstock']/\\\n",
        "    (1+exp(-(10*T.loc[i,'Steepness']/T.loc[i,'Max Adstock'])*\\\n",
        "    (ads2.loc[j,i]-(T.loc[i,'Saturation']*T.loc[i,'Max Adstock']))))-T.loc[i,'Adjustment_factor'])*T.loc[i,'Coefficient']   #*\\\n",
        "    #T.loc[i,'Coefficient'] \n",
        "  \n",
        "  else:\n",
        "    satu[i] = ads2[i]\n",
        "# ##Replacing small -ve numbers with 0\n",
        "  satu[satu<0] = 0\n",
        "\n",
        "print(ads2)    \n",
        "print(satu)\n"
      ],
      "metadata": {
        "colab": {
          "base_uri": "https://localhost:8080/"
        },
        "id": "1-NVzTMzNFQw",
        "outputId": "05e8bacd-0490-40aa-ac20-f61ce4a14680"
      },
      "execution_count": null,
      "outputs": [
        {
          "output_type": "stream",
          "name": "stdout",
          "text": [
            "                1             2             3             4            5  \\\n",
            "1   163533.000000  0.000000e+00  8.122073e+06  0.000000e+00     0.000000   \n",
            "2   306032.500000  0.000000e+00  2.463564e+07  7.066104e+07  3551.230769   \n",
            "3   371480.250000  0.000000e+00  2.956134e+07  8.092103e+07  4913.868132   \n",
            "4   334416.125000  0.000000e+00  2.518284e+07  7.635885e+07  5458.923077   \n",
            "5   231775.062500  0.000000e+00  1.586419e+07  6.740568e+07  6755.626374   \n",
            "6   132665.531250  0.000000e+00  9.993816e+06  5.349992e+07  7274.307692   \n",
            "7    77361.765625  0.000000e+00  6.295710e+06  4.246292e+07  7274.307692   \n",
            "8    47078.882812  0.000000e+00  3.966049e+06  3.440765e+07  7274.307692   \n",
            "9    23539.441406  0.000000e+00  2.498454e+06  2.852018e+07  7274.307692   \n",
            "10   11769.720703  1.669588e+06  1.573927e+06  2.596281e+07  7274.307692   \n",
            "11    5884.860352  4.738171e+06  9.915121e+05  2.192770e+07  7274.307692   \n",
            "12    2942.430176  6.521022e+06  6.246135e+05  1.740403e+07  6140.241758   \n",
            "13    1471.215088  8.401198e+06  3.934819e+05  1.381359e+07  3947.208791   \n",
            "\n",
            "             6  \n",
            "1     0.000000  \n",
            "2     0.000000  \n",
            "3   232.400000  \n",
            "4   426.050090  \n",
            "5   388.211353  \n",
            "6   323.481771  \n",
            "7   314.259355  \n",
            "8   574.860381  \n",
            "9   747.295029  \n",
            "10  622.692555  \n",
            "11  518.866048  \n",
            "12  432.351364  \n",
            "13  360.261965  \n",
            "             1           2           3             4            5           6\n",
            "1    62.957407    0.000001   29.393747  6.766786e-07     0.000000    0.000000\n",
            "2   148.584486    0.000001  117.986614  3.871953e+02  3551.230769    0.000000\n",
            "3   186.406486    0.000001  134.617040  6.036426e+02  4913.868132    2.344421\n",
            "4   165.617138    0.000001  120.185625  4.987131e+02  5458.923077   71.022711\n",
            "5   102.414764    0.000001   72.399597  3.328640e+02  6755.626374   41.697492\n",
            "6    47.345796    0.000001   38.833206  1.664623e+02  7274.307692   13.644258\n",
            "7    23.734005    0.000001   21.102538  9.112450e+01  7274.307692   11.488913\n",
            "8    13.216846    0.000001   11.956340  5.658652e+01  7274.307692  174.152517\n",
            "9     6.156684    0.000001    7.020504  3.880524e+01  7274.307692  188.535546\n",
            "10    2.970075   16.929369    4.226695  3.258586e+01  7274.307692  183.018560\n",
            "11    1.458585  126.040621    2.586913  2.428344e+01  7274.307692  149.895199\n",
            "12    0.722758  262.644518    1.600135  1.680858e+01  6140.241758   76.673987\n",
            "13    0.359755  414.071011    0.996446  1.200117e+01  3947.208791   26.363954\n"
          ]
        }
      ]
    },
    {
      "cell_type": "code",
      "source": [
        "adstest()"
      ],
      "metadata": {
        "colab": {
          "base_uri": "https://localhost:8080/",
          "height": 169
        },
        "id": "TNQ374zHEZmE",
        "outputId": "af42e262-c491-4c4d-8f83-96c34ea952be"
      },
      "execution_count": null,
      "outputs": [
        {
          "output_type": "error",
          "ename": "NameError",
          "evalue": "ignored",
          "traceback": [
            "\u001b[0;31m---------------------------------------------------------------------------\u001b[0m",
            "\u001b[0;31mNameError\u001b[0m                                 Traceback (most recent call last)",
            "\u001b[0;32m<ipython-input-27-ae0d1c2c32e1>\u001b[0m in \u001b[0;36m<module>\u001b[0;34m\u001b[0m\n\u001b[0;32m----> 1\u001b[0;31m \u001b[0madstest\u001b[0m\u001b[0;34m(\u001b[0m\u001b[0;34m)\u001b[0m\u001b[0;34m\u001b[0m\u001b[0;34m\u001b[0m\u001b[0m\n\u001b[0m",
            "\u001b[0;31mNameError\u001b[0m: name 'adstest' is not defined"
          ]
        }
      ]
    },
    {
      "cell_type": "code",
      "source": [
        "import numpy as np\n",
        "def adstest():\n",
        "  ads2 = pd.DataFrame()\n",
        "  for j in range(1,S.shape[1]+1):\n",
        "    ads2.loc[1,j] = S.loc[1,j]/C.loc[1,j]\n",
        "    ads2.fillna(0,inplace=True)\n",
        "\n",
        "    for i in range(2,S.shape[0]+1):\n",
        "      ads2.loc[i,j] = ads2.loc[i-1,j]*T.loc[j,'Ret_rate'] + S.loc[i,j]/C.loc[i,j]\n",
        "      ads2.fillna(0,inplace=True)\n",
        "  return ads2    \n"
      ],
      "metadata": {
        "id": "eI_qjjmEflDI"
      },
      "execution_count": null,
      "outputs": []
    },
    {
      "cell_type": "code",
      "source": [
        "ads2 = pd.DataFrame()\n",
        "for j in range(1,S.shape[1]+1):\n",
        "  #ads2.loc[1,j] = S.loc[1,j]/C.loc[1,j]\n",
        "  print(S.loc[1,j])\n",
        "  print(C.loc[1,j])"
      ],
      "metadata": {
        "colab": {
          "base_uri": "https://localhost:8080/"
        },
        "id": "tGjURAqGFOvx",
        "outputId": "8a1514a0-533a-4d92-a914-4e64571867df"
      },
      "execution_count": null,
      "outputs": [
        {
          "output_type": "stream",
          "name": "stdout",
          "text": [
            "1681.499999999998\n",
            "0.010282328337399779\n",
            "0.0\n",
            "0.0\n",
            "6141.681549999989\n",
            "0.0007561716756300995\n",
            "0.0\n",
            "0.0\n",
            "0.0\n",
            "0.0\n",
            "0.0\n",
            "0.0\n"
          ]
        }
      ]
    },
    {
      "cell_type": "code",
      "source": [
        "for j in range(1,S.shape[0]+1):\n",
        "  for i in range(1,S.shape[1]+1):\n",
        "\n",
        "    a = sum(sum(T.loc[i,'Max Adstock']/\\\n",
        "    (1+exp(-(10*T.loc[i,'Steepness']/T.loc[i,'Max Adstock'])*\\\n",
        "    (ads[i,j]-(T.loc[i,'Saturation']*T.loc[i,'Max Adstock']))))*\\\n",
        "    T.loc[i,'Coefficient'] for i in range(1,S.shape[1]+1)) for j in range(1,S.shape[0]+1))"
      ],
      "metadata": {
        "id": "XJPl_Sf33Bor"
      },
      "execution_count": null,
      "outputs": []
    },
    {
      "cell_type": "code",
      "source": [
        "##Final code ready\n",
        "\n",
        "sum(sum(T.loc[i,'Max Adstock']/\\\n",
        "    (1+exp(-(10*T.loc[i,'Steepness']/T.loc[i,'Max Adstock'])*\\\n",
        "    (ads[i,j]-(T.loc[i,'Saturation']*T.loc[i,'Max Adstock']))))*\\\n",
        "    T.loc[i,'Coefficient'] for i in range(1,S.shape[1]+1)) for j in range(1,S.shape[0]+1))"
      ],
      "metadata": {
        "colab": {
          "base_uri": "https://localhost:8080/"
        },
        "id": "BLA_tm26--2X",
        "outputId": "b5dadcc3-9e00-41b2-ca95-bc701d940187"
      },
      "execution_count": null,
      "outputs": [
        {
          "output_type": "execute_result",
          "data": {
            "text/plain": [
              "<pyomo.core.expr.numeric_expr.SumExpression object at 0x7ff4d84bf2d0>"
            ]
          },
          "metadata": {},
          "execution_count": 112
        }
      ]
    },
    {
      "cell_type": "code",
      "source": [
        "fo i in range(a.values\n"
      ],
      "metadata": {
        "colab": {
          "base_uri": "https://localhost:8080/",
          "height": 169
        },
        "id": "rsFnKMaJ-oQs",
        "outputId": "cafb333a-c7cc-4d08-f76a-5a66a79f64e2"
      },
      "execution_count": null,
      "outputs": [
        {
          "output_type": "error",
          "ename": "AttributeError",
          "evalue": "ignored",
          "traceback": [
            "\u001b[0;31m---------------------------------------------------------------------------\u001b[0m",
            "\u001b[0;31mAttributeError\u001b[0m                            Traceback (most recent call last)",
            "\u001b[0;32m<ipython-input-106-7fd0219895a1>\u001b[0m in \u001b[0;36m<module>\u001b[0;34m\u001b[0m\n\u001b[0;32m----> 1\u001b[0;31m \u001b[0ma\u001b[0m\u001b[0;34m.\u001b[0m\u001b[0mvalues\u001b[0m\u001b[0;34m\u001b[0m\u001b[0;34m\u001b[0m\u001b[0m\n\u001b[0m",
            "\u001b[0;31mAttributeError\u001b[0m: 'SumExpression' object has no attribute 'values'"
          ]
        }
      ]
    },
    {
      "cell_type": "code",
      "source": [
        "for i in model.i:\n",
        "  print(i)"
      ],
      "metadata": {
        "colab": {
          "base_uri": "https://localhost:8080/"
        },
        "id": "a7IVImk79yGu",
        "outputId": "e83b47e2-db0e-4f75-cf92-2eb8b261c788"
      },
      "execution_count": null,
      "outputs": [
        {
          "output_type": "stream",
          "name": "stdout",
          "text": [
            "1\n",
            "2\n",
            "3\n",
            "4\n",
            "5\n",
            "6\n"
          ]
        }
      ]
    },
    {
      "cell_type": "code",
      "source": [
        "ads[1,1].value"
      ],
      "metadata": {
        "colab": {
          "base_uri": "https://localhost:8080/"
        },
        "id": "QD3LZ9DY-nX6",
        "outputId": "9695525f-0732-4792-95d5-df62e6617671"
      },
      "execution_count": null,
      "outputs": [
        {
          "output_type": "execute_result",
          "data": {
            "text/plain": [
              "0"
            ]
          },
          "metadata": {},
          "execution_count": 108
        }
      ]
    },
    {
      "cell_type": "code",
      "source": [
        "a[1,1]"
      ],
      "metadata": {
        "colab": {
          "base_uri": "https://localhost:8080/",
          "height": 169
        },
        "id": "ctQ-gSpa-3dP",
        "outputId": "b9ed9cce-2450-4919-c286-387c47302729"
      },
      "execution_count": null,
      "outputs": [
        {
          "output_type": "error",
          "ename": "TypeError",
          "evalue": "ignored",
          "traceback": [
            "\u001b[0;31m---------------------------------------------------------------------------\u001b[0m",
            "\u001b[0;31mTypeError\u001b[0m                                 Traceback (most recent call last)",
            "\u001b[0;32m<ipython-input-110-73b9fe84793e>\u001b[0m in \u001b[0;36m<module>\u001b[0;34m\u001b[0m\n\u001b[0;32m----> 1\u001b[0;31m \u001b[0ma\u001b[0m\u001b[0;34m[\u001b[0m\u001b[0;36m1\u001b[0m\u001b[0;34m,\u001b[0m\u001b[0;36m1\u001b[0m\u001b[0;34m]\u001b[0m\u001b[0;34m\u001b[0m\u001b[0;34m\u001b[0m\u001b[0m\n\u001b[0m",
            "\u001b[0;31mTypeError\u001b[0m: 'SumExpression' object is not subscriptable"
          ]
        }
      ]
    },
    {
      "cell_type": "code",
      "source": [
        "a = sum(sum(i) for i in range(1,5)) for j in range(1,3) "
      ],
      "metadata": {
        "colab": {
          "base_uri": "https://localhost:8080/",
          "height": 133
        },
        "id": "oG9tLHS89M0o",
        "outputId": "c1f5f66a-ab59-4c0e-9c39-b056c7483b71"
      },
      "execution_count": null,
      "outputs": [
        {
          "output_type": "error",
          "ename": "SyntaxError",
          "evalue": "ignored",
          "traceback": [
            "\u001b[0;36m  File \u001b[0;32m\"<ipython-input-94-fb3ca487525e>\"\u001b[0;36m, line \u001b[0;32m1\u001b[0m\n\u001b[0;31m    sum(sum(i) for i in range(1,5)) for j in range(1,3)\u001b[0m\n\u001b[0m                                      ^\u001b[0m\n\u001b[0;31mSyntaxError\u001b[0m\u001b[0;31m:\u001b[0m invalid syntax\n"
          ]
        }
      ]
    },
    {
      "cell_type": "code",
      "source": [
        "S.shape[0]"
      ],
      "metadata": {
        "colab": {
          "base_uri": "https://localhost:8080/"
        },
        "id": "fDDL4GJF5cjb",
        "outputId": "713cedf0-fa03-40a2-a57e-5bd836656b9e"
      },
      "execution_count": null,
      "outputs": [
        {
          "output_type": "execute_result",
          "data": {
            "text/plain": [
              "13"
            ]
          },
          "metadata": {},
          "execution_count": 89
        }
      ]
    },
    {
      "cell_type": "code",
      "source": [
        "for i in range(1,S.shape[1]+1):\n",
        "  for j in range(1,S.shape[0]+1):\n",
        "\n",
        "    T.loc[i,'Max Adstock']/\\\n",
        "        (1+exp(-(10*T.loc[i,'Steepness']/T.loc[i,'Max Adstock'])*\\\n",
        "        (ads[i,j]-(T.loc[i,'Saturation']*T.loc[i,'Max Adstock']))))*\\\n",
        "        T.loc[i,'Coefficient']"
      ],
      "metadata": {
        "id": "2BkzTp1s48-L"
      },
      "execution_count": null,
      "outputs": []
    },
    {
      "cell_type": "code",
      "source": [
        "sum(sum(T.loc[i,'Max Adstock']/\\\n",
        "        (1+exp(-(10*T.loc[i,'Steepness']/T.loc[i,'Max Adstock'])*\\\n",
        "        (ads[i,j]-(T.loc[i,'Saturation']*T.loc[i,'Max Adstock']))))*\\\n",
        "        T.loc[i,'Coefficient']) for j in range(1,S.shape[0]+1)) for i in range(1,S.shape[1]+1)"
      ],
      "metadata": {
        "colab": {
          "base_uri": "https://localhost:8080/",
          "height": 320
        },
        "id": "3YhvS-ia7Sbl",
        "outputId": "c268061e-6c07-48b4-cba4-0f27333a18df"
      },
      "execution_count": null,
      "outputs": [
        {
          "output_type": "error",
          "ename": "TypeError",
          "evalue": "ignored",
          "traceback": [
            "\u001b[0;31m---------------------------------------------------------------------------\u001b[0m",
            "\u001b[0;31mTypeError\u001b[0m                                 Traceback (most recent call last)",
            "\u001b[0;32m<ipython-input-93-cc306bd3622b>\u001b[0m in \u001b[0;36m<module>\u001b[0;34m\u001b[0m\n\u001b[1;32m      2\u001b[0m         (1+exp(-(10*T.loc[i,'Steepness']/T.loc[i,'Max Adstock'])*\\\n\u001b[1;32m      3\u001b[0m         (ads[i,j]-(T.loc[i,'Saturation']*T.loc[i,'Max Adstock']))))*\\\n\u001b[0;32m----> 4\u001b[0;31m         T.loc[i,'Coefficient']) for j in range(1,S.shape[0]+1)) for i in range(1,S.shape[1]+1)]\n\u001b[0m",
            "\u001b[0;32m<ipython-input-93-cc306bd3622b>\u001b[0m in \u001b[0;36m<listcomp>\u001b[0;34m(.0)\u001b[0m\n\u001b[1;32m      2\u001b[0m         (1+exp(-(10*T.loc[i,'Steepness']/T.loc[i,'Max Adstock'])*\\\n\u001b[1;32m      3\u001b[0m         (ads[i,j]-(T.loc[i,'Saturation']*T.loc[i,'Max Adstock']))))*\\\n\u001b[0;32m----> 4\u001b[0;31m         T.loc[i,'Coefficient']) for j in range(1,S.shape[0]+1)) for i in range(1,S.shape[1]+1)]\n\u001b[0m",
            "\u001b[0;32m<ipython-input-93-cc306bd3622b>\u001b[0m in \u001b[0;36m<genexpr>\u001b[0;34m(.0)\u001b[0m\n\u001b[1;32m      2\u001b[0m         (1+exp(-(10*T.loc[i,'Steepness']/T.loc[i,'Max Adstock'])*\\\n\u001b[1;32m      3\u001b[0m         (ads[i,j]-(T.loc[i,'Saturation']*T.loc[i,'Max Adstock']))))*\\\n\u001b[0;32m----> 4\u001b[0;31m         T.loc[i,'Coefficient']) for j in range(1,S.shape[0]+1)) for i in range(1,S.shape[1]+1)]\n\u001b[0m",
            "\u001b[0;31mTypeError\u001b[0m: 'ProductExpression' object is not iterable"
          ]
        }
      ]
    },
    {
      "cell_type": "code",
      "source": [
        "T.head()"
      ],
      "metadata": {
        "colab": {
          "base_uri": "https://localhost:8080/",
          "height": 206
        },
        "id": "7Xs4I5QS7HGq",
        "outputId": "09249844-85db-43fe-9b6c-616d303566c5"
      },
      "execution_count": null,
      "outputs": [
        {
          "output_type": "execute_result",
          "data": {
            "text/plain": [
              "    Type  Half Life   Max Adstock  Saturation  Steepness  Coefficient  \\\n",
              "1  Media        1.0  3.828436e+05         0.7        0.3     0.000835   \n",
              "2  Media        0.5  8.401198e+06         0.8        0.5     0.000069   \n",
              "3  Media        1.5  3.034951e+07         0.5        0.4     0.000006   \n",
              "4  Media        3.0  1.135283e+08         0.9        0.6     0.000022   \n",
              "5  Promo        0.0  7.274308e+03         0.0        0.0     0.045272   \n",
              "\n",
              "   Ret_rate  \n",
              "1  0.500000  \n",
              "2  0.250000  \n",
              "3  0.629961  \n",
              "4  0.793701  \n",
              "5  0.000000  "
            ],
            "text/html": [
              "\n",
              "  <div id=\"df-8892c6ed-2152-4e95-87b6-9c6396f68302\">\n",
              "    <div class=\"colab-df-container\">\n",
              "      <div>\n",
              "<style scoped>\n",
              "    .dataframe tbody tr th:only-of-type {\n",
              "        vertical-align: middle;\n",
              "    }\n",
              "\n",
              "    .dataframe tbody tr th {\n",
              "        vertical-align: top;\n",
              "    }\n",
              "\n",
              "    .dataframe thead th {\n",
              "        text-align: right;\n",
              "    }\n",
              "</style>\n",
              "<table border=\"1\" class=\"dataframe\">\n",
              "  <thead>\n",
              "    <tr style=\"text-align: right;\">\n",
              "      <th></th>\n",
              "      <th>Type</th>\n",
              "      <th>Half Life</th>\n",
              "      <th>Max Adstock</th>\n",
              "      <th>Saturation</th>\n",
              "      <th>Steepness</th>\n",
              "      <th>Coefficient</th>\n",
              "      <th>Ret_rate</th>\n",
              "    </tr>\n",
              "  </thead>\n",
              "  <tbody>\n",
              "    <tr>\n",
              "      <th>1</th>\n",
              "      <td>Media</td>\n",
              "      <td>1.0</td>\n",
              "      <td>3.828436e+05</td>\n",
              "      <td>0.7</td>\n",
              "      <td>0.3</td>\n",
              "      <td>0.000835</td>\n",
              "      <td>0.500000</td>\n",
              "    </tr>\n",
              "    <tr>\n",
              "      <th>2</th>\n",
              "      <td>Media</td>\n",
              "      <td>0.5</td>\n",
              "      <td>8.401198e+06</td>\n",
              "      <td>0.8</td>\n",
              "      <td>0.5</td>\n",
              "      <td>0.000069</td>\n",
              "      <td>0.250000</td>\n",
              "    </tr>\n",
              "    <tr>\n",
              "      <th>3</th>\n",
              "      <td>Media</td>\n",
              "      <td>1.5</td>\n",
              "      <td>3.034951e+07</td>\n",
              "      <td>0.5</td>\n",
              "      <td>0.4</td>\n",
              "      <td>0.000006</td>\n",
              "      <td>0.629961</td>\n",
              "    </tr>\n",
              "    <tr>\n",
              "      <th>4</th>\n",
              "      <td>Media</td>\n",
              "      <td>3.0</td>\n",
              "      <td>1.135283e+08</td>\n",
              "      <td>0.9</td>\n",
              "      <td>0.6</td>\n",
              "      <td>0.000022</td>\n",
              "      <td>0.793701</td>\n",
              "    </tr>\n",
              "    <tr>\n",
              "      <th>5</th>\n",
              "      <td>Promo</td>\n",
              "      <td>0.0</td>\n",
              "      <td>7.274308e+03</td>\n",
              "      <td>0.0</td>\n",
              "      <td>0.0</td>\n",
              "      <td>0.045272</td>\n",
              "      <td>0.000000</td>\n",
              "    </tr>\n",
              "  </tbody>\n",
              "</table>\n",
              "</div>\n",
              "      <button class=\"colab-df-convert\" onclick=\"convertToInteractive('df-8892c6ed-2152-4e95-87b6-9c6396f68302')\"\n",
              "              title=\"Convert this dataframe to an interactive table.\"\n",
              "              style=\"display:none;\">\n",
              "        \n",
              "  <svg xmlns=\"http://www.w3.org/2000/svg\" height=\"24px\"viewBox=\"0 0 24 24\"\n",
              "       width=\"24px\">\n",
              "    <path d=\"M0 0h24v24H0V0z\" fill=\"none\"/>\n",
              "    <path d=\"M18.56 5.44l.94 2.06.94-2.06 2.06-.94-2.06-.94-.94-2.06-.94 2.06-2.06.94zm-11 1L8.5 8.5l.94-2.06 2.06-.94-2.06-.94L8.5 2.5l-.94 2.06-2.06.94zm10 10l.94 2.06.94-2.06 2.06-.94-2.06-.94-.94-2.06-.94 2.06-2.06.94z\"/><path d=\"M17.41 7.96l-1.37-1.37c-.4-.4-.92-.59-1.43-.59-.52 0-1.04.2-1.43.59L10.3 9.45l-7.72 7.72c-.78.78-.78 2.05 0 2.83L4 21.41c.39.39.9.59 1.41.59.51 0 1.02-.2 1.41-.59l7.78-7.78 2.81-2.81c.8-.78.8-2.07 0-2.86zM5.41 20L4 18.59l7.72-7.72 1.47 1.35L5.41 20z\"/>\n",
              "  </svg>\n",
              "      </button>\n",
              "      \n",
              "  <style>\n",
              "    .colab-df-container {\n",
              "      display:flex;\n",
              "      flex-wrap:wrap;\n",
              "      gap: 12px;\n",
              "    }\n",
              "\n",
              "    .colab-df-convert {\n",
              "      background-color: #E8F0FE;\n",
              "      border: none;\n",
              "      border-radius: 50%;\n",
              "      cursor: pointer;\n",
              "      display: none;\n",
              "      fill: #1967D2;\n",
              "      height: 32px;\n",
              "      padding: 0 0 0 0;\n",
              "      width: 32px;\n",
              "    }\n",
              "\n",
              "    .colab-df-convert:hover {\n",
              "      background-color: #E2EBFA;\n",
              "      box-shadow: 0px 1px 2px rgba(60, 64, 67, 0.3), 0px 1px 3px 1px rgba(60, 64, 67, 0.15);\n",
              "      fill: #174EA6;\n",
              "    }\n",
              "\n",
              "    [theme=dark] .colab-df-convert {\n",
              "      background-color: #3B4455;\n",
              "      fill: #D2E3FC;\n",
              "    }\n",
              "\n",
              "    [theme=dark] .colab-df-convert:hover {\n",
              "      background-color: #434B5C;\n",
              "      box-shadow: 0px 1px 3px 1px rgba(0, 0, 0, 0.15);\n",
              "      filter: drop-shadow(0px 1px 2px rgba(0, 0, 0, 0.3));\n",
              "      fill: #FFFFFF;\n",
              "    }\n",
              "  </style>\n",
              "\n",
              "      <script>\n",
              "        const buttonEl =\n",
              "          document.querySelector('#df-8892c6ed-2152-4e95-87b6-9c6396f68302 button.colab-df-convert');\n",
              "        buttonEl.style.display =\n",
              "          google.colab.kernel.accessAllowed ? 'block' : 'none';\n",
              "\n",
              "        async function convertToInteractive(key) {\n",
              "          const element = document.querySelector('#df-8892c6ed-2152-4e95-87b6-9c6396f68302');\n",
              "          const dataTable =\n",
              "            await google.colab.kernel.invokeFunction('convertToInteractive',\n",
              "                                                     [key], {});\n",
              "          if (!dataTable) return;\n",
              "\n",
              "          const docLinkHtml = 'Like what you see? Visit the ' +\n",
              "            '<a target=\"_blank\" href=https://colab.research.google.com/notebooks/data_table.ipynb>data table notebook</a>'\n",
              "            + ' to learn more about interactive tables.';\n",
              "          element.innerHTML = '';\n",
              "          dataTable['output_type'] = 'display_data';\n",
              "          await google.colab.output.renderOutput(dataTable, element);\n",
              "          const docLink = document.createElement('div');\n",
              "          docLink.innerHTML = docLinkHtml;\n",
              "          element.appendChild(docLink);\n",
              "        }\n",
              "      </script>\n",
              "    </div>\n",
              "  </div>\n",
              "  "
            ]
          },
          "metadata": {},
          "execution_count": 91
        }
      ]
    },
    {
      "cell_type": "code",
      "source": [
        "# for i in ads:\n",
        "#   print(ads[i],ads[i].value)"
      ],
      "metadata": {
        "id": "_XYrMECZ3B8M"
      },
      "execution_count": null,
      "outputs": []
    },
    {
      "cell_type": "code",
      "source": [
        "S.head()"
      ],
      "metadata": {
        "colab": {
          "base_uri": "https://localhost:8080/",
          "height": 237
        },
        "id": "JRh5Kv4SW8Sv",
        "outputId": "b607558a-3ef1-4142-f887-356ed5354395"
      },
      "execution_count": null,
      "outputs": [
        {
          "output_type": "execute_result",
          "data": {
            "text/plain": [
              "              1    2             3         4            5             6\n",
              "Period                                                                 \n",
              "1       1681.50  0.0   6141.681550      0.00     0.000000      0.000000\n",
              "2       2476.10  0.0  15080.853226  12833.30  1547.846154      0.000000\n",
              "3       3279.79  0.0   7192.357366   4191.13  1665.318681  39133.014118\n",
              "4       2585.39  0.0   3574.155648   1806.90  1712.307692  39133.014118\n",
              "5       1051.12  0.0      0.000000    800.00  1824.175824   5590.430588"
            ],
            "text/html": [
              "\n",
              "  <div id=\"df-ac4cc162-c286-4dd0-bfcd-1ce480cf6028\">\n",
              "    <div class=\"colab-df-container\">\n",
              "      <div>\n",
              "<style scoped>\n",
              "    .dataframe tbody tr th:only-of-type {\n",
              "        vertical-align: middle;\n",
              "    }\n",
              "\n",
              "    .dataframe tbody tr th {\n",
              "        vertical-align: top;\n",
              "    }\n",
              "\n",
              "    .dataframe thead th {\n",
              "        text-align: right;\n",
              "    }\n",
              "</style>\n",
              "<table border=\"1\" class=\"dataframe\">\n",
              "  <thead>\n",
              "    <tr style=\"text-align: right;\">\n",
              "      <th></th>\n",
              "      <th>1</th>\n",
              "      <th>2</th>\n",
              "      <th>3</th>\n",
              "      <th>4</th>\n",
              "      <th>5</th>\n",
              "      <th>6</th>\n",
              "    </tr>\n",
              "    <tr>\n",
              "      <th>Period</th>\n",
              "      <th></th>\n",
              "      <th></th>\n",
              "      <th></th>\n",
              "      <th></th>\n",
              "      <th></th>\n",
              "      <th></th>\n",
              "    </tr>\n",
              "  </thead>\n",
              "  <tbody>\n",
              "    <tr>\n",
              "      <th>1</th>\n",
              "      <td>1681.50</td>\n",
              "      <td>0.0</td>\n",
              "      <td>6141.681550</td>\n",
              "      <td>0.00</td>\n",
              "      <td>0.000000</td>\n",
              "      <td>0.000000</td>\n",
              "    </tr>\n",
              "    <tr>\n",
              "      <th>2</th>\n",
              "      <td>2476.10</td>\n",
              "      <td>0.0</td>\n",
              "      <td>15080.853226</td>\n",
              "      <td>12833.30</td>\n",
              "      <td>1547.846154</td>\n",
              "      <td>0.000000</td>\n",
              "    </tr>\n",
              "    <tr>\n",
              "      <th>3</th>\n",
              "      <td>3279.79</td>\n",
              "      <td>0.0</td>\n",
              "      <td>7192.357366</td>\n",
              "      <td>4191.13</td>\n",
              "      <td>1665.318681</td>\n",
              "      <td>39133.014118</td>\n",
              "    </tr>\n",
              "    <tr>\n",
              "      <th>4</th>\n",
              "      <td>2585.39</td>\n",
              "      <td>0.0</td>\n",
              "      <td>3574.155648</td>\n",
              "      <td>1806.90</td>\n",
              "      <td>1712.307692</td>\n",
              "      <td>39133.014118</td>\n",
              "    </tr>\n",
              "    <tr>\n",
              "      <th>5</th>\n",
              "      <td>1051.12</td>\n",
              "      <td>0.0</td>\n",
              "      <td>0.000000</td>\n",
              "      <td>800.00</td>\n",
              "      <td>1824.175824</td>\n",
              "      <td>5590.430588</td>\n",
              "    </tr>\n",
              "  </tbody>\n",
              "</table>\n",
              "</div>\n",
              "      <button class=\"colab-df-convert\" onclick=\"convertToInteractive('df-ac4cc162-c286-4dd0-bfcd-1ce480cf6028')\"\n",
              "              title=\"Convert this dataframe to an interactive table.\"\n",
              "              style=\"display:none;\">\n",
              "        \n",
              "  <svg xmlns=\"http://www.w3.org/2000/svg\" height=\"24px\"viewBox=\"0 0 24 24\"\n",
              "       width=\"24px\">\n",
              "    <path d=\"M0 0h24v24H0V0z\" fill=\"none\"/>\n",
              "    <path d=\"M18.56 5.44l.94 2.06.94-2.06 2.06-.94-2.06-.94-.94-2.06-.94 2.06-2.06.94zm-11 1L8.5 8.5l.94-2.06 2.06-.94-2.06-.94L8.5 2.5l-.94 2.06-2.06.94zm10 10l.94 2.06.94-2.06 2.06-.94-2.06-.94-.94-2.06-.94 2.06-2.06.94z\"/><path d=\"M17.41 7.96l-1.37-1.37c-.4-.4-.92-.59-1.43-.59-.52 0-1.04.2-1.43.59L10.3 9.45l-7.72 7.72c-.78.78-.78 2.05 0 2.83L4 21.41c.39.39.9.59 1.41.59.51 0 1.02-.2 1.41-.59l7.78-7.78 2.81-2.81c.8-.78.8-2.07 0-2.86zM5.41 20L4 18.59l7.72-7.72 1.47 1.35L5.41 20z\"/>\n",
              "  </svg>\n",
              "      </button>\n",
              "      \n",
              "  <style>\n",
              "    .colab-df-container {\n",
              "      display:flex;\n",
              "      flex-wrap:wrap;\n",
              "      gap: 12px;\n",
              "    }\n",
              "\n",
              "    .colab-df-convert {\n",
              "      background-color: #E8F0FE;\n",
              "      border: none;\n",
              "      border-radius: 50%;\n",
              "      cursor: pointer;\n",
              "      display: none;\n",
              "      fill: #1967D2;\n",
              "      height: 32px;\n",
              "      padding: 0 0 0 0;\n",
              "      width: 32px;\n",
              "    }\n",
              "\n",
              "    .colab-df-convert:hover {\n",
              "      background-color: #E2EBFA;\n",
              "      box-shadow: 0px 1px 2px rgba(60, 64, 67, 0.3), 0px 1px 3px 1px rgba(60, 64, 67, 0.15);\n",
              "      fill: #174EA6;\n",
              "    }\n",
              "\n",
              "    [theme=dark] .colab-df-convert {\n",
              "      background-color: #3B4455;\n",
              "      fill: #D2E3FC;\n",
              "    }\n",
              "\n",
              "    [theme=dark] .colab-df-convert:hover {\n",
              "      background-color: #434B5C;\n",
              "      box-shadow: 0px 1px 3px 1px rgba(0, 0, 0, 0.15);\n",
              "      filter: drop-shadow(0px 1px 2px rgba(0, 0, 0, 0.3));\n",
              "      fill: #FFFFFF;\n",
              "    }\n",
              "  </style>\n",
              "\n",
              "      <script>\n",
              "        const buttonEl =\n",
              "          document.querySelector('#df-ac4cc162-c286-4dd0-bfcd-1ce480cf6028 button.colab-df-convert');\n",
              "        buttonEl.style.display =\n",
              "          google.colab.kernel.accessAllowed ? 'block' : 'none';\n",
              "\n",
              "        async function convertToInteractive(key) {\n",
              "          const element = document.querySelector('#df-ac4cc162-c286-4dd0-bfcd-1ce480cf6028');\n",
              "          const dataTable =\n",
              "            await google.colab.kernel.invokeFunction('convertToInteractive',\n",
              "                                                     [key], {});\n",
              "          if (!dataTable) return;\n",
              "\n",
              "          const docLinkHtml = 'Like what you see? Visit the ' +\n",
              "            '<a target=\"_blank\" href=https://colab.research.google.com/notebooks/data_table.ipynb>data table notebook</a>'\n",
              "            + ' to learn more about interactive tables.';\n",
              "          element.innerHTML = '';\n",
              "          dataTable['output_type'] = 'display_data';\n",
              "          await google.colab.output.renderOutput(dataTable, element);\n",
              "          const docLink = document.createElement('div');\n",
              "          docLink.innerHTML = docLinkHtml;\n",
              "          element.appendChild(docLink);\n",
              "        }\n",
              "      </script>\n",
              "    </div>\n",
              "  </div>\n",
              "  "
            ]
          },
          "metadata": {},
          "execution_count": 24
        }
      ]
    },
    {
      "cell_type": "code",
      "source": [
        "T.head(8)"
      ],
      "metadata": {
        "colab": {
          "base_uri": "https://localhost:8080/",
          "height": 237
        },
        "id": "drKMyJ4YdiDe",
        "outputId": "e08326a2-59fb-46d4-ab34-8a0db898688c"
      },
      "execution_count": null,
      "outputs": [
        {
          "output_type": "execute_result",
          "data": {
            "text/plain": [
              "    Type  Half Life   Max Adstock  Saturation  Steepness  Coefficient  \\\n",
              "1  Media        1.0  3.828436e+05         0.7        0.3     0.000835   \n",
              "2  Media        0.5  8.401198e+06         0.8        0.5     0.000069   \n",
              "3  Media        1.5  3.034951e+07         0.5        0.4     0.000006   \n",
              "4  Media        3.0  1.135283e+08         0.9        0.6     0.000022   \n",
              "5  Promo        0.0  7.274308e+03         0.0        0.0     0.045272   \n",
              "6  Media        3.8  7.525281e+02         0.6        1.5     0.251257   \n",
              "\n",
              "   Ret_rate  \n",
              "1  0.500000  \n",
              "2  0.250000  \n",
              "3  0.629961  \n",
              "4  0.793701  \n",
              "5  0.000000  \n",
              "6  0.833262  "
            ],
            "text/html": [
              "\n",
              "  <div id=\"df-58ef596c-602a-4d8a-93ec-2a6b680ecce0\">\n",
              "    <div class=\"colab-df-container\">\n",
              "      <div>\n",
              "<style scoped>\n",
              "    .dataframe tbody tr th:only-of-type {\n",
              "        vertical-align: middle;\n",
              "    }\n",
              "\n",
              "    .dataframe tbody tr th {\n",
              "        vertical-align: top;\n",
              "    }\n",
              "\n",
              "    .dataframe thead th {\n",
              "        text-align: right;\n",
              "    }\n",
              "</style>\n",
              "<table border=\"1\" class=\"dataframe\">\n",
              "  <thead>\n",
              "    <tr style=\"text-align: right;\">\n",
              "      <th></th>\n",
              "      <th>Type</th>\n",
              "      <th>Half Life</th>\n",
              "      <th>Max Adstock</th>\n",
              "      <th>Saturation</th>\n",
              "      <th>Steepness</th>\n",
              "      <th>Coefficient</th>\n",
              "      <th>Ret_rate</th>\n",
              "    </tr>\n",
              "  </thead>\n",
              "  <tbody>\n",
              "    <tr>\n",
              "      <th>1</th>\n",
              "      <td>Media</td>\n",
              "      <td>1.0</td>\n",
              "      <td>3.828436e+05</td>\n",
              "      <td>0.7</td>\n",
              "      <td>0.3</td>\n",
              "      <td>0.000835</td>\n",
              "      <td>0.500000</td>\n",
              "    </tr>\n",
              "    <tr>\n",
              "      <th>2</th>\n",
              "      <td>Media</td>\n",
              "      <td>0.5</td>\n",
              "      <td>8.401198e+06</td>\n",
              "      <td>0.8</td>\n",
              "      <td>0.5</td>\n",
              "      <td>0.000069</td>\n",
              "      <td>0.250000</td>\n",
              "    </tr>\n",
              "    <tr>\n",
              "      <th>3</th>\n",
              "      <td>Media</td>\n",
              "      <td>1.5</td>\n",
              "      <td>3.034951e+07</td>\n",
              "      <td>0.5</td>\n",
              "      <td>0.4</td>\n",
              "      <td>0.000006</td>\n",
              "      <td>0.629961</td>\n",
              "    </tr>\n",
              "    <tr>\n",
              "      <th>4</th>\n",
              "      <td>Media</td>\n",
              "      <td>3.0</td>\n",
              "      <td>1.135283e+08</td>\n",
              "      <td>0.9</td>\n",
              "      <td>0.6</td>\n",
              "      <td>0.000022</td>\n",
              "      <td>0.793701</td>\n",
              "    </tr>\n",
              "    <tr>\n",
              "      <th>5</th>\n",
              "      <td>Promo</td>\n",
              "      <td>0.0</td>\n",
              "      <td>7.274308e+03</td>\n",
              "      <td>0.0</td>\n",
              "      <td>0.0</td>\n",
              "      <td>0.045272</td>\n",
              "      <td>0.000000</td>\n",
              "    </tr>\n",
              "    <tr>\n",
              "      <th>6</th>\n",
              "      <td>Media</td>\n",
              "      <td>3.8</td>\n",
              "      <td>7.525281e+02</td>\n",
              "      <td>0.6</td>\n",
              "      <td>1.5</td>\n",
              "      <td>0.251257</td>\n",
              "      <td>0.833262</td>\n",
              "    </tr>\n",
              "  </tbody>\n",
              "</table>\n",
              "</div>\n",
              "      <button class=\"colab-df-convert\" onclick=\"convertToInteractive('df-58ef596c-602a-4d8a-93ec-2a6b680ecce0')\"\n",
              "              title=\"Convert this dataframe to an interactive table.\"\n",
              "              style=\"display:none;\">\n",
              "        \n",
              "  <svg xmlns=\"http://www.w3.org/2000/svg\" height=\"24px\"viewBox=\"0 0 24 24\"\n",
              "       width=\"24px\">\n",
              "    <path d=\"M0 0h24v24H0V0z\" fill=\"none\"/>\n",
              "    <path d=\"M18.56 5.44l.94 2.06.94-2.06 2.06-.94-2.06-.94-.94-2.06-.94 2.06-2.06.94zm-11 1L8.5 8.5l.94-2.06 2.06-.94-2.06-.94L8.5 2.5l-.94 2.06-2.06.94zm10 10l.94 2.06.94-2.06 2.06-.94-2.06-.94-.94-2.06-.94 2.06-2.06.94z\"/><path d=\"M17.41 7.96l-1.37-1.37c-.4-.4-.92-.59-1.43-.59-.52 0-1.04.2-1.43.59L10.3 9.45l-7.72 7.72c-.78.78-.78 2.05 0 2.83L4 21.41c.39.39.9.59 1.41.59.51 0 1.02-.2 1.41-.59l7.78-7.78 2.81-2.81c.8-.78.8-2.07 0-2.86zM5.41 20L4 18.59l7.72-7.72 1.47 1.35L5.41 20z\"/>\n",
              "  </svg>\n",
              "      </button>\n",
              "      \n",
              "  <style>\n",
              "    .colab-df-container {\n",
              "      display:flex;\n",
              "      flex-wrap:wrap;\n",
              "      gap: 12px;\n",
              "    }\n",
              "\n",
              "    .colab-df-convert {\n",
              "      background-color: #E8F0FE;\n",
              "      border: none;\n",
              "      border-radius: 50%;\n",
              "      cursor: pointer;\n",
              "      display: none;\n",
              "      fill: #1967D2;\n",
              "      height: 32px;\n",
              "      padding: 0 0 0 0;\n",
              "      width: 32px;\n",
              "    }\n",
              "\n",
              "    .colab-df-convert:hover {\n",
              "      background-color: #E2EBFA;\n",
              "      box-shadow: 0px 1px 2px rgba(60, 64, 67, 0.3), 0px 1px 3px 1px rgba(60, 64, 67, 0.15);\n",
              "      fill: #174EA6;\n",
              "    }\n",
              "\n",
              "    [theme=dark] .colab-df-convert {\n",
              "      background-color: #3B4455;\n",
              "      fill: #D2E3FC;\n",
              "    }\n",
              "\n",
              "    [theme=dark] .colab-df-convert:hover {\n",
              "      background-color: #434B5C;\n",
              "      box-shadow: 0px 1px 3px 1px rgba(0, 0, 0, 0.15);\n",
              "      filter: drop-shadow(0px 1px 2px rgba(0, 0, 0, 0.3));\n",
              "      fill: #FFFFFF;\n",
              "    }\n",
              "  </style>\n",
              "\n",
              "      <script>\n",
              "        const buttonEl =\n",
              "          document.querySelector('#df-58ef596c-602a-4d8a-93ec-2a6b680ecce0 button.colab-df-convert');\n",
              "        buttonEl.style.display =\n",
              "          google.colab.kernel.accessAllowed ? 'block' : 'none';\n",
              "\n",
              "        async function convertToInteractive(key) {\n",
              "          const element = document.querySelector('#df-58ef596c-602a-4d8a-93ec-2a6b680ecce0');\n",
              "          const dataTable =\n",
              "            await google.colab.kernel.invokeFunction('convertToInteractive',\n",
              "                                                     [key], {});\n",
              "          if (!dataTable) return;\n",
              "\n",
              "          const docLinkHtml = 'Like what you see? Visit the ' +\n",
              "            '<a target=\"_blank\" href=https://colab.research.google.com/notebooks/data_table.ipynb>data table notebook</a>'\n",
              "            + ' to learn more about interactive tables.';\n",
              "          element.innerHTML = '';\n",
              "          dataTable['output_type'] = 'display_data';\n",
              "          await google.colab.output.renderOutput(dataTable, element);\n",
              "          const docLink = document.createElement('div');\n",
              "          docLink.innerHTML = docLinkHtml;\n",
              "          element.appendChild(docLink);\n",
              "        }\n",
              "      </script>\n",
              "    </div>\n",
              "  </div>\n",
              "  "
            ]
          },
          "metadata": {},
          "execution_count": 26
        }
      ]
    },
    {
      "cell_type": "code",
      "source": [
        "## Objective Function\n",
        "def objective_rule(model):\n",
        "  for i in range(1,len(model.typ)+1): ##i for var\n",
        "    if model.typ[i] == \"Media\":\n",
        "      \n"
      ],
      "metadata": {
        "colab": {
          "base_uri": "https://localhost:8080/"
        },
        "id": "1drEUEYYYzpw",
        "outputId": "f3e51eed-0fcc-4d75-e64e-f2b042acee25"
      },
      "execution_count": null,
      "outputs": [
        {
          "output_type": "execute_result",
          "data": {
            "text/plain": [
              "0.0"
            ]
          },
          "metadata": {},
          "execution_count": 41
        }
      ]
    },
    {
      "cell_type": "code",
      "source": [],
      "metadata": {
        "id": "6vKw3CZcIW07"
      },
      "execution_count": null,
      "outputs": []
    },
    {
      "cell_type": "code",
      "source": [],
      "metadata": {
        "id": "1eVzI0ezIW69"
      },
      "execution_count": null,
      "outputs": []
    },
    {
      "cell_type": "code",
      "source": [
        "\n",
        "from pyomo.environ import *"
      ],
      "metadata": {
        "id": "GlgWD23HrGza"
      },
      "execution_count": null,
      "outputs": []
    },
    {
      "cell_type": "markdown",
      "source": [
        "CPP = Spends/Raw Execution(RE)\n",
        "\n",
        "RE = Spends/CPP\n",
        "\n",
        "Adstocked execution = RE * Adstock factor(AF)\n",
        "= (Spends/CPP)*AF\n",
        "\n",
        "Avg adst execution = (Spends*AF/CPP)/Exec. periods\n",
        "\n",
        "Now apply transformation on Avg adst execution to get TCP\n",
        "\n",
        "Lift = TCP * Exec. periods * coeffcient\n",
        "\n",
        "Put lift in Optimization equation\n",
        "\n"
      ],
      "metadata": {
        "id": "vDl3_yv8MKPF"
      }
    },
    {
      "cell_type": "code",
      "source": [
        "## Defining the model\n",
        "import numpy as np\n",
        "#import math\n",
        "from pyomo.environ import *\n",
        "model = pyo.ConcreteModel()\n",
        "\n",
        "\n",
        "sp1 = 33150.8411764706\n",
        "sp2 = 233150.268146738\n",
        "\n",
        "\n",
        "## Decision Variables\n",
        "model.s1 = pyo.Var(within = pyo.NonNegativeReals,bounds=(.9*sp1,1.1*sp1)) \n",
        "s1 = model.s1\n",
        "model.s2 = pyo.Var(within = pyo.NonNegativeReals,bounds=(.9*sp2,1.1*sp2))\n",
        "s2 = model.s2\n",
        "\n",
        "\n",
        "expre = ((1953.64352941177/(1+exp(-(10*3/1953.64352941177)*((s1*1/47/1)-0.179872867132035*1953.64352941177))))-8.81752993140885)*0.00133831972924945*47 + ((11441.0307432077/(1+exp(-(10*1/11441.0307432077)*((s2*1/1/154)-0.202998593210211*11441.0307432077))))-1328.19344200206)*0.00245568243410747*154\n",
        "\n",
        "## Objective Function\n",
        "model.Obj = pyo.Objective(expr =expre, sense = pyo.maximize)\n",
        "\n",
        "## Constraint\n",
        "model.Const1 = pyo.Constraint(expr = s1+s2<=266301.109323209)\n",
        "\n",
        "\n",
        "\n",
        "optm = SolverFactory('couenne',executable='/content/couenne')\n",
        "results = optm.solve(model)\n",
        "\n",
        "\n",
        "\n",
        "print('objective function =', model.Obj())\n",
        "print('s1 = ',model.s1())\n",
        "print('s2 = ',model.s2())\n",
        "\n",
        "print('sum total = ',model.s1()+model.s2())"
      ],
      "metadata": {
        "colab": {
          "base_uri": "https://localhost:8080/"
        },
        "id": "3f5PVuz2rNtw",
        "outputId": "1fad7be9-a655-4603-ed33-8a15cd48614b"
      },
      "execution_count": null,
      "outputs": [
        {
          "output_type": "stream",
          "name": "stdout",
          "text": [
            "objective function = 1065.7698788838547\n",
            "s1 =  29835.757357158283\n",
            "s2 =  236465.35226438538\n",
            "sum total =  266301.10962154367\n"
          ]
        }
      ]
    },
    {
      "cell_type": "code",
      "source": [],
      "metadata": {
        "id": "e7bPVDKqxBBd"
      },
      "execution_count": null,
      "outputs": []
    },
    {
      "cell_type": "code",
      "source": [
        "# model.s3 = pyo.Var(within = pyo.NonNegativeReals,bounds=(.7*sp3,1.3*sp3))\n",
        "# s3 = model.s3\n",
        "# model.s4 = pyo.Var(within = pyo.NonNegativeReals,bounds=(.7*sp4,1.3*sp4))\n",
        "# s4 = model.s4\n",
        "# model.s5 = pyo.Var(within = pyo.NonNegativeReals,bounds=(.7*sp5,1.3*sp5))\n",
        "# s5 = model.s5\n",
        "# model.s6 = pyo.Var(within = pyo.NonNegativeReals,bounds=(.7*sp6,1.3*sp6))\n",
        "# s6 = model.s6"
      ],
      "metadata": {
        "id": "GOSfnaKPtjcK"
      },
      "execution_count": null,
      "outputs": []
    },
    {
      "cell_type": "code",
      "source": [],
      "metadata": {
        "id": "6aJx9n1AWXLq"
      },
      "execution_count": null,
      "outputs": []
    }
  ]
}