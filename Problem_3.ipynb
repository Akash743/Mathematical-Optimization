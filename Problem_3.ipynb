{
  "nbformat": 4,
  "nbformat_minor": 0,
  "metadata": {
    "colab": {
      "name": "Problem-3.ipynb",
      "provenance": [],
      "collapsed_sections": [],
      "authorship_tag": "ABX9TyN0ANX80Ll2rsaTgaJHBQeO",
      "include_colab_link": true
    },
    "kernelspec": {
      "name": "python3",
      "display_name": "Python 3"
    },
    "language_info": {
      "name": "python"
    }
  },
  "cells": [
    {
      "cell_type": "markdown",
      "metadata": {
        "id": "view-in-github",
        "colab_type": "text"
      },
      "source": [
        "<a href=\"https://colab.research.google.com/github/Akash743/Mathematical-Optimization/blob/main/Problem_3.ipynb\" target=\"_parent\"><img src=\"https://colab.research.google.com/assets/colab-badge.svg\" alt=\"Open In Colab\"/></a>"
      ]
    },
    {
      "cell_type": "code",
      "execution_count": 6,
      "metadata": {
        "colab": {
          "base_uri": "https://localhost:8080/"
        },
        "id": "DK_uSzrQMluv",
        "outputId": "3b268b95-d5fb-4ada-eea7-a84067510043"
      },
      "outputs": [
        {
          "output_type": "stream",
          "name": "stdout",
          "text": [
            "Looking in indexes: https://pypi.org/simple, https://us-python.pkg.dev/colab-wheels/public/simple/\n",
            "Collecting pyomo\n",
            "  Downloading Pyomo-6.4.1-cp37-cp37m-manylinux_2_12_x86_64.manylinux2010_x86_64.whl (9.6 MB)\n",
            "\u001b[K     |████████████████████████████████| 9.6 MB 5.2 MB/s \n",
            "\u001b[?25hCollecting ply\n",
            "  Downloading ply-3.11-py2.py3-none-any.whl (49 kB)\n",
            "\u001b[K     |████████████████████████████████| 49 kB 4.7 MB/s \n",
            "\u001b[?25hInstalling collected packages: ply, pyomo\n",
            "Successfully installed ply-3.11 pyomo-6.4.1\n",
            "Selecting previously unselected package libsuitesparseconfig5:amd64.\n",
            "(Reading database ... 155680 files and directories currently installed.)\n",
            "Preparing to unpack .../libsuitesparseconfig5_1%3a5.1.2-2_amd64.deb ...\n",
            "Unpacking libsuitesparseconfig5:amd64 (1:5.1.2-2) ...\n",
            "Selecting previously unselected package libamd2:amd64.\n",
            "Preparing to unpack .../libamd2_1%3a5.1.2-2_amd64.deb ...\n",
            "Unpacking libamd2:amd64 (1:5.1.2-2) ...\n",
            "Selecting previously unselected package libcolamd2:amd64.\n",
            "Preparing to unpack .../libcolamd2_1%3a5.1.2-2_amd64.deb ...\n",
            "Unpacking libcolamd2:amd64 (1:5.1.2-2) ...\n",
            "Selecting previously unselected package libglpk40:amd64.\n",
            "Preparing to unpack .../libglpk40_4.65-1_amd64.deb ...\n",
            "Unpacking libglpk40:amd64 (4.65-1) ...\n",
            "Selecting previously unselected package glpk-utils.\n",
            "Preparing to unpack .../glpk-utils_4.65-1_amd64.deb ...\n",
            "Unpacking glpk-utils (4.65-1) ...\n",
            "Setting up libsuitesparseconfig5:amd64 (1:5.1.2-2) ...\n",
            "Setting up libcolamd2:amd64 (1:5.1.2-2) ...\n",
            "Setting up libamd2:amd64 (1:5.1.2-2) ...\n",
            "Setting up libglpk40:amd64 (4.65-1) ...\n",
            "Setting up glpk-utils (4.65-1) ...\n",
            "Processing triggers for libc-bin (2.27-3ubuntu1.5) ...\n",
            "Processing triggers for man-db (2.8.3-2ubuntu0.1) ...\n"
          ]
        }
      ],
      "source": [
        "!pip install pyomo\n",
        "!apt-get install -y -qq glpk-utils  #glpk is the solver\n",
        "import pyomo.environ as pyo\n",
        "from pyomo.opt import SolverFactory"
      ]
    },
    {
      "cell_type": "code",
      "source": [
        "model = pyo.ConcreteModel()\n",
        "\n",
        "# Sets\n",
        "model.i = pyo.RangeSet(1,3) #for no. of plants\n",
        "model.j = pyo.RangeSet(1,4) #for no. of cities\n",
        "# range can be useful when no. of vars is high and we don't want to name them\n",
        "\n",
        "\"\"\"\n",
        "Above is equivalent of this.\n",
        "model.i = pyo.Set('Plant1','Plant2','Plannt3')\n",
        "model.j = pyo.Set('City1','City2','City3','City4')\n",
        "\"\"\"\n",
        "\n",
        "# Parameters\n",
        "  #Supply side(S)\n",
        "model.S = pyo.Param(model.i,initialize = {1:35,2:50,3:40})\n",
        "S = model.S\n",
        "  #Demand side(D)\n",
        "model.D = pyo.Param(model.j,initialize = {1:45,2:20,3:30,4:30})\n",
        "D = model.D\n",
        "  # Price\n",
        "model.P = pyo.Param(model.i, model.j, initialize = {(1,1):8,(1,2):6,(1,3):10,(1,4):9, #Plant 1 ---> City 1, 2, 3, 4\n",
        "                                                    (2,1):9,(2,2):12,(2,3):13,(2,4):7, #Plant 2 ---> City 1, 2, 3, 4\n",
        "                                                    (3,1):14,(3,2):9,(3,3):16,(3,4):5}) #Plant 3 ---> City 1, 2, 3, 4\n",
        "                                                    #since price requires both\n",
        "                                                    #In other notation, could have written\n",
        "                                                    #(1,1):8 ==> (\"Plant1\",\"City1\"):8 and so on...\n",
        "P = model.P\n",
        "\n",
        "# Variables\n",
        "model.x = pyo.Var(model.i,model.j,within = pyo.NonNegativeReals)\n",
        "x = model.x\n",
        "\n",
        "# Objective Function\n",
        "def Objective_rule(model):\n",
        "  return sum(sum(P[i,j]*x[i,j] for i in model.i) for j in model.j)\n",
        "\n",
        "model.Objf = pyo.Objective(rule = Objective_rule, sense = pyo.minimize)\n",
        "\n",
        "# Constraints \n",
        "\n",
        "  #Supply\n",
        "def Constraint1(model,i):\n",
        "  return sum(x[1,j] for j in model.j) <= S[1]\n",
        "model.Const1 = pyo.Constraint(model.j, rule = Constraint1)  \n",
        "\n",
        "def Constraint2(model,i):\n",
        "  return sum(x[2,j] for j in model.j) <= S[2]\n",
        "model.Const2 = pyo.Constraint(model.j, rule = Constraint2)  \n",
        "\n",
        "def Constraint3(model,i):\n",
        "  return sum(x[3,j] for j in model.j) <= S[3]\n",
        "model.Const3 = pyo.Constraint(model.j, rule = Constraint3)  \n",
        "\n",
        "  #Demand\n",
        "def Constraint4(model,i):\n",
        "  return sum(x[i,1] for i in model.i) >= D[1]\n",
        "model.Const4 = pyo.Constraint(model.i, rule = Constraint4)  \n",
        "\n",
        "def Constraint5(model,i):\n",
        "  return sum(x[i,2] for i in model.i) >= D[2]\n",
        "model.Const5 = pyo.Constraint(model.i, rule = Constraint5)  \n",
        "\n",
        "def Constraint6(model,i):\n",
        "  return sum(x[i,3] for i in model.i) >= D[3]\n",
        "model.Const6 = pyo.Constraint(model.i, rule = Constraint6)  \n",
        "\n",
        "def Constraint7(model,i):\n",
        "  return sum(x[i,4] for i in model.i) >= D[4]\n",
        "model.Const7 = pyo.Constraint(model.i, rule = Constraint7)  \n"
      ],
      "metadata": {
        "id": "oL6UbBuFMpjg"
      },
      "execution_count": 7,
      "outputs": []
    },
    {
      "cell_type": "code",
      "source": [
        "Solver = SolverFactory('glpk')\n",
        "results = Solver.solve(model)\n",
        "\n",
        "print(results)\n",
        "print('objective Function =', model.Objf())\n",
        "\n",
        "for i in model.i:\n",
        "  for j in model.j:\n",
        "    print('Electricity sent from Plant',i,'to City',j,'=',x[i,j]())"
      ],
      "metadata": {
        "colab": {
          "base_uri": "https://localhost:8080/"
        },
        "id": "F4A6KjDUHk-7",
        "outputId": "7bdb0366-7351-4b8b-f887-649eb695bd46"
      },
      "execution_count": 9,
      "outputs": [
        {
          "output_type": "stream",
          "name": "stdout",
          "text": [
            "\n",
            "Problem: \n",
            "- Name: unknown\n",
            "  Lower bound: 1020.0\n",
            "  Upper bound: 1020.0\n",
            "  Number of objectives: 1\n",
            "  Number of constraints: 25\n",
            "  Number of variables: 13\n",
            "  Number of nonzeros: 85\n",
            "  Sense: minimize\n",
            "Solver: \n",
            "- Status: ok\n",
            "  Termination condition: optimal\n",
            "  Statistics: \n",
            "    Branch and bound: \n",
            "      Number of bounded subproblems: 0\n",
            "      Number of created subproblems: 0\n",
            "  Error rc: 0\n",
            "  Time: 0.012346982955932617\n",
            "Solution: \n",
            "- number of solutions: 0\n",
            "  number of solutions displayed: 0\n",
            "\n",
            "objective Function = 1020.0\n",
            "Electricity sent from Plant 1 to City 1 = 0.0\n",
            "Electricity sent from Plant 1 to City 2 = 10.0\n",
            "Electricity sent from Plant 1 to City 3 = 25.0\n",
            "Electricity sent from Plant 1 to City 4 = 0.0\n",
            "Electricity sent from Plant 2 to City 1 = 45.0\n",
            "Electricity sent from Plant 2 to City 2 = 0.0\n",
            "Electricity sent from Plant 2 to City 3 = 5.0\n",
            "Electricity sent from Plant 2 to City 4 = 0.0\n",
            "Electricity sent from Plant 3 to City 1 = 0.0\n",
            "Electricity sent from Plant 3 to City 2 = 10.0\n",
            "Electricity sent from Plant 3 to City 3 = 0.0\n",
            "Electricity sent from Plant 3 to City 4 = 30.0\n"
          ]
        }
      ]
    },
    {
      "cell_type": "code",
      "source": [
        ""
      ],
      "metadata": {
        "id": "eEt__qh1KlK2"
      },
      "execution_count": null,
      "outputs": []
    }
  ]
}